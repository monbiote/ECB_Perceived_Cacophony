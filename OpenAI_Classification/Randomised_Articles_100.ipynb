{
 "cells": [
  {
   "cell_type": "code",
   "execution_count": null,
   "metadata": {},
   "outputs": [],
   "source": [
    "import pandas as pd"
   ]
  },
  {
   "cell_type": "code",
   "execution_count": null,
   "metadata": {},
   "outputs": [],
   "source": [
    "# Relative path to the Excel file from the current notebook's location\n",
    "file_path = r\"C:\\Users\\monbi\\OneDrive\\Documents\\BSE\\Term 3\\Masters Thesis\\ECB_Perceived_Cacophony\\combined_updated.xlsx\"\n",
    "\n",
    "# Read the Excel file\n",
    "df = pd.read_excel(file_path)\n",
    "\n",
    "\n",
    "# Display the first 20 rows\n",
    "df.head(15)\n"
   ]
  },
  {
   "cell_type": "code",
   "execution_count": null,
   "metadata": {},
   "outputs": [],
   "source": [
    "# Count unique values in the original Manual.summary column\n",
    "original_unique_count = df['Manual.summary'].nunique()\n",
    "\n",
    "# Count the total number of rows with NaN in Manual.summary\n",
    "nan_count = df['Manual.summary'].isna().sum()\n",
    "\n",
    "# Drop rows with NaN values in the Manual.summary column\n",
    "df_cleaned = df.dropna(subset=['Manual.summary'])\n",
    "\n",
    "# Count unique values in the Manual.summary column after dropping NaNs\n",
    "unique_count_after_nan_drop = df_cleaned['Manual.summary'].nunique()\n",
    "\n",
    "# Remove duplicate entries in the Manual.summary column\n",
    "df_cleaned = df_cleaned.drop_duplicates(subset=['Manual.summary'])\n",
    "\n",
    "df_cleaned.head(15)\n",
    "\n",
    "\n",
    "\n"
   ]
  },
  {
   "cell_type": "code",
   "execution_count": null,
   "metadata": {},
   "outputs": [],
   "source": [
    "# Count unique values in the cleaned Manual.summary column\n",
    "cleaned_unique_count = df_cleaned['Manual.summary'].nunique()\n",
    "\n",
    "# Display the counts\n",
    "\n",
    "print(\"Total number of rows with NaN in 'Manual.summary':\", nan_count)\n",
    "print(\"Unique count in 'Manual.summary' after dropping NaNs:\", unique_count_after_nan_drop)\n",
    "print(\"Original unique count in 'Manual.summary':\", original_unique_count)\n",
    "print(\"Cleaned unique count in 'Manual.summary':\", cleaned_unique_count)"
   ]
  },
  {
   "cell_type": "code",
   "execution_count": null,
   "metadata": {},
   "outputs": [],
   "source": [
    "# Set the random seed for reproducibility\n",
    "random_seed = 42\n",
    "\n",
    "# Randomly sample 100 rows\n",
    "Articles_to_Score = df_cleaned.sample(n=100, random_state=random_seed)\n",
    "\n",
    "# Select the Manual.summary column and add an empty Score column\n",
    "Articles_to_Score = Articles_to_Score[['Manual.summary']].copy()\n",
    "Articles_to_Score['Score'] = ''\n",
    "\n",
    "# Reset the index of the sampled DataFrame\n",
    "Articles_to_Score.reset_index(drop=True, inplace=True)\n",
    "\n",
    "Articles_to_Score"
   ]
  },
  {
   "cell_type": "code",
   "execution_count": null,
   "metadata": {},
   "outputs": [],
   "source": [
    "Articles_to_Score.to_excel(r\"C:\\Users\\monbi\\OneDrive\\Documents\\BSE\\Term 3\\Masters Thesis\\ECB_Perceived_Cacophony\\Articles_to_Score.xlsx\", sheet_name='Randomised_Articles', index=True)"
   ]
  }
 ],
 "metadata": {
  "kernelspec": {
   "display_name": "base",
   "language": "python",
   "name": "python3"
  },
  "language_info": {
   "codemirror_mode": {
    "name": "ipython",
    "version": 3
   },
   "file_extension": ".py",
   "mimetype": "text/x-python",
   "name": "python",
   "nbconvert_exporter": "python",
   "pygments_lexer": "ipython3",
   "version": "3.11.7"
  }
 },
 "nbformat": 4,
 "nbformat_minor": 2
}
