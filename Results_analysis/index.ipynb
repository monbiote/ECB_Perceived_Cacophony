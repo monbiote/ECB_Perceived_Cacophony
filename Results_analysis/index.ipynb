{
 "cells": [
  {
   "cell_type": "code",
   "execution_count": null,
   "metadata": {},
   "outputs": [],
   "source": [
    "import pandas as pd\n",
    "import numpy as np\n",
    "import matplotlib.pyplot as plt\n",
    "import seaborn as sns"
   ]
  },
  {
   "cell_type": "code",
   "execution_count": null,
   "metadata": {},
   "outputs": [],
   "source": [
    "pd.reset_option('all')"
   ]
  },
  {
   "cell_type": "code",
   "execution_count": null,
   "metadata": {},
   "outputs": [],
   "source": [
    "import os\n",
    "os.chdir('/Users/ruimaciel/Desktop/Barcelona/Master_Thesis/ECB_Perceived_Cacophony')\n",
    "\n",
    "current_working_directory = os.getcwd()\n",
    "print(\"Current Working Directory:\", current_working_directory)\n"
   ]
  },
  {
   "cell_type": "code",
   "execution_count": null,
   "metadata": {},
   "outputs": [],
   "source": [
    "df_index=pd.read_csv('./Rui_final_notebooks/df_ready_for_index.csv')"
   ]
  },
  {
   "cell_type": "code",
   "execution_count": null,
   "metadata": {},
   "outputs": [],
   "source": [
    "# Convert 'Date' column to datetime\n",
    "df_index['Date'] = pd.to_datetime(df_index['Date'], errors='coerce')"
   ]
  },
  {
   "cell_type": "code",
   "execution_count": null,
   "metadata": {},
   "outputs": [],
   "source": [
    "# Count occurrences of each unique value in 'Name_of_Speaker'\n",
    "name_counts = df_index['Name_of_Speaker'].value_counts()\n",
    "print(name_counts)\n",
    "\n",
    "\n",
    "# Plotting the counts\n",
    "plt.figure(figsize=(10, 8))  # Set the figure size for better readability\n",
    "name_counts.plot(kind='bar', color='skyblue')  # Create a bar plot\n",
    "plt.title('Count of Each Speaker in Data')  # Title of the plot\n",
    "plt.xlabel('Name of Speaker')  # Label for the x-axis\n",
    "plt.ylabel('Counts')  # Label for the y-axis\n",
    "plt.xticks(rotation=45, ha='right')  # Rotate the x-axis labels for better readability\n",
    "plt.tight_layout()  # Adjust subplots to give some padding\n",
    "plt.show()  # Display the plot"
   ]
  },
  {
   "cell_type": "code",
   "execution_count": null,
   "metadata": {},
   "outputs": [],
   "source": [
    "print(df_index.dtypes)"
   ]
  },
  {
   "cell_type": "code",
   "execution_count": null,
   "metadata": {},
   "outputs": [],
   "source": [
    "df_index"
   ]
  },
  {
   "cell_type": "code",
   "execution_count": null,
   "metadata": {},
   "outputs": [],
   "source": [
    "df_index.reset_index(drop=True, inplace=True)"
   ]
  },
  {
   "cell_type": "code",
   "execution_count": null,
   "metadata": {},
   "outputs": [],
   "source": [
    "df_index.drop(columns=['Unnamed: 0'], inplace=True)"
   ]
  },
  {
   "cell_type": "code",
   "execution_count": null,
   "metadata": {},
   "outputs": [],
   "source": [
    "df_index"
   ]
  },
  {
   "cell_type": "markdown",
   "metadata": {},
   "source": [
    "# Aggregrating per ecb policy statement"
   ]
  },
  {
   "cell_type": "code",
   "execution_count": null,
   "metadata": {},
   "outputs": [],
   "source": [
    "filtered_df = df_index[df_index['Position'] == 'Monetary Policy Statement']\n",
    "filtered_df\n"
   ]
  },
  {
   "cell_type": "code",
   "execution_count": null,
   "metadata": {},
   "outputs": [],
   "source": [
    "# Given dates\n",
    "dates = [\n",
    " '2023-12-14','2023-10-26', '2023-09-14', \n",
    "    '2023-07-27', '2023-06-15', '2023-05-04', '2023-03-16', '2023-02-02', \n",
    "    '2022-12-15', '2022-10-27', '2022-09-08', '2022-07-21'\n",
    "]\n",
    "date_df = pd.DataFrame({'Date': pd.to_datetime(dates)})\n",
    "\n",
    "# Filter the DataFrame to only include data up to December 2023\n",
    "df_index = df_index[df_index['Position'] != 'Monetary Policy Statement']\n"
   ]
  },
  {
   "cell_type": "code",
   "execution_count": null,
   "metadata": {},
   "outputs": [],
   "source": [
    "# Function to find the period for each date in df_index\n",
    "def find_period(date, periods):\n",
    "    for i in range(len(periods) - 1):\n",
    "        if periods[i] <= date < periods[i + 1]:\n",
    "            return periods[i]\n",
    "    return periods.iloc[-1]  # Use iloc to access the last element\n",
    "\n",
    "# Sort periods to ensure correct interval assignment\n",
    "periods = date_df['Date'].sort_values().reset_index(drop=True)\n",
    "\n",
    "# Add a period column to the main DataFrame\n",
    "df_index['Period'] = df_index['Date'].apply(lambda x: find_period(x, periods))\n",
    "\n",
    "df_index"
   ]
  },
  {
   "cell_type": "code",
   "execution_count": null,
   "metadata": {},
   "outputs": [],
   "source": [
    "# Group by 'Date' and 'Name_of_Speaker', and count the occurrences\n",
    "speaker_counts = df_index.groupby(['Period', 'Name_of_Speaker']).size().reset_index(name='Counts')\n",
    "\n",
    "# To display the result\n",
    "print(speaker_counts)"
   ]
  },
  {
   "cell_type": "code",
   "execution_count": null,
   "metadata": {},
   "outputs": [],
   "source": [
    "import pandas as pd\n",
    "\n",
    "# Assuming df_index is your DataFrame\n",
    "# Load your data into df_index, for example by reading from a CSV\n",
    "# df_index = pd.read_csv('path_to_your_file.csv')\n",
    "\n",
    "# Step 1: Group by 'Period' and 'Name_of_Speaker', and count the occurrences\n",
    "speaker_counts = df_index.groupby(['Period', 'Name_of_Speaker']).size().reset_index(name='Counts')\n",
    "\n",
    "# Step 2: Create a DataFrame with all combinations of 'Period' and 'Name_of_Speaker'\n",
    "all_periods = pd.DataFrame(df_index['Period'].unique(), columns=['Period'])\n",
    "all_speakers = pd.DataFrame(df_index['Name_of_Speaker'].unique(), columns=['Name_of_Speaker'])\n",
    "all_combinations = all_periods.assign(key=1).merge(all_speakers.assign(key=1), on='key').drop('key', axis=1)\n",
    "\n",
    "# Step 3: Merge and set counts of missing records to zero\n",
    "full_data = all_combinations.merge(speaker_counts, on=['Period', 'Name_of_Speaker'], how='left')\n",
    "full_data['Counts'] = full_data['Counts'].fillna(0)  # Set NaN counts to 0\n",
    "\n",
    "\n",
    "# Filter to find records where counts are less than 5\n",
    "few_records = full_data[full_data['Counts'] < 5]\n",
    "\n",
    "# Display results: speakers and periods with counts under 5\n",
    "print(\"Speakers and Periods with Counts Under 5:\")\n",
    "print(few_records[['Period', 'Name_of_Speaker']])\n",
    "\n",
    "\n"
   ]
  },
  {
   "cell_type": "code",
   "execution_count": null,
   "metadata": {},
   "outputs": [],
   "source": [
    "# Count the number of times each speaker appears with counts under 5\n",
    "speaker_few_count_frequency = few_records.groupby('Name_of_Speaker').size()\n",
    "\n",
    "# Print the number of times each speaker appears with counts under 5\n",
    "print(\"\\nFrequency of Speakers with Counts Under 5:\")\n",
    "print(speaker_few_count_frequency)"
   ]
  },
  {
   "cell_type": "code",
   "execution_count": null,
   "metadata": {},
   "outputs": [],
   "source": [
    "import pandas as pd\n",
    "\n",
    "# Assuming df_index is your DataFrame\n",
    "# Load your data into df_index, for example by reading from a CSV\n",
    "# df_index = pd.read_csv('path_to_your_file.csv')\n",
    "\n",
    "# Calculate mean sentiment per period for each speaker\n",
    "speaker_result = df_index.groupby(['Period', 'Name_of_Speaker'])['Sentiment'].mean().reset_index()\n",
    "\n",
    "# Filter out the specific period of 2023-12-14\n",
    "speaker_result = speaker_result[speaker_result['Period'] != '2023-12-14']\n",
    "\n",
    "# Display the result\n",
    "speaker_result\n",
    "\n"
   ]
  },
  {
   "cell_type": "code",
   "execution_count": null,
   "metadata": {},
   "outputs": [],
   "source": [
    "combined_result=pd.DataFrame(speaker_result)\n",
    "\n",
    "combined_result"
   ]
  },
  {
   "cell_type": "markdown",
   "metadata": {},
   "source": [
    "### Verify Data"
   ]
  },
  {
   "cell_type": "code",
   "execution_count": null,
   "metadata": {},
   "outputs": [],
   "source": [
    "# Get unique names of speakers\n",
    "speaker_result = combined_result['Name_of_Speaker'].unique()\n",
    "\n",
    "# Convert to DataFrame\n",
    "unique_speakers_df = pd.DataFrame(combined_result, columns=['Name_of_Speaker'])\n",
    "unique_speakers_df"
   ]
  },
  {
   "cell_type": "code",
   "execution_count": null,
   "metadata": {},
   "outputs": [],
   "source": [
    "df_governors = pd.read_csv(r\"./ECB_Governors_Analysis/ecb_governing_council.csv\")\n",
    "\n",
    "# Overwrite the 'Position' column with 'Executive Role' values where 'Executive Role' is populated\n",
    "df_governors['Position'] = df_governors['Executive Role'].combine_first(df_governors['Position'])\n",
    "\n",
    "# Select only the columns 'Full Name', 'Country', and 'Position'\n",
    "df_governors = df_governors[['Full Name', 'Country', 'Position']]\n",
    "\n",
    "df_governors"
   ]
  },
  {
   "cell_type": "code",
   "execution_count": null,
   "metadata": {},
   "outputs": [],
   "source": [
    "# Merge the two dataframes on the speaker names to see if all match\n",
    "merged_df = pd.merge(unique_speakers_df, df_governors, left_on='Name_of_Speaker', right_on='Full Name', how='outer', indicator=True)\n",
    "\n",
    "# Display mismatches\n",
    "mismatches = merged_df[merged_df['_merge'] != 'both']\n",
    "\n",
    "# Check if there are any mismatches\n",
    "if mismatches.empty:\n",
    "    print(\"All speakers in unique_speakers_df match with df_governors.\")\n",
    "else:\n",
    "    print(\"There are mismatches between unique_speakers_df and df_governors:\")\n",
    "    print(mismatches[['Name_of_Speaker', 'Full Name', '_merge']])\n"
   ]
  },
  {
   "cell_type": "code",
   "execution_count": null,
   "metadata": {},
   "outputs": [],
   "source": [
    "# Check vice-versa: Ensure all entries in df_governors are in unique_speakers_df\n",
    "reverse_merged_df = pd.merge(df_governors, unique_speakers_df, left_on='Full Name', right_on='Name_of_Speaker', how='outer', indicator=True)\n",
    "\n",
    "# Display reverse mismatches\n",
    "reverse_mismatches = reverse_merged_df[reverse_merged_df['_merge'] != 'both']\n",
    "\n",
    "# Check if there are any reverse mismatches\n",
    "if reverse_mismatches.empty:\n",
    "    print(\"All entries in df_governors match with unique_speakers_df and vice-versa.\")\n",
    "else:\n",
    "    print(\"There are reverse mismatches between df_governors and unique_speakers_df:\")\n",
    "    print(reverse_mismatches[['Full Name', 'Name_of_Speaker', '_merge']])"
   ]
  },
  {
   "cell_type": "markdown",
   "metadata": {},
   "source": [
    "## Taking care of Panetta"
   ]
  },
  {
   "cell_type": "code",
   "execution_count": null,
   "metadata": {},
   "outputs": [],
   "source": [
    "combined_result"
   ]
  },
  {
   "cell_type": "code",
   "execution_count": null,
   "metadata": {},
   "outputs": [],
   "source": [
    "# Check if 'Fabio Panetta' is present in the 'Name_of_Speaker' column\n",
    "fabio_panetta_rows = combined_result[combined_result['Name_of_Speaker'] == 'Fabio Panetta']\n",
    "\n",
    "# Display the rows with 'Fabio Panetta'\n",
    "print(fabio_panetta_rows)"
   ]
  },
  {
   "cell_type": "code",
   "execution_count": null,
   "metadata": {},
   "outputs": [],
   "source": [
    "\n",
    "# Function to apply the changes based on conditions\n",
    "def modify_speaker(row):\n",
    "    if row['Name_of_Speaker'] == 'Fabio Panetta':\n",
    "        # Before November 2023\n",
    "        if row['Period'] < pd.to_datetime('2023-10-31'):\n",
    "            row['Country'] = 'Fabio Panetta'\n",
    "        # During November and December 2023\n",
    "        elif row['Period'] >= pd.to_datetime('2023-11-01'):\n",
    "            row['Name_of_Speaker'] = 'Fabio Panetta_IT'\n",
    "            row['Country'] = 'Italy'\n",
    "    return row\n",
    "\n",
    "# Apply modifications to the DataFrame\n",
    "combined_result = combined_result.apply(modify_speaker, axis=1)\n",
    "\n",
    "# Explicitly set Country for 'Fabio Panetta' before 2023-11\n",
    "combined_result.loc[(combined_result['Name_of_Speaker'] == 'Fabio Panetta') & (combined_result['Period'] < pd.to_datetime('2023-11-01')), 'Country'] = 'Fabio Panetta'\n"
   ]
  },
  {
   "cell_type": "code",
   "execution_count": null,
   "metadata": {},
   "outputs": [],
   "source": [
    "# Check if 'Fabio Panetta' is present in the 'Name_of_Speaker' column\n",
    "fabio_panetta_rows = combined_result[combined_result['Name_of_Speaker'] == 'Fabio Panetta']\n",
    "\n",
    "# Display the rows with 'Fabio Panetta'\n",
    "print(fabio_panetta_rows)"
   ]
  },
  {
   "cell_type": "code",
   "execution_count": null,
   "metadata": {},
   "outputs": [],
   "source": [
    "# Display rows where changes are related to Fabio Panetta\n",
    "filtered_rows = combined_result[combined_result['Name_of_Speaker'].str.contains('Fabio Panetta_IT')]\n",
    "print(filtered_rows)\n"
   ]
  },
  {
   "cell_type": "code",
   "execution_count": null,
   "metadata": {},
   "outputs": [],
   "source": [
    "combined_result = combined_result[~((combined_result['Name_of_Speaker'] == 'Ignazio Visco') & (combined_result['Period'] > pd.to_datetime('2023-11-01')))]\n",
    "\n",
    "# Check if 'Fabio Panetta' is present in the 'Name_of_Speaker' column\n",
    "fabio_panetta_rows = combined_result[combined_result['Name_of_Speaker'] == 'Ignazio Visco']\n",
    "\n",
    "# Display the rows with 'Fabio Panetta'\n",
    "print(fabio_panetta_rows)"
   ]
  },
  {
   "cell_type": "code",
   "execution_count": null,
   "metadata": {},
   "outputs": [],
   "source": [
    "combined_result = combined_result[~((combined_result['Name_of_Speaker'] == 'Piero Cipollone') & (combined_result['Period'] < pd.to_datetime('2023-11-01')))]"
   ]
  },
  {
   "cell_type": "code",
   "execution_count": null,
   "metadata": {},
   "outputs": [],
   "source": [
    "# Check if 'Fabio Panetta' is present in the 'Name_of_Speaker' column\n",
    "fabio_panetta_rows = combined_result[combined_result['Name_of_Speaker'] == 'Piero Cipollone']\n",
    "\n",
    "# Display the rows with 'Fabio Panetta'\n",
    "print(fabio_panetta_rows)"
   ]
  },
  {
   "cell_type": "markdown",
   "metadata": {},
   "source": [
    "### Now all matched, EDA On Aggregated Speaker"
   ]
  },
  {
   "cell_type": "code",
   "execution_count": null,
   "metadata": {},
   "outputs": [],
   "source": [
    "# Summary statistics\n",
    "summary_stats = combined_result.describe()\n",
    "summary_stats"
   ]
  },
  {
   "cell_type": "code",
   "execution_count": null,
   "metadata": {},
   "outputs": [],
   "source": [
    "dict_ECB = {\n",
    "    'Pablo Hernandez de Cos': 'Spain',\n",
    "    'Joachim Nagel': 'Germany',\n",
    "    'Pierre Wunsch': 'Belgium',\n",
    "    'Yannis Stournaras': 'Greece',\n",
    "    'Boris Vujcic': 'Croatia',\n",
    "    'Gaston Reinesch': 'Luxembourg',\n",
    "    'Francois Villeroy de Galhau': 'France',\n",
    "    'Robert Holzmann': 'Austria',\n",
    "    'Peter Kazimir': 'Slovakia',\n",
    "    'Gediminas Simkus': 'Lithuania',\n",
    "    'Olli Rehn': 'Finland',\n",
    "    'Mario Centeno': 'Portugal',\n",
    "    'Edward Scicluna': 'Malta',\n",
    "    'Bostjan Vasle': 'Slovenia',\n",
    "    'Madis Muller': 'Estonia',\n",
    "    'Martins Kazaks': 'Latvia',\n",
    "    'Klaas Knot': 'Netherlands',\n",
    "    'Constantinos Herodotou': 'Cyprus',\n",
    "    'Gabriel Makhlouf': 'Republic of Ireland',\n",
    "    'Fabio Panetta_IT': 'Italy',\n",
    "    'Ignazio Visco': 'Italy'\n",
    "}\n"
   ]
  },
  {
   "cell_type": "code",
   "execution_count": null,
   "metadata": {},
   "outputs": [],
   "source": [
    "# Function to update 'Country' based on the 'Name_of_Speaker' using the dictionary\n",
    "def update_country(row):\n",
    "    name = row['Name_of_Speaker']\n",
    "    if name in dict_ECB:\n",
    "        row['Country'] = dict_ECB[name]\n",
    "    return row\n",
    "\n",
    "# Apply the function to the DataFrame\n",
    "combined_result = combined_result.apply(update_country, axis=1)"
   ]
  },
  {
   "cell_type": "code",
   "execution_count": null,
   "metadata": {},
   "outputs": [],
   "source": [
    "combined_result"
   ]
  },
  {
   "cell_type": "code",
   "execution_count": null,
   "metadata": {},
   "outputs": [],
   "source": [
    "# Check if 'Fabio Panetta' is present in the 'Name_of_Speaker' column\n",
    "fabio_panetta_rows = combined_result[combined_result['Name_of_Speaker'] == 'Fabio Panetta']\n",
    "\n",
    "# Display the rows with 'Fabio Panetta'\n",
    "print(fabio_panetta_rows)"
   ]
  },
  {
   "cell_type": "code",
   "execution_count": null,
   "metadata": {},
   "outputs": [],
   "source": [
    "# Fill NaN values in the 'Country' column with the corresponding 'Name_of_Speaker'\n",
    "combined_result['Country'] = combined_result['Country'].fillna(combined_result['Name_of_Speaker'])"
   ]
  },
  {
   "cell_type": "code",
   "execution_count": null,
   "metadata": {},
   "outputs": [],
   "source": [
    "combined_result"
   ]
  },
  {
   "cell_type": "code",
   "execution_count": null,
   "metadata": {},
   "outputs": [],
   "source": [
    "# Box plot for sentiment per speaker (now by country)\n",
    "plt.figure(figsize=(20, 10))\n",
    "sns.boxplot(x='Country', y='Sentiment', data=combined_result)\n",
    "plt.title('Sentiment per Speaker (Mapped by Country)')\n",
    "plt.xticks(rotation=90)\n",
    "plt.xlabel('Country')\n",
    "plt.ylabel('Sentiment Per Speaker')\n",
    "plt.show()"
   ]
  },
  {
   "cell_type": "code",
   "execution_count": null,
   "metadata": {},
   "outputs": [],
   "source": [
    "# Define the categories to filter\n",
    "categories_to_plot = ['Christine Lagarde', 'Germany', 'France', 'Italy', 'Spain', 'Netherlands']\n",
    "\n",
    "# Filter the DataFrame to include only these categories\n",
    "filtered_combined_result = combined_result[combined_result['Country'].isin(categories_to_plot)]\n",
    "\n",
    "# Box plot for sentiment per speaker (now by selected categories)\n",
    "plt.figure(figsize=(12, 8))\n",
    "sns.boxplot(x='Country', y='Sentiment', data=filtered_combined_result)\n",
    "plt.title('Biggest Eurozone Economies + Lagarde')\n",
    "plt.xticks(rotation=90)\n",
    "plt.xlabel('Category')\n",
    "plt.ylabel('Sentiment Per Speaker')\n",
    "plt.show()\n"
   ]
  },
  {
   "cell_type": "markdown",
   "metadata": {},
   "source": [
    "# Index with Lagarde as Baseline"
   ]
  },
  {
   "cell_type": "markdown",
   "metadata": {},
   "source": [
    "Sentiment with Lagarde as Baseline"
   ]
  },
  {
   "cell_type": "code",
   "execution_count": null,
   "metadata": {},
   "outputs": [],
   "source": [
    "# Ensure the 'Period' column is in datetime format\n",
    "combined_result['Period'] = pd.to_datetime(combined_result['Period'])\n",
    "\n",
    "# Extract Christine Lagarde's sentiment per period\n",
    "lagarde_sentiment = combined_result[combined_result['Name_of_Speaker'] == 'Christine Lagarde'][['Period', 'Sentiment']]\n",
    "lagarde_sentiment = lagarde_sentiment.rename(columns={'Sentiment': 'Lagarde_Sentiment'}) \n",
    "lagarde_sentiment\n"
   ]
  },
  {
   "cell_type": "code",
   "execution_count": null,
   "metadata": {},
   "outputs": [],
   "source": [
    "import matplotlib.pyplot as plt\n",
    "\n",
    "# Plot Christine Lagarde's sentiment over time\n",
    "plt.figure(figsize=(12, 6))\n",
    "plt.plot(lagarde_sentiment['Period'], lagarde_sentiment['Lagarde_Sentiment'], marker='o', color='blue')\n",
    "plt.title(\"Christine Lagarde's Sentiment Over Time\")\n",
    "plt.xlabel(\"Period\")\n",
    "plt.ylabel(\"Lagarde Sentiment\")\n",
    "plt.grid(True, linestyle='--', linewidth=0.5)\n",
    "plt.xticks(rotation=45)\n",
    "plt.show()\n"
   ]
  },
  {
   "cell_type": "code",
   "execution_count": null,
   "metadata": {},
   "outputs": [],
   "source": [
    "# Merge Lagarde's sentiment with the combined_result dataframe\n",
    "combined_result_with_lagarde = pd.merge(combined_result, lagarde_sentiment, on='Period', how='left')\n",
    "\n",
    "# Calculate the absolute difference for each governor's sentiment compared to Lagarde's sentiment\n",
    "combined_result_with_lagarde['Discordance'] = abs(combined_result_with_lagarde['Sentiment'] - combined_result_with_lagarde['Lagarde_Sentiment'])\n",
    "\n",
    "# Group by Name_of_Speaker and Period to calculate statistics\n",
    "discordance_stats = combined_result_with_lagarde.groupby(['Name_of_Speaker', 'Period']).agg({\n",
    "    'Discordance': ['mean', 'min', 'max', 'std']\n",
    "}).reset_index()\n",
    "\n",
    "# Flatten the multi-level columns\n",
    "discordance_stats.columns = ['Name_of_Speaker', 'Period', 'Mean_Discordance', 'Min_Discordance', 'Max_Discordance', 'Std_Discordance']\n",
    "\n",
    "discordance_stats"
   ]
  },
  {
   "cell_type": "markdown",
   "metadata": {},
   "source": [
    "Difference positive or negative"
   ]
  },
  {
   "cell_type": "code",
   "execution_count": null,
   "metadata": {},
   "outputs": [],
   "source": [
    "# Get the list of unique countries excluding Christine Lagarde\n",
    "countries = combined_result_with_lagarde['Country'].unique()\n",
    "countries = countries[countries != 'Christine Lagarde']\n",
    "\n",
    "# Calculate the maximum and minimum differences across all countries to set consistent y-axis limits\n",
    "min_diff = float('inf')\n",
    "max_diff = float('-inf')\n",
    "for country in countries:\n",
    "    country_data = combined_result_with_lagarde[combined_result_with_lagarde['Country'] == country]\n",
    "    differences = country_data['Sentiment'] - country_data['Lagarde_Sentiment']\n",
    "    min_diff = min(min_diff, differences.min())\n",
    "    max_diff = max(max_diff, differences.max())\n",
    "\n",
    "# Plot each country's sentiment vs Lagarde's sentiment and the differences\n",
    "for country in countries:\n",
    "    country_data = combined_result_with_lagarde[combined_result_with_lagarde['Country'] == country]\n",
    "    \n",
    "    # Compute the differences\n",
    "    country_data['Difference'] = country_data['Sentiment'] - country_data['Lagarde_Sentiment']\n",
    "    \n",
    "    # Line plot of differences over time\n",
    "    plt.figure(figsize=(12, 6))\n",
    "    plt.plot(country_data['Period'], country_data['Difference'], marker='o', color='blue')\n",
    "    plt.title(f\"Difference in Sentiment between {country} and Christine Lagarde\")\n",
    "    plt.xlabel(\"Period\")\n",
    "    plt.ylabel(\"Difference in Sentiment\")\n",
    "    plt.ylim(min_diff, max_diff)  # Set the y-axis limit to ensure consistency\n",
    "    plt.grid(True, linestyle='--', linewidth=0.5)\n",
    "    plt.xticks(rotation=45)\n",
    "    plt.show()\n"
   ]
  },
  {
   "cell_type": "code",
   "execution_count": null,
   "metadata": {},
   "outputs": [],
   "source": [
    "# Ensure the 'Period' column is in datetime format\n",
    "combined_result_with_lagarde['Period'] = pd.to_datetime(combined_result_with_lagarde['Period'])\n",
    "\n",
    "# Compute the differences for each country compared to Christine Lagarde\n",
    "combined_result_with_lagarde['Difference'] = combined_result_with_lagarde['Sentiment'] - combined_result_with_lagarde['Lagarde_Sentiment']\n",
    "\n",
    "# Calculate the average difference for each period\n",
    "average_difference = combined_result_with_lagarde.groupby('Period')['Difference'].mean().reset_index()\n",
    "\n",
    "# Plot the average difference in sentiment over time\n",
    "plt.figure(figsize=(12, 6))\n",
    "plt.plot(average_difference['Period'], average_difference['Difference'], marker='o', color='green')\n",
    "plt.title(\"Average Difference in Sentiment Compared to Christine Lagarde\")\n",
    "plt.xlabel(\"Period\")\n",
    "plt.ylabel(\"Average Difference in Sentiment\")\n",
    "plt.grid(True, linestyle='--', linewidth=0.5)\n",
    "plt.xticks(rotation=45)\n",
    "plt.show()"
   ]
  },
  {
   "cell_type": "code",
   "execution_count": null,
   "metadata": {},
   "outputs": [],
   "source": [
    "# List of major Eurozone economies\n",
    "major_economies = ['France', 'Germany', 'Italy', 'Spain', 'Netherlands']\n",
    "\n",
    "# Filter the DataFrame to include only the major Eurozone economies\n",
    "filtered_combined_result = combined_result_with_lagarde[combined_result_with_lagarde['Country'].isin(major_economies)]\n",
    "\n",
    "# Compute the differences for each country compared to Christine Lagarde\n",
    "filtered_combined_result['Difference'] = filtered_combined_result['Sentiment'] - filtered_combined_result['Lagarde_Sentiment']\n",
    "\n",
    "# Calculate the average difference for each period\n",
    "average_difference = filtered_combined_result.groupby('Period')['Difference'].mean().reset_index()\n",
    "\n",
    "# Plot the average difference in sentiment over time\n",
    "plt.figure(figsize=(12, 6))\n",
    "plt.plot(average_difference['Period'], average_difference['Difference'], marker='o', color='grey')\n",
    "plt.title(\"Average Difference in Sentiment Compared to Christine Lagarde (Major Eurozone Economies)\")\n",
    "plt.xlabel(\"Period\")\n",
    "plt.ylabel(\"Average Difference in Sentiment\")\n",
    "plt.grid(True, linestyle='--', linewidth=0.5)\n",
    "plt.xticks(rotation=45)\n",
    "plt.show()\n"
   ]
  },
  {
   "cell_type": "markdown",
   "metadata": {},
   "source": [
    "# Absolute Differences Vs Largarde"
   ]
  },
  {
   "cell_type": "code",
   "execution_count": null,
   "metadata": {},
   "outputs": [],
   "source": [
    "# Get the list of unique countries excluding Christine Lagarde\n",
    "countries = combined_result_with_lagarde['Country'].unique()\n",
    "countries = countries[countries != 'Christine Lagarde']\n",
    "\n",
    "# Calculate the maximum absolute difference across all countries\n",
    "max_diff = 0\n",
    "for country in countries:\n",
    "    country_data = combined_result_with_lagarde[combined_result_with_lagarde['Country'] == country]\n",
    "    max_diff = max(max_diff, abs(country_data['Sentiment'] - country_data['Lagarde_Sentiment']).max())\n",
    "\n",
    "# Plot each country's sentiment vs Lagarde's sentiment and the absolute differences\n",
    "for country in countries:\n",
    "    country_data = combined_result_with_lagarde[combined_result_with_lagarde['Country'] == country]\n",
    "    \n",
    "    # Compute the absolute differences\n",
    "    country_data['Absolute_Difference'] = abs(country_data['Sentiment'] - country_data['Lagarde_Sentiment'])\n",
    "    \n",
    "    # Line plot of absolute differences over time\n",
    "    plt.figure(figsize=(12, 6))\n",
    "    plt.plot(country_data['Period'], country_data['Absolute_Difference'], marker='o', color='red')\n",
    "    plt.title(f\"Absolute Difference in Sentiment between {country} and Christine Lagarde\")\n",
    "    plt.xlabel(\"Period\")\n",
    "    plt.ylabel(\"Absolute Difference in Sentiment\")\n",
    "    plt.ylim(0, max_diff)  # Set the y-axis limit to the maximum difference found\n",
    "    plt.grid(True, linestyle='--', linewidth=0.5)\n",
    "    plt.xticks(rotation=45)\n",
    "    plt.show()\n"
   ]
  },
  {
   "cell_type": "code",
   "execution_count": null,
   "metadata": {},
   "outputs": [],
   "source": [
    "# Ensure the 'Period' column is in datetime format\n",
    "combined_result_with_lagarde['Period'] = pd.to_datetime(combined_result_with_lagarde['Period'])\n",
    "\n",
    "# Compute the absolute differences for each country compared to Christine Lagarde\n",
    "combined_result_with_lagarde['Absolute_Difference'] = abs(combined_result_with_lagarde['Sentiment'] - combined_result_with_lagarde['Lagarde_Sentiment'])\n",
    "\n",
    "# Calculate the average absolute difference for each period\n",
    "average_absolute_difference = combined_result_with_lagarde.groupby('Period')['Absolute_Difference'].mean().reset_index()\n",
    "\n",
    "# Plot the average absolute difference in sentiment over time\n",
    "plt.figure(figsize=(12, 6))\n",
    "plt.plot(average_absolute_difference['Period'], average_absolute_difference['Absolute_Difference'], marker='o', color='purple')\n",
    "plt.title(\"Average Absolute Difference in Sentiment Compared to Christine Lagarde\")\n",
    "plt.xlabel(\"Period\")\n",
    "plt.ylabel(\"Average Absolute Difference in Sentiment\")\n",
    "plt.grid(True, linestyle='--', linewidth=0.5)\n",
    "plt.xticks(rotation=45)\n",
    "plt.show()"
   ]
  },
  {
   "cell_type": "code",
   "execution_count": null,
   "metadata": {},
   "outputs": [],
   "source": [
    "# List of major Eurozone economies\n",
    "major_economies = ['France', 'Germany', 'Italy', 'Spain', 'Netherlands']\n",
    "\n",
    "# Filter the DataFrame to include only the major Eurozone economies\n",
    "filtered_combined_result = combined_result_with_lagarde[combined_result_with_lagarde['Country'].isin(major_economies)]\n",
    "\n",
    "# Compute the absolute differences for each country compared to Christine Lagarde\n",
    "filtered_combined_result['Absolute_Difference'] = abs(filtered_combined_result['Sentiment'] - filtered_combined_result['Lagarde_Sentiment'])\n",
    "\n",
    "# Calculate the average absolute difference for each period\n",
    "average_absolute_difference = filtered_combined_result.groupby('Period')['Absolute_Difference'].mean().reset_index()\n",
    "\n",
    "# Plot the average absolute difference in sentiment over time\n",
    "plt.figure(figsize=(12, 6))\n",
    "plt.plot(average_absolute_difference['Period'], average_absolute_difference['Absolute_Difference'], marker='o', color='grey')\n",
    "plt.title(\"Average Absolute Difference in Sentiment Compared to Christine Lagarde (Major Eurozone Economies)\")\n",
    "plt.xlabel(\"Period\")\n",
    "plt.ylabel(\"Average Absolute Difference in Sentiment\")\n",
    "plt.grid(True, linestyle='--', linewidth=0.5)\n",
    "plt.xticks(rotation=45)\n",
    "plt.show()"
   ]
  },
  {
   "cell_type": "markdown",
   "metadata": {},
   "source": [
    "# Combining results with capital weights"
   ]
  },
  {
   "cell_type": "code",
   "execution_count": null,
   "metadata": {},
   "outputs": [],
   "source": [
    "combined_result_with_lagarde"
   ]
  },
  {
   "cell_type": "code",
   "execution_count": null,
   "metadata": {},
   "outputs": [],
   "source": [
    "combined_result_with_lagarde.isnull().sum()"
   ]
  },
  {
   "cell_type": "code",
   "execution_count": null,
   "metadata": {},
   "outputs": [],
   "source": [
    "speakers_to_remove = [\"Boris Vujcic\", \"Edward Scicluna\", \"Gaston Reinesch\"]\n",
    "\n",
    "# Filter the DataFrame to exclude the listed speakers\n",
    "df_to_merge = combined_result_with_lagarde[~combined_result_with_lagarde['Name_of_Speaker'].isin(speakers_to_remove)]\n"
   ]
  },
  {
   "cell_type": "code",
   "execution_count": null,
   "metadata": {},
   "outputs": [],
   "source": [
    "import os\n",
    "os.chdir('/Users/ruimaciel/Desktop/Barcelona/Master_Thesis/ECB_Perceived_Cacophony')\n",
    "\n",
    "current_working_directory = os.getcwd()\n",
    "print(\"Current Working Directory:\", current_working_directory)\n"
   ]
  },
  {
   "cell_type": "code",
   "execution_count": null,
   "metadata": {},
   "outputs": [],
   "source": [
    "capital_key = pd.read_csv(r\"./Rui_final_notebooks/capital_key_ecb.csv\")\n",
    "capital_key.columns"
   ]
  },
  {
   "cell_type": "code",
   "execution_count": null,
   "metadata": {},
   "outputs": [],
   "source": [
    "capital_key.drop(columns=['Paid-up Capital (€)'], inplace=True)"
   ]
  },
  {
   "cell_type": "code",
   "execution_count": null,
   "metadata": {},
   "outputs": [],
   "source": [
    "capital_key.rename(columns={'Capital Key %': 'Capital Key'}, inplace=True)"
   ]
  },
  {
   "cell_type": "code",
   "execution_count": null,
   "metadata": {},
   "outputs": [],
   "source": [
    "capital_key['Country'] = capital_key['Country'].replace({'The Netherlands': 'Netherlands', 'Ireland': 'Republic of Ireland'})"
   ]
  },
  {
   "cell_type": "code",
   "execution_count": null,
   "metadata": {},
   "outputs": [],
   "source": [
    "capital_key"
   ]
  },
  {
   "cell_type": "code",
   "execution_count": null,
   "metadata": {},
   "outputs": [],
   "source": [
    "df_merged = df_to_merge.merge(capital_key[['Country', 'Capital Key']], on='Country', how='left')\n",
    "df_merged"
   ]
  },
  {
   "cell_type": "code",
   "execution_count": null,
   "metadata": {},
   "outputs": [],
   "source": [
    "sum_unique_capital_keys = df_merged['Capital Key'].drop_duplicates().sum()\n",
    "\n",
    "# Display the sum of unique 'Capital Key' values\n",
    "print(sum_unique_capital_keys)"
   ]
  },
  {
   "cell_type": "code",
   "execution_count": null,
   "metadata": {},
   "outputs": [],
   "source": [
    "remainder = 100 - sum_unique_capital_keys\n",
    "value_per_person = remainder / 5\n",
    "print(value_per_person)\n",
    "\n",
    "# List of specific speakers to update\n",
    "speakers_to_update = [\"Fabio Panetta\", \"Philip Lane\", \"Isabel Schnabel\", \"Frank Elderson\", \"Luis de Guindos\"]\n",
    "\n",
    "# Update 'Capital Key' for the specified speakers\n",
    "df_merged.loc[df_merged['Name_of_Speaker'].isin(speakers_to_update), 'Capital Key'] = value_per_person\n",
    "\n",
    "# Update 'Capital Key' for the specified speakers\n",
    "df_merged.loc[df_merged['Name_of_Speaker'].isin(speakers_to_update), 'Capital Key'] = value_per_person\n"
   ]
  },
  {
   "cell_type": "code",
   "execution_count": null,
   "metadata": {},
   "outputs": [],
   "source": [
    "# Counting unique entries for each speaker in the column 'Name_of_Speaker'\n",
    "unique_counts = df_merged['Name_of_Speaker'].value_counts()\n",
    "\n",
    "# Display the counts\n",
    "print(unique_counts)"
   ]
  },
  {
   "cell_type": "code",
   "execution_count": null,
   "metadata": {},
   "outputs": [],
   "source": [
    "# List of speakers to check\n",
    "speakers_to_check = [\"Gabriel Makhlouf\", \"Constantinos Herodotou\", \"Frank Elderson\"]\n",
    "\n",
    "# Find all unique periods in the DataFrame\n",
    "all_periods = df_merged['Period'].unique()\n",
    "\n",
    "# Dictionary to hold the missing periods for each speaker\n",
    "missing_periods = {}\n",
    "\n",
    "# Check each speaker for missing periods\n",
    "for speaker in speakers_to_check:\n",
    "    # Filter the DataFrame for the current speaker and get their unique periods\n",
    "    speaker_periods = df_merged[df_merged['Name_of_Speaker'] == speaker]['Period'].unique()\n",
    "    \n",
    "    # Find the set difference: periods that are missing for the speaker\n",
    "    missing_periods[speaker] = list(set(all_periods) - set(speaker_periods))\n",
    "\n",
    "# Output the missing periods for each speaker\n",
    "for speaker, periods in missing_periods.items():\n",
    "    print(f\"Missing periods for {speaker}: {periods}\")"
   ]
  },
  {
   "cell_type": "code",
   "execution_count": null,
   "metadata": {},
   "outputs": [],
   "source": [
    "import pandas as pd\n",
    "import pandas as pd\n",
    "\n",
    "# Define the speakers and their missing periods\n",
    "missing_data = {\n",
    "    \"Gabriel Makhlouf\": pd.Timestamp('2023-07-27 00:00:00'),\n",
    "    \"Constantinos Herodotou\": pd.Timestamp('2022-07-21 00:00:00'),\n",
    "    \"Frank Elderson\": pd.Timestamp('2022-07-21 00:00:00')\n",
    "}\n",
    "\n",
    "# Create new rows for each speaker and their missing period\n",
    "new_rows = []\n",
    "for speaker, missing_period in missing_data.items():\n",
    "    # Filter the DataFrame for the current speaker and periods before the missing one\n",
    "    speaker_df = df_merged[(df_merged['Name_of_Speaker'] == speaker) & (df_merged['Period'] < missing_period)]\n",
    "    closest_row = None\n",
    "\n",
    "    # Check if there are entries before the missing period\n",
    "    if not speaker_df.empty:\n",
    "        closest_index = (speaker_df['Period'] - missing_period).abs().idxmin()\n",
    "        closest_row = speaker_df.loc[closest_index]\n",
    "    else:\n",
    "        # If no earlier periods exist, look for the next closest period after the missing one\n",
    "        speaker_df = df_merged[(df_merged['Name_of_Speaker'] == speaker) & (df_merged['Period'] > missing_period)]\n",
    "        if not speaker_df.empty:\n",
    "            closest_index = (speaker_df['Period'] - missing_period).abs().idxmin()\n",
    "            closest_row = speaker_df.loc[closest_index]\n",
    "        else:\n",
    "            print(f\"No periods found for {speaker}\")\n",
    "\n",
    "    if closest_row is not None:\n",
    "        # Copy the closest row and modify it\n",
    "        base_row = closest_row.copy()\n",
    "        base_row['Period'] = missing_period\n",
    "\n",
    "        # Append the modified row to new_rows list\n",
    "        new_rows.append(base_row)\n",
    "\n",
    "# Convert new_rows list to a DataFrame\n",
    "new_rows_df = pd.DataFrame(new_rows)\n",
    "\n",
    "# Append these new rows to the original DataFrame\n",
    "df_merged = pd.concat([df_merged, new_rows_df], ignore_index=True)\n",
    "\n",
    "# Verify by displaying the newly added rows\n",
    "print(df_merged.tail(len(new_rows)))  # Show the last few rows to verify new entries\n",
    "\n"
   ]
  },
  {
   "cell_type": "code",
   "execution_count": null,
   "metadata": {},
   "outputs": [],
   "source": [
    "# Multiply every value in the 'Capital Key' column by 0.01\n",
    "df_merged['Capital Key'] = df_merged['Capital Key'] * 0.01\n",
    "\n",
    "# Display the updated DataFrame to verify the changes\n",
    "print(df_merged[['Name_of_Speaker', 'Capital Key']].head())  # Show the first few rows as a sample"
   ]
  },
  {
   "cell_type": "code",
   "execution_count": null,
   "metadata": {},
   "outputs": [],
   "source": [
    "df_merged"
   ]
  },
  {
   "cell_type": "markdown",
   "metadata": {},
   "source": [
    "# Going for index"
   ]
  },
  {
   "cell_type": "code",
   "execution_count": null,
   "metadata": {},
   "outputs": [],
   "source": [
    "df_filtered = df_merged.dropna(subset=['Capital Key'])\n",
    "\n",
    "# Define a function to calculate the weighted average for a group\n",
    "def weighted_average(group):\n",
    "    if group['Capital Key'].sum() > 0:\n",
    "        return (group['Absolute_Difference'] * group['Capital Key']).sum() / group['Capital Key'].sum()\n",
    "    else:\n",
    "        return None  # Handle cases where the sum of weights is zero\n",
    "\n",
    "# Calculate the weighted average of 'Absolute_Difference' by 'Period' using 'Capital Key' as weights\n",
    "weighted_averages = df_filtered.groupby('Period').apply(weighted_average)\n",
    "\n",
    "# Plot the weighted averages\n",
    "plt.figure(figsize=(10, 6))  # Set the figure size\n",
    "plt.plot(weighted_averages.index, weighted_averages, marker='o', linestyle='-', color='b')  # Line plot with markers\n",
    "plt.title('Weighted Average of Absolute Difference by Period')  # Title of the plot\n",
    "plt.xlabel('Period')  # X-axis label\n",
    "plt.ylabel('Weighted Average')  # Y-axis label\n",
    "plt.grid(True)  # Enable grid for better readability\n",
    "plt.xticks(rotation=45)  # Rotate x-axis labels for better visibility\n",
    "plt.tight_layout()  # Adjust layout to prevent clipping of tick-labels\n",
    "plt.show()  # Display the plot"
   ]
  },
  {
   "cell_type": "code",
   "execution_count": null,
   "metadata": {},
   "outputs": [],
   "source": [
    "# Exclude rows where 'Capital Key' is NaN\n",
    "df_filtered = df_merged.dropna(subset=['Capital Key'])\n",
    "\n",
    "# Define a function to calculate the weighted average for 'Absolute_Difference'\n",
    "def weighted_average_abs_diff(group):\n",
    "    if group['Capital Key'].sum() > 0:\n",
    "        return (group['Absolute_Difference'] * group['Capital Key']).sum() / group['Capital Key'].sum()\n",
    "    else:\n",
    "        return None  # Handle cases where the sum of weights is zero\n",
    "\n",
    "# Calculate the weighted average of 'Absolute_Difference' by 'Period' using 'Capital Key' as weights\n",
    "weighted_averages_abs_diff = df_filtered.groupby('Period').apply(weighted_average_abs_diff)\n",
    "\n",
    "# Define a function to calculate the weighted average for 'Difference'\n",
    "def weighted_average_diff(group):\n",
    "    if group['Capital Key'].sum() > 0:\n",
    "        return (group['Difference'] * group['Capital Key']).sum() / group['Capital Key'].sum()\n",
    "    else:\n",
    "        return None  # Handle cases where the sum of weights is zero\n",
    "\n",
    "# Calculate the weighted average of 'Difference' by 'Period' using 'Capital Key' as weights\n",
    "weighted_averages_diff = df_filtered.groupby('Period').apply(weighted_average_diff)\n",
    "\n",
    "# Plot the weighted averages on the same graph\n",
    "plt.figure(figsize=(12, 8))  # Set the figure size\n",
    "plt.plot(weighted_averages_abs_diff.index, weighted_averages_abs_diff, marker='o', linestyle='-', color='b', label='Absolute Difference')  # Line plot with markers for Absolute Difference\n",
    "plt.plot(weighted_averages_diff.index, weighted_averages_diff, marker='x', linestyle='--', color='r', label='Difference')  # Line plot with markers for Difference\n",
    "plt.title('Weighted Averages of Absolute Difference and Difference by Period')  # Title of the plot\n",
    "plt.xlabel('Period')  # X-axis label\n",
    "plt.ylabel('Weighted Average')  # Y-axis label\n",
    "plt.grid(True)  # Enable grid for better readability\n",
    "plt.xticks(rotation=45)  # Rotate x-axis labels for better visibility\n",
    "plt.legend()  # Add a legend to distinguish the lines\n",
    "plt.tight_layout()  # Adjust layout to prevent clipping of tick-labels\n",
    "plt.show()  # Display the plot\n",
    "\n"
   ]
  },
  {
   "cell_type": "code",
   "execution_count": null,
   "metadata": {},
   "outputs": [],
   "source": [
    "import pandas as pd\n",
    "import numpy as np\n",
    "\n",
    "# Assuming df_merged is already defined and contains your data\n",
    "# Convert 'Period' to date-only format if it includes time\n",
    "df_merged['Period'] = pd.to_datetime(df_merged['Period']).dt.date\n",
    "\n",
    "# Create a pivot table with countries on rows and periods as columns for 'Absolute_Difference'\n",
    "pivot_table_ad = df_merged.pivot_table(index='Country', columns='Period', values='Absolute_Difference', aggfunc='mean')\n",
    "\n",
    "# Since 'Capital Key' should be constant for each country, take the first non-null value for each country\n",
    "capital_keys = df_merged.dropna(subset=['Capital Key']).groupby('Country')['Capital Key'].first()\n",
    "\n",
    "# Join the 'Capital Key' to the pivot table\n",
    "final_matrix = pivot_table_ad.join(capital_keys)\n",
    "\n",
    "# Calculate the weighted index across all countries for each period\n",
    "weighted_index = df_merged.dropna(subset=['Capital Key']).groupby('Period').apply(lambda x: (x['Absolute_Difference'] * x['Capital Key']).sum() / x['Capital Key'].sum())\n",
    "\n",
    "# Expand weighted_index into a DataFrame to match the structure of final_matrix\n",
    "# This will add 'Weighted Index' directly as a row into the DataFrame\n",
    "weighted_index_df = pd.DataFrame(weighted_index).T  # Transpose to make it a row\n",
    "weighted_index_df.index = ['Weighted Index']  # Name the index\n",
    "weighted_index_df['Capital Key'] = None # Add the 'Capital Key' column with None as value\n",
    "\n",
    "# Concatenate weighted_index_df at the bottom of final_matrix\n",
    "final_matrix = pd.concat([final_matrix, weighted_index_df])\n",
    "\n",
    "# Drop 'Christine Lagarde' if present in the Country index\n",
    "if 'Christine Lagarde' in final_matrix.index:\n",
    "    final_matrix = final_matrix.drop('Christine Lagarde', axis=0)\n",
    "\n",
    "    # Sort final_matrix by 'Capital Key'\n",
    "final_matrix = final_matrix.sort_values(by='Capital Key', ascending=False)\n",
    "\n",
    "# Set display format for numerical values to three decimal places\n",
    "pd.set_option('display.float_format', '{:.3f}'.format)\n",
    "\n",
    "# Print and display results\n",
    "print(\"Pivot Table of Absolute Differences:\")\n",
    "final_matrix\n"
   ]
  },
  {
   "cell_type": "code",
   "execution_count": null,
   "metadata": {},
   "outputs": [],
   "source": [
    "import pandas as pd\n",
    "import numpy as np\n",
    "\n",
    "# Assuming df_merged is already defined and contains your data\n",
    "# Convert 'Period' to date-only format if it includes time\n",
    "df_merged['Period'] = pd.to_datetime(df_merged['Period']).dt.date\n",
    "\n",
    "# Create a pivot table with countries on rows and periods as columns for 'Absolute_Difference'\n",
    "pivot_table_ad = df_merged.pivot_table(index='Country', columns='Period', values='Difference', aggfunc='mean')\n",
    "\n",
    "# Since 'Capital Key' should be constant for each country, take the first non-null value for each country\n",
    "capital_keys = df_merged.dropna(subset=['Capital Key']).groupby('Country')['Capital Key'].first()\n",
    "\n",
    "# Join the 'Capital Key' to the pivot table\n",
    "final_matrix = pivot_table_ad.join(capital_keys)\n",
    "\n",
    "# Calculate the weighted index across all countries for each period\n",
    "weighted_index = df_merged.dropna(subset=['Capital Key']).groupby('Period').apply(lambda x: (x['Difference'] * x['Capital Key']).sum() / x['Capital Key'].sum())\n",
    "\n",
    "# Expand weighted_index into a DataFrame to match the structure of final_matrix\n",
    "# This will add 'Weighted Index' directly as a row into the DataFrame\n",
    "weighted_index_df = pd.DataFrame(weighted_index).T  # Transpose to make it a row\n",
    "weighted_index_df.index = ['Weighted Index']  # Name the index\n",
    "weighted_index_df['Capital Key'] = None  # Add the 'Capital Key' column with None as value\n",
    "\n",
    "# Concatenate weighted_index_df at the bottom of final_matrix\n",
    "final_matrix = pd.concat([final_matrix, weighted_index_df])\n",
    "\n",
    "# Drop 'Christine Lagarde' if present in the Country index\n",
    "if 'Christine Lagarde' in final_matrix.index:\n",
    "    final_matrix = final_matrix.drop('Christine Lagarde', axis=0)\n",
    "\n",
    "# Sort final_matrix by 'Capital Key'\n",
    "final_matrix = final_matrix.sort_values(by='Capital Key', ascending=False)\n",
    "\n",
    "# Set display format for numerical values to three decimal places\n",
    "pd.set_option('display.float_format', '{:.3f}'.format)\n",
    "\n",
    "# Print and display results\n",
    "print(\"Pivot Table of Differences:\")\n",
    "final_matrix"
   ]
  },
  {
   "cell_type": "code",
   "execution_count": null,
   "metadata": {},
   "outputs": [],
   "source": [
    "\n",
    "# Assuming df_merged is already defined and contains your data\n",
    "# Filter the DataFrame for entries related to 'Christine Lagarde'\n",
    "df_christine = df_merged[df_merged['Country'] == 'Christine Lagarde']\n",
    "\n",
    "# Convert 'Period' to date-only format if it includes time\n",
    "df_christine['Period'] = pd.to_datetime(df_christine['Period']).dt.date\n",
    "\n",
    "# Create a pivot table with 'Period' as columns and values as 'Sentiment'\n",
    "# This assumes 'Sentiment' is a column in df_merged that you want to analyze\n",
    "pivot_table_christine = df_christine.pivot_table(index='Country', columns='Period', values='Sentiment', aggfunc='mean')\n",
    "\n",
    "pd.set_option('display.float_format', '{:.3f}'.format)\n",
    "\n",
    "# Print and display results\n",
    "print(\"Sentiment Over Time for Christine Lagarde:\")\n",
    "pivot_table_christine"
   ]
  },
  {
   "cell_type": "markdown",
   "metadata": {},
   "source": [
    "# Attempt to regress"
   ]
  },
  {
   "cell_type": "code",
   "execution_count": null,
   "metadata": {},
   "outputs": [],
   "source": [
    "data = {\n",
    "    '2022-07-21': [0.50],\n",
    "    '2022-09-08': [0.75],\n",
    "    '2022-10-27': [0.75],\n",
    "    '2022-12-15': [0.50],\n",
    "    '2023-02-02': [0.50],\n",
    "    '2023-03-16': [0.50],\n",
    "    '2023-05-04': [0.25],\n",
    "    '2023-06-15': [0.25],\n",
    "    '2023-07-27': [0.25],\n",
    "    '2023-09-14': [0.25],\n",
    "    '2023-10-26': [0.00]\n",
    "}\n",
    "\n",
    "# Create a DataFrame with the dictionary where keys are now the column headers\n",
    "df_interests_transposed = pd.DataFrame(data, index=['Interest Rate Raise'])\n",
    "\n",
    "# Display the DataFrame\n",
    "df_interests_transposed"
   ]
  },
  {
   "cell_type": "code",
   "execution_count": null,
   "metadata": {},
   "outputs": [],
   "source": [
    "df_filtered"
   ]
  },
  {
   "cell_type": "code",
   "execution_count": null,
   "metadata": {},
   "outputs": [],
   "source": [
    "# Assuming df_merged is already defined and contains your data\n",
    "# Convert 'Period' to date-only format if it includes time\n",
    "df_merged['Period'] = pd.to_datetime(df_merged['Period']).dt.date\n",
    "\n",
    "# Create a pivot table with countries on rows and periods as columns for 'Lagarde_Sentiment'\n",
    "# Using 'mean' as an aggregation function, or choose another suitable one\n",
    "pivot_table_ad = df_merged.pivot_table(index='Country', columns='Period', values='Lagarde_Sentiment', aggfunc='mean')\n",
    "\n",
    "# Filter the pivot table to show only the row for Christine Lagarde\n",
    "pivot_table_lagarde = pivot_table_ad.loc[pivot_table_ad.index == 'Christine Lagarde']\n",
    "\n",
    "# Print the final matrix for Christine Lagarde\n",
    "print(\"Sentiment Over Time for Christine Lagarde:\")\n",
    "print(pivot_table_lagarde)\n"
   ]
  },
  {
   "cell_type": "code",
   "execution_count": null,
   "metadata": {},
   "outputs": [],
   "source": [
    "# Assuming df_merged is already defined and contains your data\n",
    "# Convert 'Period' to date-only format if it includes time\n",
    "df_merged['Period'] = pd.to_datetime(df_merged['Period']).dt.date\n",
    "\n",
    "# Create a pivot table with countries on rows and periods as columns for 'Lagarde_Sentiment'\n",
    "pivot_table_ad = df_merged.pivot_table(index='Country', columns='Period', values='Lagarde_Sentiment', aggfunc='mean')\n",
    "\n",
    "# Filter the pivot table to show only the row for Christine Lagarde\n",
    "pivot_table_lagarde = pivot_table_ad.loc[pivot_table_ad.index == 'Christine Lagarde']\n",
    "\n",
    "# Prepare the interest rate raise data\n",
    "data = {\n",
    "    '2022-07-21': [0.50],\n",
    "    '2022-09-08': [0.75],\n",
    "    '2022-10-27': [0.75],\n",
    "    '2022-12-15': [0.50],\n",
    "    '2023-02-02': [0.50],\n",
    "    '2023-03-16': [0.50],\n",
    "    '2023-05-04': [0.25],\n",
    "    '2023-06-15': [0.25],\n",
    "    '2023-07-27': [0.25],\n",
    "    '2023-09-14': [0.25],\n",
    "    '2023-10-26': [0.00]\n",
    "}\n",
    "\n",
    "# Create a DataFrame with the dictionary where keys are now the column headers\n",
    "df_interests_transposed = pd.DataFrame(data, index=['Interest Rate Raise'])\n",
    "\n",
    "# Convert date strings to datetime format in df_interests_transposed to match pivot_table_lagarde\n",
    "df_interests_transposed.columns = pd.to_datetime(df_interests_transposed.columns)\n",
    "\n",
    "# Align the date formats in pivot_table_lagarde\n",
    "pivot_table_lagarde.columns = pd.to_datetime(pivot_table_lagarde.columns)\n",
    "\n",
    "# Drop columns with NaNs in either DataFrame\n",
    "common_columns = pivot_table_lagarde.columns.intersection(df_interests_transposed.columns)\n",
    "pivot_table_lagarde = pivot_table_lagarde[common_columns].dropna(axis=1, how='any')\n",
    "df_interests_transposed = df_interests_transposed[common_columns].dropna(axis=1, how='any')\n",
    "\n",
    "# Merge (concatenate) the sentiment data with the interest rate data\n",
    "combined_matrix = pd.concat([pivot_table_lagarde, df_interests_transposed])\n",
    "\n",
    "# Print the combined matrix for Christine Lagarde and Interest Rate Raise\n",
    "print(\"Combined Matrix for Christine Lagarde and Interest Rate Raise:\")\n",
    "combined_matrix"
   ]
  },
  {
   "cell_type": "code",
   "execution_count": null,
   "metadata": {},
   "outputs": [],
   "source": []
  },
  {
   "cell_type": "code",
   "execution_count": null,
   "metadata": {},
   "outputs": [],
   "source": [
    "import pandas as pd\n",
    "import statsmodels.api as sm\n",
    "\n",
    "# Ensure the index is reset to have a proper DataFrame structure\n",
    "combined_matrix = combined_matrix.T  # Transpose to have dates as index\n",
    "\n",
    "# The combined matrix has more than just two columns after transpose\n",
    "# To correctly assign names, let's inspect the transposed DataFrame first\n",
    "print(combined_matrix.head())\n",
    "\n",
    "# The correct columns assignment\n",
    "combined_matrix.columns = combined_matrix.iloc[0]  # Assign the first row as header\n",
    "\n",
    "# Now the DataFrame should have the correct columns\n",
    "print(combined_matrix.head())\n",
    "\n",
    "# Ensure columns are correctly formatted\n",
    "combined_matrix.columns = ['Christine Lagarde Sentiment', 'Interest Rate Raise']\n",
    "\n",
    "# Define the dependent variable (Y) and independent variable (X)\n",
    "Y = combined_matrix['Interest Rate Raise']\n",
    "X = combined_matrix['Christine Lagarde Sentiment']\n",
    "\n",
    "# Add a constant to the independent variable (X) for the OLS regression\n",
    "X = sm.add_constant(X)\n",
    "\n",
    "# Perform the OLS regression with robust standard errors\n",
    "model = sm.OLS(Y, X).fit(cov_type='HC3')\n",
    "\n",
    "# Print the summary of the regression with robust standard errors\n",
    "print(model.summary())\n"
   ]
  },
  {
   "cell_type": "code",
   "execution_count": null,
   "metadata": {},
   "outputs": [],
   "source": [
    "import pandas as pd\n",
    "import statsmodels.api as sm\n",
    "\n",
    "# Assuming combined_matrix is already defined as per the previous code\n",
    "\n",
    "# Ensure the index is reset to have a proper DataFrame structure\n",
    "combined_matrix = combined_matrix.T  # Transpose to have dates as index\n",
    "\n",
    "# The combined matrix has more than just two columns after transpose\n",
    "# To correctly assign names, let's inspect the transposed DataFrame first\n",
    "print(combined_matrix.head())\n",
    "\n",
    "# The correct columns assignment\n",
    "combined_matrix.columns = combined_matrix.iloc[0]  # Assign the first row as header\n",
    "\n",
    "# Now the DataFrame should have the correct columns\n",
    "print(combined_matrix.head())\n",
    "\n",
    "# Ensure columns are correctly formatted\n",
    "combined_matrix.columns = ['Christine Lagarde Sentiment', 'Interest Rate Raise']\n",
    "\n",
    "# Shift the independent variable (Christine Lagarde Sentiment) by one period\n",
    "combined_matrix['Christine Lagarde Sentiment Lagged'] = combined_matrix['Christine Lagarde Sentiment'].shift(1)\n",
    "\n",
    "# Drop the first row since it will have a NaN value after the shift\n",
    "combined_matrix = combined_matrix.dropna()\n",
    "\n",
    "# Define the dependent variable (Y) and independent variable (X)\n",
    "Y = combined_matrix['Interest Rate Raise']\n",
    "X = combined_matrix['Christine Lagarde Sentiment Lagged']\n",
    "\n",
    "# Add a constant to the independent variable (X) for the OLS regression\n",
    "X = sm.add_constant(X)\n",
    "\n",
    "# Perform the OLS regression with robust standard errors\n",
    "model = sm.OLS(Y, X).fit(cov_type='HC3')\n",
    "\n",
    "# Print the summary of the regression with robust standard errors\n",
    "print(model.summary())\n"
   ]
  },
  {
   "cell_type": "markdown",
   "metadata": {},
   "source": [
    "# Attempt at finding the drivers of the cacophony"
   ]
  },
  {
   "cell_type": "code",
   "execution_count": null,
   "metadata": {},
   "outputs": [],
   "source": [
    "import pandas as pd\n",
    "\n",
    "# Assuming df_merged is already defined and contains your data\n",
    "# Convert 'Period' to date-only format if it includes time\n",
    "df_merged['Period'] = pd.to_datetime(df_merged['Period']).dt.date\n",
    "\n",
    "# Create a pivot table with countries on rows and periods as columns for 'Sentiment'\n",
    "pivot_table_lagarde = df_merged.pivot_table(index='Country', columns='Period', values='Sentiment', aggfunc='mean')\n",
    "\n",
    "# Prepare the interest rate raise data\n",
    "data = {\n",
    "    '2022-07-21': [0.50],\n",
    "    '2022-09-08': [0.75],\n",
    "    '2022-10-27': [0.75],\n",
    "    '2022-12-15': [0.50],\n",
    "    '2023-02-02': [0.50],\n",
    "    '2023-03-16': [0.50],\n",
    "    '2023-05-04': [0.25],\n",
    "    '2023-06-15': [0.25],\n",
    "    '2023-07-27': [0.25],\n",
    "    '2023-09-14': [0.25],\n",
    "    '2023-10-26': [0.00]\n",
    "}\n",
    "\n",
    "# Create a DataFrame with the dictionary where keys are now the column headers\n",
    "df_interests_transposed = pd.DataFrame(data, index=['Interest Rate Raise'])\n",
    "\n",
    "# Convert date strings to datetime format in df_interests_transposed to match pivot_table_lagarde\n",
    "df_interests_transposed.columns = pd.to_datetime(df_interests_transposed.columns)\n",
    "\n",
    "# Align the date formats in pivot_table_lagarde\n",
    "pivot_table_lagarde.columns = pd.to_datetime(pivot_table_lagarde.columns)\n",
    "\n",
    "# Ensure that all columns are included, filling NaNs where necessary\n",
    "common_columns = pivot_table_lagarde.columns.union(df_interests_transposed.columns)\n",
    "pivot_table_lagarde = pivot_table_lagarde.reindex(columns=common_columns)\n",
    "df_interests_transposed = df_interests_transposed.reindex(columns=common_columns)\n",
    "\n",
    "# Merge (concatenate) the sentiment data with the interest rate data\n",
    "combined_matrix = pd.concat([pivot_table_lagarde, df_interests_transposed])\n",
    "\n",
    "# Print the combined matrix for Christine Lagarde and Interest Rate Raise\n",
    "print(\"Combined Matrix for Countries and Interest Rate Raise:\")\n",
    "combined_matrix\n"
   ]
  },
  {
   "cell_type": "code",
   "execution_count": null,
   "metadata": {},
   "outputs": [],
   "source": [
    "import statsmodels.api as sm\n",
    "\n",
    "# Select only the specified countries\n",
    "countries_to_keep = ['Fabio Panetta', 'Frank Elderson', 'Isabel Schnabel', 'Luis de Guindos', 'Philip Lane']\n",
    "X = combined_matrix.drop(index='Interest Rate Raise').drop(index='Christine Lagarde').T[countries_to_keep]\n",
    "\n",
    "# The Y variable (Interest Rate Raise)\n",
    "Y = combined_matrix.loc['Interest Rate Raise'].T\n",
    "\n",
    "# Add a constant to the independent variables matrix (X)\n",
    "X = sm.add_constant(X)\n",
    "\n",
    "# Fit the OLS model\n",
    "model = sm.OLS(Y, X, missing='drop').fit()\n",
    "\n",
    "# Print the summary of the regression\n",
    "print(model.summary())\n"
   ]
  }
 ],
 "metadata": {
  "kernelspec": {
   "display_name": "base",
   "language": "python",
   "name": "python3"
  },
  "language_info": {
   "codemirror_mode": {
    "name": "ipython",
    "version": 3
   },
   "file_extension": ".py",
   "mimetype": "text/x-python",
   "name": "python",
   "nbconvert_exporter": "python",
   "pygments_lexer": "ipython3",
   "version": "3.11.7"
  }
 },
 "nbformat": 4,
 "nbformat_minor": 2
}
