{
 "cells": [
  {
   "cell_type": "code",
   "execution_count": null,
   "metadata": {},
   "outputs": [],
   "source": [
    "import numpy as np\n",
    "import pandas as pd\n",
    "import time\n",
    "import datetime\n",
    "import gc\n",
    "import random\n",
    "import re\n",
    "import nltk\n",
    "import string\n",
    "from nltk.corpus import stopwords\n",
    "from nltk.tokenize import word_tokenize\n",
    "from nltk.stem import WordNetLemmatizer\n",
    "\n",
    "import torch\n",
    "import torch.nn as nn\n",
    "from torch.utils.data import TensorDataset, DataLoader, RandomSampler, SequentialSampler,random_split\n",
    "from sklearn.model_selection import train_test_split\n",
    "from sklearn.metrics import classification_report\n",
    "\n",
    "import transformers\n",
    "from transformers import AutoTokenizer, AutoModelForSequenceClassification, AdamW, BertConfig,BertTokenizer,get_linear_schedule_with_warmup, pipeline, AutoConfig\n",
    "from datasets import Dataset\n"
   ]
  },
  {
   "cell_type": "markdown",
   "metadata": {},
   "source": [
    "## Loading and cleaning the data"
   ]
  },
  {
   "cell_type": "code",
   "execution_count": null,
   "metadata": {},
   "outputs": [],
   "source": [
    "classified_data = pd.read_excel('OpenAI_Scored_Articles_3000.xlsx')\n",
    "classified_data = classified_data[classified_data['OpenAI_Score'] != 'Error']\n",
    "classified_data.rename(columns = {'OpenAI_Score':'Classification'}, inplace = True)\n",
    "print(classified_data.shape)\n",
    "classified_data.head()"
   ]
  },
  {
   "cell_type": "code",
   "execution_count": null,
   "metadata": {},
   "outputs": [],
   "source": [
    "total_data = pd.read_excel('combined_updated.xlsx')\n",
    "total_data.drop_duplicates(subset=['Manual.summary'], inplace=True)\n",
    "total_data.dropna(subset='Manual.summary', inplace=True)\n",
    "print(total_data.shape)\n",
    "total_data.head()"
   ]
  },
  {
   "cell_type": "code",
   "execution_count": null,
   "metadata": {},
   "outputs": [],
   "source": [
    "# Drop rows with NaN values in 'Manual.summary' column from total_data\n",
    "unlabeled_df = total_data.dropna(subset=['Manual.summary'])['Manual.summary'].to_frame()\n",
    "unlabeled_df.rename(columns={'Manual.summary': 'text'}, inplace=True)\n",
    "\n",
    "# Select desired columns from classified_data\n",
    "labeled_data = classified_data[['Manual.summary', 'Classification']]\n",
    "labeled_data.rename(columns={'Manual.summary': 'text'}, inplace=True)\n",
    "labeled_data.rename(columns={'Classification': 'label'}, inplace=True)\n",
    "\n",
    "# Change column name to text and the classifications to 1 for hawkish and 0 for dovish\n",
    "labeled_data['label'] = labeled_data['label'].map({0: 2, -1: 0, 1: 1})\n",
    "\n",
    "# Change type to int\n",
    "labeled_data['label'] = labeled_data['label'].astype(int)"
   ]
  },
  {
   "cell_type": "markdown",
   "metadata": {},
   "source": [
    "## Model\n",
    "### Pretrained BERT Model"
   ]
  },
  {
   "cell_type": "code",
   "execution_count": null,
   "metadata": {},
   "outputs": [],
   "source": [
    "# Load the BERT tokenizer\n",
    "model_name = \"gtfintechlab/FOMC-RoBERTa\"\n",
    "tokenizer = AutoTokenizer.from_pretrained(model_name)\n",
    "model = AutoModelForSequenceClassification.from_pretrained(model_name, num_labels=3)"
   ]
  },
  {
   "cell_type": "code",
   "execution_count": null,
   "metadata": {},
   "outputs": [],
   "source": [
    "# Shuffle the labeled data and split into train and test sets\n",
    "labeled_data = labeled_data.sample(frac=1, random_state=13).reset_index(drop=True)\n",
    "train_df, test_df = train_test_split(labeled_data, test_size=0.2, random_state=13)\n",
    "\n",
    "# Convert to Hugging Face Dataset\n",
    "dataset = Dataset.from_pandas(train_df)"
   ]
  },
  {
   "cell_type": "code",
   "execution_count": null,
   "metadata": {},
   "outputs": [],
   "source": [
    "def tokenize_function(examples):\n",
    "    return tokenizer(examples[\"text\"], padding=\"max_length\", truncation=True)\n",
    "\n",
    "tokenized_datasets = dataset.map(tokenize_function, batched=True)"
   ]
  },
  {
   "cell_type": "code",
   "execution_count": null,
   "metadata": {},
   "outputs": [],
   "source": [
    "# Split dataset: use 40 for training, 10 for validation\n",
    "small_train_dataset = tokenized_datasets.shuffle(seed=42).select(range(2000))\n",
    "small_eval_dataset = tokenized_datasets.shuffle(seed=42).select(range(2000, 2397))"
   ]
  },
  {
   "cell_type": "code",
   "execution_count": null,
   "metadata": {},
   "outputs": [],
   "source": [
    "from transformers import TrainingArguments, Trainer\n",
    "\n",
    "training_args = TrainingArguments(\n",
    "    output_dir=\"./results\",\n",
    "    evaluation_strategy=\"epoch\",\n",
    "    learning_rate=2e-5,\n",
    "    per_device_train_batch_size=8,\n",
    "    per_device_eval_batch_size=8,\n",
    "    num_train_epochs=3,\n",
    "    weight_decay=0.01,\n",
    ")\n",
    "\n",
    "trainer = Trainer(\n",
    "    model=model,\n",
    "    args=training_args,\n",
    "    train_dataset=small_train_dataset,\n",
    "    eval_dataset=small_eval_dataset,\n",
    ")"
   ]
  },
  {
   "cell_type": "code",
   "execution_count": null,
   "metadata": {},
   "outputs": [],
   "source": [
    "trainer.train()"
   ]
  },
  {
   "cell_type": "code",
   "execution_count": null,
   "metadata": {},
   "outputs": [],
   "source": [
    "# Evaluate the model\n",
    "print(trainer.evaluate())\n",
    "\n",
    "# Save the model\n",
    "trainer.save_model(\"./finetuned-FOMC-RoBERTa\")\n",
    "tokenizer.save_pretrained(\"./finetuned-FOMC-RoBERTa\")"
   ]
  },
  {
   "cell_type": "markdown",
   "metadata": {},
   "source": [
    "## Comparing predictions"
   ]
  },
  {
   "cell_type": "code",
   "execution_count": null,
   "metadata": {},
   "outputs": [],
   "source": [
    "tokenizer = AutoTokenizer.from_pretrained(\"gtfintechlab/FOMC-RoBERTa\", do_lower_case=True, do_basic_tokenize=True)\n",
    "model = AutoModelForSequenceClassification.from_pretrained(\"gtfintechlab/FOMC-RoBERTa\", num_labels=3)\n",
    "config = AutoConfig.from_pretrained(\"gtfintechlab/FOMC-RoBERTa\")\n",
    "\n",
    "classifier = pipeline('text-classification', model=model, tokenizer=tokenizer, config=config, device=-1, framework=\"pt\")"
   ]
  },
  {
   "cell_type": "code",
   "execution_count": null,
   "metadata": {},
   "outputs": [],
   "source": [
    "# Make predictions\n",
    "unlabeled_texts = test_df['text'].tolist()\n",
    "predictions = classifier(unlabeled_texts)\n",
    "\n",
    "# Add predictions to the dataframe\n",
    "test_df['predictions_roberta'] = [pred['label'] for pred in predictions]"
   ]
  },
  {
   "cell_type": "code",
   "execution_count": null,
   "metadata": {},
   "outputs": [],
   "source": [
    "# Change predictions LABEL_0 to -1, LABEL_1 to 1, and LABEL_2 to 0\n",
    "test_df['predictions_roberta'] = test_df['predictions_roberta'].map({'LABEL_0': 0, 'LABEL_1': 1, 'LABEL_2': 2})\n",
    "test_df.head()"
   ]
  },
  {
   "cell_type": "code",
   "execution_count": null,
   "metadata": {},
   "outputs": [],
   "source": [
    "import pandas as pd\n",
    "from sklearn.metrics import confusion_matrix, classification_report\n",
    "\n",
    "actual_labels = test_df['label']\n",
    "predicted_labels = test_df['predictions_roberta']\n",
    "\n",
    "# Create confusion matrix\n",
    "cm = confusion_matrix(actual_labels, predicted_labels, labels=[0, 1, 2])\n",
    "\n",
    "# Print classification report\n",
    "print(classification_report(actual_labels, predicted_labels))\n",
    "\n",
    "# Create a dataframe for better visualization of the confusion matrix\n",
    "cm_df = pd.DataFrame(cm, index=['Actual_Dovish', 'Actual_Hawkish', 'Actual_Neutral'],\n",
    "                     columns=['Predicted_Dovish', 'Predicted_Hawkish', 'Predicted_Neutral'])\n",
    "\n",
    "print(\"Confusion Matrix:\")\n",
    "print(cm_df)\n",
    "\n",
    "# Extracting TP, FP, TN, FN for each class\n",
    "# For 'Dovish'\n",
    "tp_dovish = cm[0, 0]\n",
    "fp_dovish = cm[1:, 0].sum()\n",
    "fn_dovish = cm[0, 1:].sum()\n",
    "tn_dovish = cm[1:, 1:].sum()\n",
    "\n",
    "# For 'Hawkish'\n",
    "tp_hawkish = cm[1, 1]\n",
    "fp_hawkish = cm[[0, 2], 1].sum()\n",
    "fn_hawkish = cm[1, [0, 2]].sum()\n",
    "tn_hawkish = cm[[0, 2], :][:, [0, 2]].sum()\n",
    "\n",
    "# For 'Neutral'\n",
    "tp_neutral = cm[2, 2]\n",
    "fp_neutral = cm[:2, 2].sum()\n",
    "fn_neutral = cm[2, :2].sum()\n",
    "tn_neutral = cm[:2, :2].sum()\n",
    "\n",
    "print(f\"Dovish - TP: {tp_dovish}, FP: {fp_dovish}, FN: {fn_dovish}, TN: {tn_dovish}\")\n",
    "print(f\"Hawkish - TP: {tp_hawkish}, FP: {fp_hawkish}, FN: {fn_hawkish}, TN: {tn_hawkish}\")\n",
    "print(f\"Neutral - TP: {tp_neutral}, FP: {fp_neutral}, FN: {fn_neutral}, TN: {tn_neutral}\")\n"
   ]
  },
  {
   "cell_type": "code",
   "execution_count": null,
   "metadata": {},
   "outputs": [],
   "source": [
    "# Load the fine-tuned model and tokenizer\n",
    "model_path = \"C:/Users/joaqu/OneDrive/Desktop/Masters/finetuned-FOMC-RoBERTa\"\n",
    "fine_tuned_model = AutoModelForSequenceClassification.from_pretrained(model_path)\n",
    "fine_tuned_tokenizer = AutoTokenizer.from_pretrained(model_path)\n",
    "\n",
    "# Create a pipeline for sentiment analysis\n",
    "classifier2 = pipeline(\"sentiment-analysis\", model=fine_tuned_model, tokenizer=fine_tuned_tokenizer)\n",
    "\n",
    "# Make predictions\n",
    "unlabeled_texts = test_df['text'].tolist()\n",
    "predictions2 = classifier2(unlabeled_texts)\n",
    "\n",
    "# Add predictions to the dataframe\n",
    "test_df['predictions_roberta_ft'] = [pred['label'] for pred in predictions2]"
   ]
  },
  {
   "cell_type": "code",
   "execution_count": null,
   "metadata": {},
   "outputs": [],
   "source": [
    "# Change predictions LABEL_0 to -1, LABEL_1 to 1, and LABEL_2 to 0\n",
    "test_df['predictions_roberta_ft'] = test_df['predictions_roberta_ft'].map({'LABEL_0': 0, 'LABEL_1': 1, 'LABEL_2': 2})"
   ]
  },
  {
   "cell_type": "code",
   "execution_count": null,
   "metadata": {},
   "outputs": [],
   "source": [
    "actual_labels = test_df['label']\n",
    "predicted_labels = test_df['predictions_roberta_ft']\n",
    "\n",
    "# Create confusion matrix\n",
    "cm = confusion_matrix(actual_labels, predicted_labels, labels=[0, 1, 2])\n",
    "\n",
    "# Print classification report\n",
    "print(classification_report(actual_labels, predicted_labels))\n",
    "\n",
    "# Create a test_dfframe for better visualization of the confusion matrix\n",
    "cm_df = pd.DataFrame(cm, index=['Actual_Dovish', 'Actual_Hawkish', 'Actual_Neutral'],\n",
    "                     columns=['Predicted_Dovish', 'Predicted_Hawkish', 'Predicted_Neutral'])\n",
    "\n",
    "print(\"Confusion Matrix:\")\n",
    "print(cm_df)\n",
    "\n",
    "# Extracting TP, FP, TN, FN for each class\n",
    "# For 'Dovish'\n",
    "tp_dovish = cm[0, 0]\n",
    "fp_dovish = cm[1:, 0].sum()\n",
    "fn_dovish = cm[0, 1:].sum()\n",
    "tn_dovish = cm[1:, 1:].sum()\n",
    "\n",
    "# For 'Hawkish'\n",
    "tp_hawkish = cm[1, 1]\n",
    "fp_hawkish = cm[[0, 2], 1].sum()\n",
    "fn_hawkish = cm[1, [0, 2]].sum()\n",
    "tn_hawkish = cm[[0, 2], :][:, [0, 2]].sum()\n",
    "\n",
    "# For 'Neutral'\n",
    "tp_neutral = cm[2, 2]\n",
    "fp_neutral = cm[:2, 2].sum()\n",
    "fn_neutral = cm[2, :2].sum()\n",
    "tn_neutral = cm[:2, :2].sum()\n",
    "\n",
    "print(f\"Dovish - TP: {tp_dovish}, FP: {fp_dovish}, FN: {fn_dovish}, TN: {tn_dovish}\")\n",
    "print(f\"Hawkish - TP: {tp_hawkish}, FP: {fp_hawkish}, FN: {fn_hawkish}, TN: {tn_hawkish}\")\n",
    "print(f\"Neutral - TP: {tp_neutral}, FP: {fp_neutral}, FN: {fn_neutral}, TN: {tn_neutral}\")"
   ]
  },
  {
   "cell_type": "code",
   "execution_count": null,
   "metadata": {},
   "outputs": [],
   "source": [
    "# Download necessary NLTK data files\n",
    "nltk.download('punkt')\n",
    "nltk.download('stopwords')\n",
    "nltk.download('wordnet')\n",
    "\n",
    "# Define a text cleaning function\n",
    "def clean_text(text):\n",
    "    # Lowercase the text\n",
    "    text = text.lower()\n",
    "    # Remove punctuation\n",
    "    text = text.translate(str.maketrans('', '', string.punctuation))\n",
    "    # Remove digits\n",
    "    text = re.sub(r'\\d+', '', text)\n",
    "    # Tokenize the text\n",
    "    tokens = word_tokenize(text)\n",
    "    # Remove stopwords\n",
    "    stop_words = set(stopwords.words('english'))\n",
    "    tokens = [word for word in tokens if word not in stop_words]\n",
    "    # Lemmatize the text\n",
    "    lemmatizer = WordNetLemmatizer()\n",
    "    tokens = [lemmatizer.lemmatize(word) for word in tokens]\n",
    "    # Rejoin tokens to form the cleaned text\n",
    "    cleaned_text = ' '.join(tokens)\n",
    "    return cleaned_text\n",
    "\n",
    "\n",
    "# Apply text cleaning to the unlabeled texts\n",
    "unlabeled_texts = test_df['text'].tolist()\n",
    "cleaned_texts = [clean_text(text) for text in unlabeled_texts]\n",
    "\n",
    "# Make predictions on the cleaned texts\n",
    "predictions2 = classifier2(cleaned_texts)\n",
    "\n",
    "# Add predictions to the dataframe\n",
    "test_df['predictions_roberta_ft_cleaned'] = [pred['label'] for pred in predictions2]"
   ]
  },
  {
   "cell_type": "code",
   "execution_count": null,
   "metadata": {},
   "outputs": [],
   "source": [
    "# Change predictions LABEL_0 to -1, LABEL_1 to 1, and LABEL_2 to 0\n",
    "test_df['predictions_roberta_ft_cleaned'] = test_df['predictions_roberta_ft_cleaned'].map({'LABEL_0': 0, 'LABEL_1': 1, 'LABEL_2': 2})"
   ]
  },
  {
   "cell_type": "markdown",
   "metadata": {},
   "source": [
    "### Trying cleaning the text to see if the results improve"
   ]
  },
  {
   "cell_type": "code",
   "execution_count": null,
   "metadata": {},
   "outputs": [],
   "source": [
    "actual_labels = test_df['label']\n",
    "predicted_labels = test_df['predictions_roberta_ft_cleaned']\n",
    "\n",
    "# Create confusion matrix\n",
    "cm = confusion_matrix(actual_labels, predicted_labels, labels=[0, 1, 2])\n",
    "\n",
    "# Print classification report\n",
    "print(classification_report(actual_labels, predicted_labels))\n",
    "\n",
    "# Create a test_dfframe for better visualization of the confusion matrix\n",
    "cm_df = pd.DataFrame(cm, index=['Actual_Dovish', 'Actual_Hawkish', 'Actual_Neutral'],\n",
    "                     columns=['Predicted_Dovish', 'Predicted_Hawkish', 'Predicted_Neutral'])\n",
    "\n",
    "print(\"Confusion Matrix:\")\n",
    "print(cm_df)\n",
    "\n",
    "# Extracting TP, FP, TN, FN for each class\n",
    "# For 'Dovish'\n",
    "tp_dovish = cm[0, 0]\n",
    "fp_dovish = cm[1:, 0].sum()\n",
    "fn_dovish = cm[0, 1:].sum()\n",
    "tn_dovish = cm[1:, 1:].sum()\n",
    "\n",
    "# For 'Hawkish'\n",
    "tp_hawkish = cm[1, 1]\n",
    "fp_hawkish = cm[[0, 2], 1].sum()\n",
    "fn_hawkish = cm[1, [0, 2]].sum()\n",
    "tn_hawkish = cm[[0, 2], :][:, [0, 2]].sum()\n",
    "\n",
    "# For 'Neutral'\n",
    "tp_neutral = cm[2, 2]\n",
    "fp_neutral = cm[:2, 2].sum()\n",
    "fn_neutral = cm[2, :2].sum()\n",
    "tn_neutral = cm[:2, :2].sum()\n",
    "\n",
    "print(f\"Dovish - TP: {tp_dovish}, FP: {fp_dovish}, FN: {fn_dovish}, TN: {tn_dovish}\")\n",
    "print(f\"Hawkish - TP: {tp_hawkish}, FP: {fp_hawkish}, FN: {fn_hawkish}, TN: {tn_hawkish}\")\n",
    "print(f\"Neutral - TP: {tp_neutral}, FP: {fp_neutral}, FN: {fn_neutral}, TN: {tn_neutral}\")"
   ]
  }
 ],
 "metadata": {
  "kernelspec": {
   "display_name": "Python 3",
   "language": "python",
   "name": "python3"
  },
  "language_info": {
   "codemirror_mode": {
    "name": "ipython",
    "version": 3
   },
   "file_extension": ".py",
   "mimetype": "text/x-python",
   "name": "python",
   "nbconvert_exporter": "python",
   "pygments_lexer": "ipython3",
   "version": "3.12.3"
  }
 },
 "nbformat": 4,
 "nbformat_minor": 2
}
