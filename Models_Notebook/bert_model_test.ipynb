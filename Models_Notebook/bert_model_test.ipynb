{
 "cells": [
  {
   "cell_type": "code",
   "execution_count": 1,
   "metadata": {},
   "outputs": [],
   "source": [
    "import numpy as np\n",
    "import pandas as pd\n",
    "import time\n",
    "import datetime\n",
    "import gc\n",
    "import random\n",
    "from nltk.corpus import stopwords\n",
    "import re\n",
    "\n",
    "import torch\n",
    "import torch.nn as nn\n",
    "from torch.utils.data import TensorDataset, DataLoader, RandomSampler, SequentialSampler,random_split\n",
    "from sklearn.model_selection import train_test_split\n",
    "from sklearn.metrics import classification_report\n",
    "\n",
    "import transformers\n",
    "from transformers import AutoTokenizer, AutoModelForSequenceClassification, AdamW, BertConfig,BertTokenizer,get_linear_schedule_with_warmup\n",
    "from datasets import Dataset"
   ]
  },
  {
   "cell_type": "code",
   "execution_count": 2,
   "metadata": {},
   "outputs": [
    {
     "data": {
      "text/plain": [
       "device(type='cpu')"
      ]
     },
     "execution_count": 2,
     "metadata": {},
     "output_type": "execute_result"
    }
   ],
   "source": [
    "device = torch.device(\"cuda:0\" if torch.cuda.is_available() else \"cpu\")\n",
    "device"
   ]
  },
  {
   "cell_type": "markdown",
   "metadata": {},
   "source": [
    "## Loading and cleaning the data"
   ]
  },
  {
   "cell_type": "code",
   "execution_count": 3,
   "metadata": {},
   "outputs": [
    {
     "data": {
      "text/html": [
       "<div>\n",
       "<style scoped>\n",
       "    .dataframe tbody tr th:only-of-type {\n",
       "        vertical-align: middle;\n",
       "    }\n",
       "\n",
       "    .dataframe tbody tr th {\n",
       "        vertical-align: top;\n",
       "    }\n",
       "\n",
       "    .dataframe thead th {\n",
       "        text-align: right;\n",
       "    }\n",
       "</style>\n",
       "<table border=\"1\" class=\"dataframe\">\n",
       "  <thead>\n",
       "    <tr style=\"text-align: right;\">\n",
       "      <th></th>\n",
       "      <th>Date</th>\n",
       "      <th>Source</th>\n",
       "      <th>Headline</th>\n",
       "      <th>Translated.headline</th>\n",
       "      <th>Manual.summary</th>\n",
       "      <th>Original.article.url</th>\n",
       "      <th>Translated.text</th>\n",
       "      <th>Media.type</th>\n",
       "      <th>Speaker</th>\n",
       "      <th>Reach</th>\n",
       "      <th>Language</th>\n",
       "      <th>Country.Code</th>\n",
       "      <th>Sitename</th>\n",
       "      <th>Tags</th>\n",
       "      <th>Site_Readership</th>\n",
       "      <th>Article_Readership</th>\n",
       "      <th>Classification</th>\n",
       "      <th>Score</th>\n",
       "      <th>Explanation</th>\n",
       "    </tr>\n",
       "  </thead>\n",
       "  <tbody>\n",
       "    <tr>\n",
       "      <th>0</th>\n",
       "      <td>2022-09-30 22:08:34</td>\n",
       "      <td>Il Messaggero - Borsa Italiana</td>\n",
       "      <td>Visco: «Troppi rialzi dei tassi, si va in rece...</td>\n",
       "      <td>Banca d'Italia's Visco: \"Too many rate hikes w...</td>\n",
       "      <td>At a conference in Florence, Banca d'Italia Go...</td>\n",
       "      <td>https://www.ilmessaggero.it/economia/news/tass...</td>\n",
       "      <td>No to an excessive rise in rates. The Governor...</td>\n",
       "      <td>WEB</td>\n",
       "      <td>Newspapers</td>\n",
       "      <td>1174293</td>\n",
       "      <td>it</td>\n",
       "      <td>IT</td>\n",
       "      <td>Il Messaggero</td>\n",
       "      <td>European Central Bank, European Monetary Union...</td>\n",
       "      <td>2296944.0</td>\n",
       "      <td>0.0</td>\n",
       "      <td>Dovish</td>\n",
       "      <td>-0.6</td>\n",
       "      <td>The article leans towards a dovish sentiment a...</td>\n",
       "    </tr>\n",
       "    <tr>\n",
       "      <th>1</th>\n",
       "      <td>2022-09-30 21:30:13</td>\n",
       "      <td>Handelsblatt - Finanzen</td>\n",
       "      <td>EZB-Ratsmitglied Visco: Rezessionsrisiko bei g...</td>\n",
       "      <td>ECB 's Visco: Recession risk in the event of m...</td>\n",
       "      <td>Banca d'Italia Governor  Ignazio Visco  on Fri...</td>\n",
       "      <td>https://www.handelsblatt.com/finanzen/geldpoli...</td>\n",
       "      <td>NaN</td>\n",
       "      <td>WEB</td>\n",
       "      <td>Newspapers</td>\n",
       "      <td>525924</td>\n",
       "      <td>de</td>\n",
       "      <td>DE</td>\n",
       "      <td>Handelsblatt</td>\n",
       "      <td>European Central Bank, European Monetary Union...</td>\n",
       "      <td>314148.0</td>\n",
       "      <td>811493.0</td>\n",
       "      <td>Dovish</td>\n",
       "      <td>-0.8</td>\n",
       "      <td>The article suggests a dovish sentiment by adv...</td>\n",
       "    </tr>\n",
       "    <tr>\n",
       "      <th>2</th>\n",
       "      <td>2022-09-30 20:56:08</td>\n",
       "      <td>Bloomberg - GNews</td>\n",
       "      <td>ECB 's Schnabel Says Weaker Demand May Not Eas...</td>\n",
       "      <td>ECB 's Schnabel says weaker demand may not eas...</td>\n",
       "      <td>ECB  Executive Board Member  Isabel Schnabel  ...</td>\n",
       "      <td>https://www.bloomberg.com/news/articles/2022-0...</td>\n",
       "      <td>European Central Bank Executive Board member I...</td>\n",
       "      <td>WEB</td>\n",
       "      <td>Net Magazine</td>\n",
       "      <td>2520979</td>\n",
       "      <td>en</td>\n",
       "      <td>US</td>\n",
       "      <td>Bloomberg</td>\n",
       "      <td>European Central Bank, Inflation, Rank 1, Core...</td>\n",
       "      <td>1309524.0</td>\n",
       "      <td>278016.0</td>\n",
       "      <td>Hawkish</td>\n",
       "      <td>0.8</td>\n",
       "      <td>The article suggests a hawkish stance by advoc...</td>\n",
       "    </tr>\n",
       "    <tr>\n",
       "      <th>3</th>\n",
       "      <td>2022-09-30 18:42:47</td>\n",
       "      <td>Il Foglio - Page 3</td>\n",
       "      <td>**Conti pubblici: Visco, rientro debito ben in...</td>\n",
       "      <td>Public accounts: Visco, debt repayment well ad...</td>\n",
       "      <td>In a speech organised by the Florence School o...</td>\n",
       "      <td>https://www.ilfoglio.it/adnkronos/2022/09/30/n...</td>\n",
       "      <td>NaN</td>\n",
       "      <td>WEB</td>\n",
       "      <td>Newspapers</td>\n",
       "      <td>230279</td>\n",
       "      <td>it</td>\n",
       "      <td>IT</td>\n",
       "      <td>Il Foglio</td>\n",
       "      <td>European Central Bank, European Monetary Union...</td>\n",
       "      <td>204119.0</td>\n",
       "      <td>0.0</td>\n",
       "      <td>Dovish</td>\n",
       "      <td>-0.6</td>\n",
       "      <td>The article suggests a dovish sentiment as it ...</td>\n",
       "    </tr>\n",
       "    <tr>\n",
       "      <th>4</th>\n",
       "      <td>2022-09-30 18:32:37</td>\n",
       "      <td>Finance.si - Live</td>\n",
       "      <td>Evrska inflacija na novem rekordu. Bo  ECB  ok...</td>\n",
       "      <td>Euro area inflation on a new record. Will the ...</td>\n",
       "      <td>According to first estimates, euro area inflat...</td>\n",
       "      <td>https://www.finance.si/9004503/Evrska-inflacij...</td>\n",
       "      <td>NaN</td>\n",
       "      <td>WEB</td>\n",
       "      <td>Net Magazine</td>\n",
       "      <td>31368</td>\n",
       "      <td>sl</td>\n",
       "      <td>SI</td>\n",
       "      <td>Finance.si</td>\n",
       "      <td>European Central Bank, Inflation, Rank 2, Chri...</td>\n",
       "      <td>179079.0</td>\n",
       "      <td>0.0</td>\n",
       "      <td>Hawkish</td>\n",
       "      <td>0.8</td>\n",
       "      <td>The article suggests concerns about high infla...</td>\n",
       "    </tr>\n",
       "  </tbody>\n",
       "</table>\n",
       "</div>"
      ],
      "text/plain": [
       "                 Date                          Source  \\\n",
       "0 2022-09-30 22:08:34  Il Messaggero - Borsa Italiana   \n",
       "1 2022-09-30 21:30:13         Handelsblatt - Finanzen   \n",
       "2 2022-09-30 20:56:08               Bloomberg - GNews   \n",
       "3 2022-09-30 18:42:47              Il Foglio - Page 3   \n",
       "4 2022-09-30 18:32:37               Finance.si - Live   \n",
       "\n",
       "                                            Headline  \\\n",
       "0  Visco: «Troppi rialzi dei tassi, si va in rece...   \n",
       "1  EZB-Ratsmitglied Visco: Rezessionsrisiko bei g...   \n",
       "2  ECB 's Schnabel Says Weaker Demand May Not Eas...   \n",
       "3  **Conti pubblici: Visco, rientro debito ben in...   \n",
       "4  Evrska inflacija na novem rekordu. Bo  ECB  ok...   \n",
       "\n",
       "                                 Translated.headline  \\\n",
       "0  Banca d'Italia's Visco: \"Too many rate hikes w...   \n",
       "1  ECB 's Visco: Recession risk in the event of m...   \n",
       "2  ECB 's Schnabel says weaker demand may not eas...   \n",
       "3  Public accounts: Visco, debt repayment well ad...   \n",
       "4  Euro area inflation on a new record. Will the ...   \n",
       "\n",
       "                                      Manual.summary  \\\n",
       "0  At a conference in Florence, Banca d'Italia Go...   \n",
       "1  Banca d'Italia Governor  Ignazio Visco  on Fri...   \n",
       "2  ECB  Executive Board Member  Isabel Schnabel  ...   \n",
       "3  In a speech organised by the Florence School o...   \n",
       "4  According to first estimates, euro area inflat...   \n",
       "\n",
       "                                Original.article.url  \\\n",
       "0  https://www.ilmessaggero.it/economia/news/tass...   \n",
       "1  https://www.handelsblatt.com/finanzen/geldpoli...   \n",
       "2  https://www.bloomberg.com/news/articles/2022-0...   \n",
       "3  https://www.ilfoglio.it/adnkronos/2022/09/30/n...   \n",
       "4  https://www.finance.si/9004503/Evrska-inflacij...   \n",
       "\n",
       "                                     Translated.text Media.type       Speaker  \\\n",
       "0  No to an excessive rise in rates. The Governor...        WEB    Newspapers   \n",
       "1                                                NaN        WEB    Newspapers   \n",
       "2  European Central Bank Executive Board member I...        WEB  Net Magazine   \n",
       "3                                                NaN        WEB    Newspapers   \n",
       "4                                                NaN        WEB  Net Magazine   \n",
       "\n",
       "     Reach Language Country.Code       Sitename  \\\n",
       "0  1174293       it           IT  Il Messaggero   \n",
       "1   525924       de           DE   Handelsblatt   \n",
       "2  2520979       en           US      Bloomberg   \n",
       "3   230279       it           IT      Il Foglio   \n",
       "4    31368       sl           SI     Finance.si   \n",
       "\n",
       "                                                Tags  Site_Readership  \\\n",
       "0  European Central Bank, European Monetary Union...        2296944.0   \n",
       "1  European Central Bank, European Monetary Union...         314148.0   \n",
       "2  European Central Bank, Inflation, Rank 1, Core...        1309524.0   \n",
       "3  European Central Bank, European Monetary Union...         204119.0   \n",
       "4  European Central Bank, Inflation, Rank 2, Chri...         179079.0   \n",
       "\n",
       "   Article_Readership Classification  Score  \\\n",
       "0                 0.0         Dovish   -0.6   \n",
       "1            811493.0         Dovish   -0.8   \n",
       "2            278016.0        Hawkish    0.8   \n",
       "3                 0.0         Dovish   -0.6   \n",
       "4                 0.0        Hawkish    0.8   \n",
       "\n",
       "                                         Explanation  \n",
       "0  The article leans towards a dovish sentiment a...  \n",
       "1  The article suggests a dovish sentiment by adv...  \n",
       "2  The article suggests a hawkish stance by advoc...  \n",
       "3  The article suggests a dovish sentiment as it ...  \n",
       "4  The article suggests concerns about high infla...  "
      ]
     },
     "execution_count": 3,
     "metadata": {},
     "output_type": "execute_result"
    }
   ],
   "source": [
    "classified_data = pd.read_excel('C:/Users/jaoss/Desktop/Data_Science/Master_Project/Git_Repository/ECB_Perceived_Cacophony/classified_articles_50.xlsx')\n",
    "classified_data.head()"
   ]
  },
  {
   "cell_type": "code",
   "execution_count": 4,
   "metadata": {},
   "outputs": [
    {
     "data": {
      "text/plain": [
       "'According to first estimates, euro area inflation jumped to 10% in September, which is a new record for the region. In August, euro area inflation, as measured by the harmonised consumer price index, was 9.1%, and last September it was 3.4%. Record price growth and the fact that inflation is now expressed in double digits in Germany mean additional pressure on the  ECB  to take measures to control it.  ECB  Governing Council members will meet on 27 October and many experts consider that the  central bank  should continue to be aggressive in the future.  ECB  President  Christine Lagarde  has explicitly confirmed that interest rate hikes are far from over.'"
      ]
     },
     "execution_count": 4,
     "metadata": {},
     "output_type": "execute_result"
    }
   ],
   "source": [
    "classified_data['Manual.summary'].tolist()[4]"
   ]
  },
  {
   "cell_type": "code",
   "execution_count": 5,
   "metadata": {},
   "outputs": [
    {
     "name": "stdout",
     "output_type": "stream",
     "text": [
      "(29823, 15)\n"
     ]
    },
    {
     "data": {
      "text/html": [
       "<div>\n",
       "<style scoped>\n",
       "    .dataframe tbody tr th:only-of-type {\n",
       "        vertical-align: middle;\n",
       "    }\n",
       "\n",
       "    .dataframe tbody tr th {\n",
       "        vertical-align: top;\n",
       "    }\n",
       "\n",
       "    .dataframe thead th {\n",
       "        text-align: right;\n",
       "    }\n",
       "</style>\n",
       "<table border=\"1\" class=\"dataframe\">\n",
       "  <thead>\n",
       "    <tr style=\"text-align: right;\">\n",
       "      <th></th>\n",
       "      <th>Date</th>\n",
       "      <th>Source</th>\n",
       "      <th>Headline</th>\n",
       "      <th>Translated.headline</th>\n",
       "      <th>Manual.summary</th>\n",
       "      <th>Original.article.url</th>\n",
       "      <th>Media.type</th>\n",
       "      <th>Speaker</th>\n",
       "      <th>Reach</th>\n",
       "      <th>Language</th>\n",
       "      <th>Country.Code</th>\n",
       "      <th>Sitename</th>\n",
       "      <th>Tags</th>\n",
       "      <th>Site_Readership</th>\n",
       "      <th>Article_Readership</th>\n",
       "    </tr>\n",
       "  </thead>\n",
       "  <tbody>\n",
       "    <tr>\n",
       "      <th>0</th>\n",
       "      <td>2022-09-30 22:08:34</td>\n",
       "      <td>Il Messaggero - Borsa Italiana</td>\n",
       "      <td>Visco: «Troppi rialzi dei tassi, si va in rece...</td>\n",
       "      <td>Banca d'Italia's Visco: \"Too many rate hikes w...</td>\n",
       "      <td>At a conference in Florence, Banca d'Italia Go...</td>\n",
       "      <td>https://www.ilmessaggero.it/economia/news/tass...</td>\n",
       "      <td>WEB</td>\n",
       "      <td>Newspapers</td>\n",
       "      <td>1174293</td>\n",
       "      <td>it</td>\n",
       "      <td>IT</td>\n",
       "      <td>Il Messaggero</td>\n",
       "      <td>European Central Bank, European Monetary Union...</td>\n",
       "      <td>2296944.0</td>\n",
       "      <td>0.0</td>\n",
       "    </tr>\n",
       "    <tr>\n",
       "      <th>2</th>\n",
       "      <td>2022-09-30 21:30:13</td>\n",
       "      <td>Handelsblatt - Finanzen</td>\n",
       "      <td>EZB-Ratsmitglied Visco: Rezessionsrisiko bei g...</td>\n",
       "      <td>ECB 's Visco: Recession risk in the event of m...</td>\n",
       "      <td>Banca d'Italia Governor  Ignazio Visco  on Fri...</td>\n",
       "      <td>https://www.handelsblatt.com/finanzen/geldpoli...</td>\n",
       "      <td>WEB</td>\n",
       "      <td>Newspapers</td>\n",
       "      <td>525924</td>\n",
       "      <td>de</td>\n",
       "      <td>DE</td>\n",
       "      <td>Handelsblatt</td>\n",
       "      <td>European Central Bank, European Monetary Union...</td>\n",
       "      <td>314148.0</td>\n",
       "      <td>811493.0</td>\n",
       "    </tr>\n",
       "    <tr>\n",
       "      <th>4</th>\n",
       "      <td>2022-09-30 20:56:08</td>\n",
       "      <td>Bloomberg - GNews</td>\n",
       "      <td>ECB 's Schnabel Says Weaker Demand May Not Eas...</td>\n",
       "      <td>ECB 's Schnabel says weaker demand may not eas...</td>\n",
       "      <td>ECB  Executive Board Member  Isabel Schnabel  ...</td>\n",
       "      <td>https://www.bloomberg.com/news/articles/2022-0...</td>\n",
       "      <td>WEB</td>\n",
       "      <td>Net Magazine</td>\n",
       "      <td>2520979</td>\n",
       "      <td>en</td>\n",
       "      <td>US</td>\n",
       "      <td>Bloomberg</td>\n",
       "      <td>European Central Bank, Inflation, Rank 1, Core...</td>\n",
       "      <td>1309524.0</td>\n",
       "      <td>278016.0</td>\n",
       "    </tr>\n",
       "    <tr>\n",
       "      <th>11</th>\n",
       "      <td>2022-09-30 18:42:47</td>\n",
       "      <td>Il Foglio - Page 3</td>\n",
       "      <td>**Conti pubblici: Visco, rientro debito ben in...</td>\n",
       "      <td>Public accounts: Visco, debt repayment well ad...</td>\n",
       "      <td>In a speech organised by the Florence School o...</td>\n",
       "      <td>https://www.ilfoglio.it/adnkronos/2022/09/30/n...</td>\n",
       "      <td>WEB</td>\n",
       "      <td>Newspapers</td>\n",
       "      <td>230279</td>\n",
       "      <td>it</td>\n",
       "      <td>IT</td>\n",
       "      <td>Il Foglio</td>\n",
       "      <td>European Central Bank, European Monetary Union...</td>\n",
       "      <td>204119.0</td>\n",
       "      <td>0.0</td>\n",
       "    </tr>\n",
       "    <tr>\n",
       "      <th>13</th>\n",
       "      <td>2022-09-30 18:32:37</td>\n",
       "      <td>Finance.si - Live</td>\n",
       "      <td>Evrska inflacija na novem rekordu. Bo  ECB  ok...</td>\n",
       "      <td>Euro area inflation on a new record. Will the ...</td>\n",
       "      <td>According to first estimates, euro area inflat...</td>\n",
       "      <td>https://www.finance.si/9004503/Evrska-inflacij...</td>\n",
       "      <td>WEB</td>\n",
       "      <td>Net Magazine</td>\n",
       "      <td>31368</td>\n",
       "      <td>sl</td>\n",
       "      <td>SI</td>\n",
       "      <td>Finance.si</td>\n",
       "      <td>European Central Bank, Inflation, Rank 2, Chri...</td>\n",
       "      <td>179079.0</td>\n",
       "      <td>0.0</td>\n",
       "    </tr>\n",
       "  </tbody>\n",
       "</table>\n",
       "</div>"
      ],
      "text/plain": [
       "                  Date                          Source  \\\n",
       "0  2022-09-30 22:08:34  Il Messaggero - Borsa Italiana   \n",
       "2  2022-09-30 21:30:13         Handelsblatt - Finanzen   \n",
       "4  2022-09-30 20:56:08               Bloomberg - GNews   \n",
       "11 2022-09-30 18:42:47              Il Foglio - Page 3   \n",
       "13 2022-09-30 18:32:37               Finance.si - Live   \n",
       "\n",
       "                                             Headline  \\\n",
       "0   Visco: «Troppi rialzi dei tassi, si va in rece...   \n",
       "2   EZB-Ratsmitglied Visco: Rezessionsrisiko bei g...   \n",
       "4   ECB 's Schnabel Says Weaker Demand May Not Eas...   \n",
       "11  **Conti pubblici: Visco, rientro debito ben in...   \n",
       "13  Evrska inflacija na novem rekordu. Bo  ECB  ok...   \n",
       "\n",
       "                                  Translated.headline  \\\n",
       "0   Banca d'Italia's Visco: \"Too many rate hikes w...   \n",
       "2   ECB 's Visco: Recession risk in the event of m...   \n",
       "4   ECB 's Schnabel says weaker demand may not eas...   \n",
       "11  Public accounts: Visco, debt repayment well ad...   \n",
       "13  Euro area inflation on a new record. Will the ...   \n",
       "\n",
       "                                       Manual.summary  \\\n",
       "0   At a conference in Florence, Banca d'Italia Go...   \n",
       "2   Banca d'Italia Governor  Ignazio Visco  on Fri...   \n",
       "4   ECB  Executive Board Member  Isabel Schnabel  ...   \n",
       "11  In a speech organised by the Florence School o...   \n",
       "13  According to first estimates, euro area inflat...   \n",
       "\n",
       "                                 Original.article.url Media.type  \\\n",
       "0   https://www.ilmessaggero.it/economia/news/tass...        WEB   \n",
       "2   https://www.handelsblatt.com/finanzen/geldpoli...        WEB   \n",
       "4   https://www.bloomberg.com/news/articles/2022-0...        WEB   \n",
       "11  https://www.ilfoglio.it/adnkronos/2022/09/30/n...        WEB   \n",
       "13  https://www.finance.si/9004503/Evrska-inflacij...        WEB   \n",
       "\n",
       "         Speaker    Reach Language Country.Code       Sitename  \\\n",
       "0     Newspapers  1174293       it           IT  Il Messaggero   \n",
       "2     Newspapers   525924       de           DE   Handelsblatt   \n",
       "4   Net Magazine  2520979       en           US      Bloomberg   \n",
       "11    Newspapers   230279       it           IT      Il Foglio   \n",
       "13  Net Magazine    31368       sl           SI     Finance.si   \n",
       "\n",
       "                                                 Tags  Site_Readership  \\\n",
       "0   European Central Bank, European Monetary Union...        2296944.0   \n",
       "2   European Central Bank, European Monetary Union...         314148.0   \n",
       "4   European Central Bank, Inflation, Rank 1, Core...        1309524.0   \n",
       "11  European Central Bank, European Monetary Union...         204119.0   \n",
       "13  European Central Bank, Inflation, Rank 2, Chri...         179079.0   \n",
       "\n",
       "    Article_Readership  \n",
       "0                  0.0  \n",
       "2             811493.0  \n",
       "4             278016.0  \n",
       "11                 0.0  \n",
       "13                 0.0  "
      ]
     },
     "execution_count": 5,
     "metadata": {},
     "output_type": "execute_result"
    }
   ],
   "source": [
    "total_data = pd.read_excel('C:/Users/jaoss/Desktop/Data_Science/Master_Project/combined.xlsx')\n",
    "total_data.drop_duplicates(subset=['Manual.summary'], inplace=True)\n",
    "total_data.dropna(subset='Manual.summary', inplace=True)\n",
    "print(total_data.shape)\n",
    "total_data.head()"
   ]
  },
  {
   "cell_type": "code",
   "execution_count": 6,
   "metadata": {},
   "outputs": [],
   "source": [
    "# Drop rows with NaN values in 'Manual.summary' column from total_data\n",
    "total_data_cleaned = total_data.dropna(subset=['Manual.summary'])['Manual.summary']\n",
    "\n",
    "# Select desired columns from classified_data\n",
    "classified_data_selected = classified_data[['Manual.summary', 'Classification']]\n",
    "\n",
    "# Concatenate the dataframes\n",
    "data = pd.concat([total_data_cleaned, classified_data_selected])\n",
    "data.drop_duplicates(subset='Manual.summary', inplace=True)"
   ]
  },
  {
   "cell_type": "code",
   "execution_count": 7,
   "metadata": {},
   "outputs": [
    {
     "name": "stdout",
     "output_type": "stream",
     "text": [
      "(50, 2)\n"
     ]
    },
    {
     "data": {
      "text/html": [
       "<div>\n",
       "<style scoped>\n",
       "    .dataframe tbody tr th:only-of-type {\n",
       "        vertical-align: middle;\n",
       "    }\n",
       "\n",
       "    .dataframe tbody tr th {\n",
       "        vertical-align: top;\n",
       "    }\n",
       "\n",
       "    .dataframe thead th {\n",
       "        text-align: right;\n",
       "    }\n",
       "</style>\n",
       "<table border=\"1\" class=\"dataframe\">\n",
       "  <thead>\n",
       "    <tr style=\"text-align: right;\">\n",
       "      <th></th>\n",
       "      <th>Manual.summary</th>\n",
       "      <th>Classification</th>\n",
       "    </tr>\n",
       "  </thead>\n",
       "  <tbody>\n",
       "    <tr>\n",
       "      <th>0</th>\n",
       "      <td>At a conference in Florence, Banca d'Italia Go...</td>\n",
       "      <td>Dovish</td>\n",
       "    </tr>\n",
       "    <tr>\n",
       "      <th>1</th>\n",
       "      <td>Banca d'Italia Governor  Ignazio Visco  on Fri...</td>\n",
       "      <td>Dovish</td>\n",
       "    </tr>\n",
       "    <tr>\n",
       "      <th>2</th>\n",
       "      <td>ECB  Executive Board Member  Isabel Schnabel  ...</td>\n",
       "      <td>Hawkish</td>\n",
       "    </tr>\n",
       "    <tr>\n",
       "      <th>3</th>\n",
       "      <td>In a speech organised by the Florence School o...</td>\n",
       "      <td>Dovish</td>\n",
       "    </tr>\n",
       "    <tr>\n",
       "      <th>4</th>\n",
       "      <td>According to first estimates, euro area inflat...</td>\n",
       "      <td>Hawkish</td>\n",
       "    </tr>\n",
       "  </tbody>\n",
       "</table>\n",
       "</div>"
      ],
      "text/plain": [
       "                                      Manual.summary Classification\n",
       "0  At a conference in Florence, Banca d'Italia Go...         Dovish\n",
       "1  Banca d'Italia Governor  Ignazio Visco  on Fri...         Dovish\n",
       "2  ECB  Executive Board Member  Isabel Schnabel  ...        Hawkish\n",
       "3  In a speech organised by the Florence School o...         Dovish\n",
       "4  According to first estimates, euro area inflat...        Hawkish"
      ]
     },
     "execution_count": 7,
     "metadata": {},
     "output_type": "execute_result"
    }
   ],
   "source": [
    "# Select a random subset of the data that have NaN values in Classification of 450 rows\n",
    "data = pd.concat([data[data['Classification'].isnull()].sample(n=0, random_state=28), classified_data_selected])\n",
    "data.reset_index(drop=True, inplace=True)\n",
    "print(data.shape)\n",
    "data.head()"
   ]
  },
  {
   "cell_type": "code",
   "execution_count": 8,
   "metadata": {},
   "outputs": [
    {
     "name": "stdout",
     "output_type": "stream",
     "text": [
      "<class 'pandas.core.frame.DataFrame'>\n",
      "RangeIndex: 50 entries, 0 to 49\n",
      "Data columns (total 2 columns):\n",
      " #   Column          Non-Null Count  Dtype \n",
      "---  ------          --------------  ----- \n",
      " 0   Manual.summary  50 non-null     object\n",
      " 1   Classification  50 non-null     object\n",
      "dtypes: object(2)\n",
      "memory usage: 928.0+ bytes\n"
     ]
    }
   ],
   "source": [
    "data.info()"
   ]
  },
  {
   "cell_type": "markdown",
   "metadata": {},
   "source": [
    "## Model\n",
    "### Pretrained BERT Model"
   ]
  },
  {
   "cell_type": "code",
   "execution_count": 9,
   "metadata": {},
   "outputs": [],
   "source": [
    "# Load the BERT tokenizer\n",
    "model_name = \"gtfintechlab/FOMC-RoBERTa\"\n",
    "tokenizer = AutoTokenizer.from_pretrained(model_name)\n",
    "model = AutoModelForSequenceClassification.from_pretrained(model_name, num_labels=3)"
   ]
  },
  {
   "cell_type": "code",
   "execution_count": 10,
   "metadata": {},
   "outputs": [],
   "source": [
    "# Change column name to text and the classifications to 1 for hawkish and 0 for dovish\n",
    "data.rename(columns={'Manual.summary': 'text'}, inplace=True)\n",
    "data.rename(columns={'Classification': 'label'}, inplace=True)\n",
    "data['label'] = data['label'].map({'Hawkish': 1, 'Dovish': 0, pd.NA: np.nan})\n",
    "\n",
    "# Change type to int\n",
    "data['label'] = data['label'].astype(int)\n",
    "\n",
    "# Convert to Hugging Face Dataset\n",
    "dataset = Dataset.from_pandas(data)"
   ]
  },
  {
   "cell_type": "code",
   "execution_count": 11,
   "metadata": {},
   "outputs": [
    {
     "data": {
      "application/vnd.jupyter.widget-view+json": {
       "model_id": "7e85a2ae06c349c38924541fe8601541",
       "version_major": 2,
       "version_minor": 0
      },
      "text/plain": [
       "Map:   0%|          | 0/50 [00:00<?, ? examples/s]"
      ]
     },
     "metadata": {},
     "output_type": "display_data"
    }
   ],
   "source": [
    "def tokenize_function(examples):\n",
    "    return tokenizer(examples[\"text\"], padding=\"max_length\", truncation=True)\n",
    "\n",
    "tokenized_datasets = dataset.map(tokenize_function, batched=True)"
   ]
  },
  {
   "cell_type": "code",
   "execution_count": 12,
   "metadata": {},
   "outputs": [],
   "source": [
    "# Split dataset: use 40 for training, 10 for validation\n",
    "small_train_dataset = tokenized_datasets.shuffle(seed=42).select(range(40))\n",
    "small_eval_dataset = tokenized_datasets.shuffle(seed=42).select(range(40, 50))"
   ]
  },
  {
   "cell_type": "code",
   "execution_count": 13,
   "metadata": {},
   "outputs": [
    {
     "name": "stderr",
     "output_type": "stream",
     "text": [
      "c:\\Users\\jaoss\\Desktop\\Data_Science\\mycondaenv\\Lib\\site-packages\\accelerate\\accelerator.py:446: FutureWarning: Passing the following arguments to `Accelerator` is deprecated and will be removed in version 1.0 of Accelerate: dict_keys(['dispatch_batches', 'split_batches']). Please pass an `accelerate.DataLoaderConfiguration` instead: \n",
      "dataloader_config = DataLoaderConfiguration(dispatch_batches=None, split_batches=False)\n",
      "  warnings.warn(\n"
     ]
    }
   ],
   "source": [
    "from transformers import TrainingArguments, Trainer\n",
    "\n",
    "training_args = TrainingArguments(\n",
    "    output_dir=\"./results\",\n",
    "    evaluation_strategy=\"epoch\",\n",
    "    learning_rate=2e-5,\n",
    "    per_device_train_batch_size=8,\n",
    "    per_device_eval_batch_size=8,\n",
    "    num_train_epochs=3,\n",
    "    weight_decay=0.01,\n",
    ")\n",
    "\n",
    "trainer = Trainer(\n",
    "    model=model,\n",
    "    args=training_args,\n",
    "    train_dataset=small_train_dataset,\n",
    "    eval_dataset=small_eval_dataset,\n",
    ")"
   ]
  },
  {
   "cell_type": "code",
   "execution_count": 14,
   "metadata": {},
   "outputs": [
    {
     "data": {
      "application/vnd.jupyter.widget-view+json": {
       "model_id": "1a5af7c8c6cd4608b8aa50f04cfc32d8",
       "version_major": 2,
       "version_minor": 0
      },
      "text/plain": [
       "  0%|          | 0/15 [00:00<?, ?it/s]"
      ]
     },
     "metadata": {},
     "output_type": "display_data"
    }
   ],
   "source": [
    "trainer.train()"
   ]
  },
  {
   "cell_type": "code",
   "execution_count": 23,
   "metadata": {},
   "outputs": [
    {
     "name": "stdout",
     "output_type": "stream",
     "text": [
      "[{'label': 'LABEL_1', 'score': 0.999393105506897}, {'label': 'LABEL_0', 'score': 0.9979877471923828}]\n"
     ]
    }
   ],
   "source": [
    "from transformers import pipeline\n",
    "from transformers import AutoTokenizer, AutoModelForSequenceClassification, AutoConfig\n",
    "\n",
    "tokenizer = AutoTokenizer.from_pretrained(\"gtfintechlab/FOMC-RoBERTa\", do_lower_case=True, do_basic_tokenize=True)\n",
    "model = AutoModelForSequenceClassification.from_pretrained(\"gtfintechlab/FOMC-RoBERTa\", num_labels=3)\n",
    "config = AutoConfig.from_pretrained(\"gtfintechlab/FOMC-RoBERTa\")\n",
    "\n",
    "classifier = pipeline('text-classification', model=model, tokenizer=tokenizer, config=config, device=-1, framework=\"pt\")\n",
    "results = classifier([\"Such a directive would imply that any tightening should be implemented promptly if developments were perceived as pointing to rising inflation.\", \n",
    "                    \"The International Monetary Fund projects that global economic growth in 2019 will be the slowest since the financial crisis.\"], \n",
    "                    batch_size=128, truncation=\"only_first\")\n",
    "\n",
    "print(results)\n"
   ]
  },
  {
   "cell_type": "code",
   "execution_count": 25,
   "metadata": {},
   "outputs": [],
   "source": [
    "import pandas as pd\n",
    "from datasets import Dataset\n",
    "\n",
    "# Load your labeled dataset (50 labeled articles)\n",
    "labeled_df = pd.read_csv('C:/Users/jaoss/Desktop/Data_Science/Master_Project/Git_Repository/ECB_Perceived_Cacophony/labeled_articles.csv')\n",
    "\n",
    "# Ensure the labels are integers\n",
    "labeled_df['label'] = labeled_df['label'].astype(int)\n",
    "\n",
    "# Convert to Hugging Face Dataset\n",
    "dataset = Dataset.from_pandas(labeled_df)\n"
   ]
  },
  {
   "cell_type": "code",
   "execution_count": null,
   "metadata": {},
   "outputs": [],
   "source": [
    "from transformers import AutoTokenizer\n",
    "\n",
    "tokenizer = AutoTokenizer.from_pretrained(\"gtfintechlab/FOMC-RoBERTa\")\n",
    "\n",
    "def tokenize_function(examples):\n",
    "    return tokenizer(examples[\"text\"], padding=\"max_length\", truncation=True)\n",
    "\n",
    "tokenized_datasets = dataset.map(tokenize_function, batched=True)\n",
    "tokenized_datasets = tokenized_datasets.remove_columns([\"text\"])  # Remove raw text column\n",
    "tokenized_datasets.set_format(\"torch\")  # Set format to PyTorch tensors"
   ]
  },
  {
   "cell_type": "code",
   "execution_count": null,
   "metadata": {},
   "outputs": [],
   "source": []
  }
 ],
 "metadata": {
  "kernelspec": {
   "display_name": "Python 3",
   "language": "python",
   "name": "python3"
  },
  "language_info": {
   "codemirror_mode": {
    "name": "ipython",
    "version": 3
   },
   "file_extension": ".py",
   "mimetype": "text/x-python",
   "name": "python",
   "nbconvert_exporter": "python",
   "pygments_lexer": "ipython3",
   "version": "3.11.0"
  }
 },
 "nbformat": 4,
 "nbformat_minor": 2
}
