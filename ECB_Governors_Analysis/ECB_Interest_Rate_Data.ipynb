{
 "cells": [
  {
   "cell_type": "code",
   "execution_count": 11,
   "metadata": {},
   "outputs": [],
   "source": [
    "import plotly.express as px\n",
    "import pandas as pd"
   ]
  },
  {
   "cell_type": "code",
   "execution_count": 12,
   "metadata": {},
   "outputs": [
    {
     "data": {
      "text/html": [
       "<div>\n",
       "<style scoped>\n",
       "    .dataframe tbody tr th:only-of-type {\n",
       "        vertical-align: middle;\n",
       "    }\n",
       "\n",
       "    .dataframe tbody tr th {\n",
       "        vertical-align: top;\n",
       "    }\n",
       "\n",
       "    .dataframe thead th {\n",
       "        text-align: right;\n",
       "    }\n",
       "</style>\n",
       "<table border=\"1\" class=\"dataframe\">\n",
       "  <thead>\n",
       "    <tr style=\"text-align: right;\">\n",
       "      <th></th>\n",
       "      <th>Date</th>\n",
       "      <th>Title</th>\n",
       "      <th>Link</th>\n",
       "      <th>Article</th>\n",
       "      <th>DATE</th>\n",
       "      <th>Marginal lending facility - date of changes (raw data) - Level (FM.D.U2.EUR.4F.KR.MLFR.LEV)</th>\n",
       "      <th>Main refinancing operations - Minimum bid rate/fixed rate (date of changes) - Level (FM.D.U2.EUR.4F.KR.MRR_RT.LEV)</th>\n",
       "    </tr>\n",
       "  </thead>\n",
       "  <tbody>\n",
       "    <tr>\n",
       "      <th>0</th>\n",
       "      <td>2024-03-07</td>\n",
       "      <td>MONETARY POLICY DECISION</td>\n",
       "      <td>https://www.ecb.europa.eu//press/pr/date/2024/...</td>\n",
       "      <td>The Governing Council today decided to keep th...</td>\n",
       "      <td>2024-03-07</td>\n",
       "      <td>4.75</td>\n",
       "      <td>4.50</td>\n",
       "    </tr>\n",
       "    <tr>\n",
       "      <th>1</th>\n",
       "      <td>2024-01-25</td>\n",
       "      <td>MONETARY POLICY DECISION</td>\n",
       "      <td>https://www.ecb.europa.eu//press/pr/date/2024/...</td>\n",
       "      <td>The Governing Council today decided to keep th...</td>\n",
       "      <td>2024-01-25</td>\n",
       "      <td>4.75</td>\n",
       "      <td>4.50</td>\n",
       "    </tr>\n",
       "    <tr>\n",
       "      <th>2</th>\n",
       "      <td>2023-12-14</td>\n",
       "      <td>MONETARY POLICY DECISION</td>\n",
       "      <td>https://www.ecb.europa.eu//press/pr/date/2023/...</td>\n",
       "      <td>The Governing Council today decided to keep th...</td>\n",
       "      <td>2023-12-14</td>\n",
       "      <td>4.75</td>\n",
       "      <td>4.50</td>\n",
       "    </tr>\n",
       "    <tr>\n",
       "      <th>3</th>\n",
       "      <td>2023-10-26</td>\n",
       "      <td>MONETARY POLICY DECISION</td>\n",
       "      <td>https://www.ecb.europa.eu//press/pr/date/2023/...</td>\n",
       "      <td>The Governing Council today decided to keep th...</td>\n",
       "      <td>2023-10-26</td>\n",
       "      <td>4.75</td>\n",
       "      <td>4.50</td>\n",
       "    </tr>\n",
       "    <tr>\n",
       "      <th>4</th>\n",
       "      <td>2023-09-14</td>\n",
       "      <td>MONETARY POLICY DECISION</td>\n",
       "      <td>https://www.ecb.europa.eu//press/pr/date/2023/...</td>\n",
       "      <td>Inflation continues to decline but is still ex...</td>\n",
       "      <td>2023-09-14</td>\n",
       "      <td>4.50</td>\n",
       "      <td>4.25</td>\n",
       "    </tr>\n",
       "    <tr>\n",
       "      <th>5</th>\n",
       "      <td>2023-07-27</td>\n",
       "      <td>MONETARY POLICY DECISION</td>\n",
       "      <td>https://www.ecb.europa.eu//press/pr/date/2023/...</td>\n",
       "      <td>Inflation continues to decline but is still ex...</td>\n",
       "      <td>2023-07-27</td>\n",
       "      <td>4.25</td>\n",
       "      <td>4.00</td>\n",
       "    </tr>\n",
       "    <tr>\n",
       "      <th>6</th>\n",
       "      <td>2023-06-15</td>\n",
       "      <td>MONETARY POLICY DECISION</td>\n",
       "      <td>https://www.ecb.europa.eu//press/pr/date/2023/...</td>\n",
       "      <td>Inflation has been coming down but is projecte...</td>\n",
       "      <td>2023-06-15</td>\n",
       "      <td>4.00</td>\n",
       "      <td>3.75</td>\n",
       "    </tr>\n",
       "    <tr>\n",
       "      <th>7</th>\n",
       "      <td>2023-05-04</td>\n",
       "      <td>MONETARY POLICY DECISION</td>\n",
       "      <td>https://www.ecb.europa.eu//press/pr/date/2023/...</td>\n",
       "      <td>The inflation outlook continues to be too high...</td>\n",
       "      <td>2023-05-04</td>\n",
       "      <td>3.75</td>\n",
       "      <td>3.50</td>\n",
       "    </tr>\n",
       "    <tr>\n",
       "      <th>8</th>\n",
       "      <td>2023-03-16</td>\n",
       "      <td>MONETARY POLICY DECISION</td>\n",
       "      <td>https://www.ecb.europa.eu//press/pr/date/2023/...</td>\n",
       "      <td>Inflation is projected to remain too high for ...</td>\n",
       "      <td>2023-03-16</td>\n",
       "      <td>3.25</td>\n",
       "      <td>3.00</td>\n",
       "    </tr>\n",
       "    <tr>\n",
       "      <th>9</th>\n",
       "      <td>2023-02-02</td>\n",
       "      <td>MONETARY POLICY DECISION</td>\n",
       "      <td>https://www.ecb.europa.eu//press/pr/date/2023/...</td>\n",
       "      <td>The Governing Council will stay the course in ...</td>\n",
       "      <td>2023-02-02</td>\n",
       "      <td>2.75</td>\n",
       "      <td>2.50</td>\n",
       "    </tr>\n",
       "    <tr>\n",
       "      <th>10</th>\n",
       "      <td>2022-12-15</td>\n",
       "      <td>MONETARY POLICY DECISION</td>\n",
       "      <td>https://www.ecb.europa.eu//press/pr/date/2022/...</td>\n",
       "      <td>The Governing Council today decided to raise t...</td>\n",
       "      <td>2022-12-15</td>\n",
       "      <td>2.25</td>\n",
       "      <td>2.00</td>\n",
       "    </tr>\n",
       "    <tr>\n",
       "      <th>11</th>\n",
       "      <td>2022-10-27</td>\n",
       "      <td>MONETARY POLICY DECISION</td>\n",
       "      <td>https://www.ecb.europa.eu//press/pr/date/2022/...</td>\n",
       "      <td>The Governing Council today decided to raise t...</td>\n",
       "      <td>2022-10-27</td>\n",
       "      <td>1.50</td>\n",
       "      <td>1.25</td>\n",
       "    </tr>\n",
       "    <tr>\n",
       "      <th>12</th>\n",
       "      <td>2022-09-08</td>\n",
       "      <td>MONETARY POLICY DECISION</td>\n",
       "      <td>https://www.ecb.europa.eu//press/pr/date/2022/...</td>\n",
       "      <td>The Governing Council today decided to raise t...</td>\n",
       "      <td>2022-09-08</td>\n",
       "      <td>0.75</td>\n",
       "      <td>0.50</td>\n",
       "    </tr>\n",
       "    <tr>\n",
       "      <th>13</th>\n",
       "      <td>2022-07-21</td>\n",
       "      <td>MONETARY POLICY DECISION</td>\n",
       "      <td>https://www.ecb.europa.eu//press/pr/date/2022/...</td>\n",
       "      <td>Today, in line with the Governing Council's st...</td>\n",
       "      <td>2022-07-21</td>\n",
       "      <td>0.25</td>\n",
       "      <td>0.00</td>\n",
       "    </tr>\n",
       "  </tbody>\n",
       "</table>\n",
       "</div>"
      ],
      "text/plain": [
       "          Date                     Title  \\\n",
       "0   2024-03-07  MONETARY POLICY DECISION   \n",
       "1   2024-01-25  MONETARY POLICY DECISION   \n",
       "2   2023-12-14  MONETARY POLICY DECISION   \n",
       "3   2023-10-26  MONETARY POLICY DECISION   \n",
       "4   2023-09-14  MONETARY POLICY DECISION   \n",
       "5   2023-07-27  MONETARY POLICY DECISION   \n",
       "6   2023-06-15  MONETARY POLICY DECISION   \n",
       "7   2023-05-04  MONETARY POLICY DECISION   \n",
       "8   2023-03-16  MONETARY POLICY DECISION   \n",
       "9   2023-02-02  MONETARY POLICY DECISION   \n",
       "10  2022-12-15  MONETARY POLICY DECISION   \n",
       "11  2022-10-27  MONETARY POLICY DECISION   \n",
       "12  2022-09-08  MONETARY POLICY DECISION   \n",
       "13  2022-07-21  MONETARY POLICY DECISION   \n",
       "\n",
       "                                                 Link  \\\n",
       "0   https://www.ecb.europa.eu//press/pr/date/2024/...   \n",
       "1   https://www.ecb.europa.eu//press/pr/date/2024/...   \n",
       "2   https://www.ecb.europa.eu//press/pr/date/2023/...   \n",
       "3   https://www.ecb.europa.eu//press/pr/date/2023/...   \n",
       "4   https://www.ecb.europa.eu//press/pr/date/2023/...   \n",
       "5   https://www.ecb.europa.eu//press/pr/date/2023/...   \n",
       "6   https://www.ecb.europa.eu//press/pr/date/2023/...   \n",
       "7   https://www.ecb.europa.eu//press/pr/date/2023/...   \n",
       "8   https://www.ecb.europa.eu//press/pr/date/2023/...   \n",
       "9   https://www.ecb.europa.eu//press/pr/date/2023/...   \n",
       "10  https://www.ecb.europa.eu//press/pr/date/2022/...   \n",
       "11  https://www.ecb.europa.eu//press/pr/date/2022/...   \n",
       "12  https://www.ecb.europa.eu//press/pr/date/2022/...   \n",
       "13  https://www.ecb.europa.eu//press/pr/date/2022/...   \n",
       "\n",
       "                                              Article        DATE  \\\n",
       "0   The Governing Council today decided to keep th...  2024-03-07   \n",
       "1   The Governing Council today decided to keep th...  2024-01-25   \n",
       "2   The Governing Council today decided to keep th...  2023-12-14   \n",
       "3   The Governing Council today decided to keep th...  2023-10-26   \n",
       "4   Inflation continues to decline but is still ex...  2023-09-14   \n",
       "5   Inflation continues to decline but is still ex...  2023-07-27   \n",
       "6   Inflation has been coming down but is projecte...  2023-06-15   \n",
       "7   The inflation outlook continues to be too high...  2023-05-04   \n",
       "8   Inflation is projected to remain too high for ...  2023-03-16   \n",
       "9   The Governing Council will stay the course in ...  2023-02-02   \n",
       "10  The Governing Council today decided to raise t...  2022-12-15   \n",
       "11  The Governing Council today decided to raise t...  2022-10-27   \n",
       "12  The Governing Council today decided to raise t...  2022-09-08   \n",
       "13  Today, in line with the Governing Council's st...  2022-07-21   \n",
       "\n",
       "    Marginal lending facility - date of changes (raw data) - Level (FM.D.U2.EUR.4F.KR.MLFR.LEV)  \\\n",
       "0                                                4.75                                             \n",
       "1                                                4.75                                             \n",
       "2                                                4.75                                             \n",
       "3                                                4.75                                             \n",
       "4                                                4.50                                             \n",
       "5                                                4.25                                             \n",
       "6                                                4.00                                             \n",
       "7                                                3.75                                             \n",
       "8                                                3.25                                             \n",
       "9                                                2.75                                             \n",
       "10                                               2.25                                             \n",
       "11                                               1.50                                             \n",
       "12                                               0.75                                             \n",
       "13                                               0.25                                             \n",
       "\n",
       "    Main refinancing operations - Minimum bid rate/fixed rate (date of changes) - Level (FM.D.U2.EUR.4F.KR.MRR_RT.LEV)  \n",
       "0                                                4.50                                                                   \n",
       "1                                                4.50                                                                   \n",
       "2                                                4.50                                                                   \n",
       "3                                                4.50                                                                   \n",
       "4                                                4.25                                                                   \n",
       "5                                                4.00                                                                   \n",
       "6                                                3.75                                                                   \n",
       "7                                                3.50                                                                   \n",
       "8                                                3.00                                                                   \n",
       "9                                                2.50                                                                   \n",
       "10                                               2.00                                                                   \n",
       "11                                               1.25                                                                   \n",
       "12                                               0.50                                                                   \n",
       "13                                               0.00                                                                   "
      ]
     },
     "execution_count": 12,
     "metadata": {},
     "output_type": "execute_result"
    }
   ],
   "source": [
    "# Load the CSV files\n",
    "decisions_df = pd.read_csv(r\"C:\\Users\\monbi\\OneDrive\\Documents\\BSE\\Term 3\\Masters Thesis\\ECB_Perceived_Cacophony\\Scraped_Data\\ecb_monetary_policy_decisions.csv\")\n",
    "rates_df = pd.read_csv(r\"c:\\Users\\monbi\\Downloads\\ECB Data Portal_20240602225602.csv\")\n",
    "\n",
    "# Correct the column name for rates_df to match\n",
    "rates_df = rates_df.rename(columns={'TIME PERIOD': 'TIME_PERIOD'})\n",
    "\n",
    "# Convert the date columns to datetime for merging\n",
    "decisions_df['Date'] = pd.to_datetime(decisions_df['Date'])\n",
    "rates_df['TIME_PERIOD'] = pd.to_datetime(rates_df['TIME_PERIOD'])\n",
    "\n",
    "# Rename the columns for clarity\n",
    "rates_df = rates_df.rename(columns={'TIME_PERIOD': 'Date', 'OBS_VALUE': 'MRO Rate'})\n",
    "\n",
    "# Ensure date columns are of the same format and granularity\n",
    "decisions_df['Date'] = decisions_df['Date'].dt.date\n",
    "rates_df['Date'] = rates_df['Date'].dt.date\n",
    "\n",
    "# Merge the two DataFrames on the 'Date' column\n",
    "merged_df = pd.merge(decisions_df, rates_df, on='Date', how='left')\n",
    "\n",
    "# Save the merged DataFrame to a new CSV file\n",
    "#output_file = 'merged_ecb_meeting_rates.csv'\n",
    "#merged_df.to_csv(output_file, index=False)\n",
    "\n",
    "# Display the merged DataFrame\n",
    "merged_df\n",
    "\n"
   ]
  },
  {
   "cell_type": "code",
   "execution_count": 13,
   "metadata": {},
   "outputs": [
    {
     "data": {
      "text/html": [
       "<div>\n",
       "<style scoped>\n",
       "    .dataframe tbody tr th:only-of-type {\n",
       "        vertical-align: middle;\n",
       "    }\n",
       "\n",
       "    .dataframe tbody tr th {\n",
       "        vertical-align: top;\n",
       "    }\n",
       "\n",
       "    .dataframe thead th {\n",
       "        text-align: right;\n",
       "    }\n",
       "</style>\n",
       "<table border=\"1\" class=\"dataframe\">\n",
       "  <thead>\n",
       "    <tr style=\"text-align: right;\">\n",
       "      <th></th>\n",
       "      <th>Meeting_Date</th>\n",
       "      <th>Interest_Rate</th>\n",
       "    </tr>\n",
       "  </thead>\n",
       "  <tbody>\n",
       "    <tr>\n",
       "      <th>0</th>\n",
       "      <td>2024-03-07</td>\n",
       "      <td>4.75</td>\n",
       "    </tr>\n",
       "    <tr>\n",
       "      <th>1</th>\n",
       "      <td>2024-01-25</td>\n",
       "      <td>4.75</td>\n",
       "    </tr>\n",
       "    <tr>\n",
       "      <th>2</th>\n",
       "      <td>2023-12-14</td>\n",
       "      <td>4.75</td>\n",
       "    </tr>\n",
       "    <tr>\n",
       "      <th>3</th>\n",
       "      <td>2023-10-26</td>\n",
       "      <td>4.75</td>\n",
       "    </tr>\n",
       "    <tr>\n",
       "      <th>4</th>\n",
       "      <td>2023-09-14</td>\n",
       "      <td>4.50</td>\n",
       "    </tr>\n",
       "    <tr>\n",
       "      <th>5</th>\n",
       "      <td>2023-07-27</td>\n",
       "      <td>4.25</td>\n",
       "    </tr>\n",
       "    <tr>\n",
       "      <th>6</th>\n",
       "      <td>2023-06-15</td>\n",
       "      <td>4.00</td>\n",
       "    </tr>\n",
       "    <tr>\n",
       "      <th>7</th>\n",
       "      <td>2023-05-04</td>\n",
       "      <td>3.75</td>\n",
       "    </tr>\n",
       "    <tr>\n",
       "      <th>8</th>\n",
       "      <td>2023-03-16</td>\n",
       "      <td>3.25</td>\n",
       "    </tr>\n",
       "    <tr>\n",
       "      <th>9</th>\n",
       "      <td>2023-02-02</td>\n",
       "      <td>2.75</td>\n",
       "    </tr>\n",
       "    <tr>\n",
       "      <th>10</th>\n",
       "      <td>2022-12-15</td>\n",
       "      <td>2.25</td>\n",
       "    </tr>\n",
       "    <tr>\n",
       "      <th>11</th>\n",
       "      <td>2022-10-27</td>\n",
       "      <td>1.50</td>\n",
       "    </tr>\n",
       "    <tr>\n",
       "      <th>12</th>\n",
       "      <td>2022-09-08</td>\n",
       "      <td>0.75</td>\n",
       "    </tr>\n",
       "    <tr>\n",
       "      <th>13</th>\n",
       "      <td>2022-07-21</td>\n",
       "      <td>0.25</td>\n",
       "    </tr>\n",
       "  </tbody>\n",
       "</table>\n",
       "</div>"
      ],
      "text/plain": [
       "   Meeting_Date  Interest_Rate\n",
       "0    2024-03-07           4.75\n",
       "1    2024-01-25           4.75\n",
       "2    2023-12-14           4.75\n",
       "3    2023-10-26           4.75\n",
       "4    2023-09-14           4.50\n",
       "5    2023-07-27           4.25\n",
       "6    2023-06-15           4.00\n",
       "7    2023-05-04           3.75\n",
       "8    2023-03-16           3.25\n",
       "9    2023-02-02           2.75\n",
       "10   2022-12-15           2.25\n",
       "11   2022-10-27           1.50\n",
       "12   2022-09-08           0.75\n",
       "13   2022-07-21           0.25"
      ]
     },
     "execution_count": 13,
     "metadata": {},
     "output_type": "execute_result"
    }
   ],
   "source": [
    "# Rename the columns\n",
    "merged_df.rename(columns={\n",
    "    'Date': 'Meeting_Date',\n",
    "    'Marginal lending facility - date of changes (raw data) - Level (FM.D.U2.EUR.4F.KR.MLFR.LEV)': 'Interest_Rate'\n",
    "}, inplace=True)\n",
    "\n",
    "# Create a new DataFrame with just \"Meeting_Date\" and \"Interest_Rate\"\n",
    "merged_df_new = merged_df[['Meeting_Date', 'Interest_Rate']]\n",
    "\n",
    "# Save the new DataFrame to a new CSV file\n",
    "output_file_new = 'merged_ecb_meeting_rates.csv'\n",
    "merged_df_new.to_csv(output_file_new, index=False)\n",
    "\n",
    "# Display the new DataFrame\n",
    "merged_df_new"
   ]
  },
  {
   "cell_type": "code",
   "execution_count": 14,
   "metadata": {},
   "outputs": [
    {
     "data": {
      "application/vnd.plotly.v1+json": {
       "config": {
        "plotlyServerURL": "https://plot.ly"
       },
       "data": [
        {
         "hovertemplate": "Meeting Date=%{x}<br>Interest Rate (%)=%{y}<extra></extra>",
         "legendgroup": "",
         "line": {
          "color": "#636efa",
          "dash": "solid"
         },
         "marker": {
          "symbol": "circle"
         },
         "mode": "lines+markers",
         "name": "",
         "orientation": "v",
         "showlegend": false,
         "type": "scatter",
         "x": [
          "2024-03-07",
          "2024-01-25",
          "2023-12-14",
          "2023-10-26",
          "2023-09-14",
          "2023-07-27",
          "2023-06-15",
          "2023-05-04",
          "2023-03-16",
          "2023-02-02",
          "2022-12-15",
          "2022-10-27",
          "2022-09-08",
          "2022-07-21"
         ],
         "xaxis": "x",
         "y": [
          4.75,
          4.75,
          4.75,
          4.75,
          4.5,
          4.25,
          4,
          3.75,
          3.25,
          2.75,
          2.25,
          1.5,
          0.75,
          0.25
         ],
         "yaxis": "y"
        }
       ],
       "layout": {
        "legend": {
         "tracegroupgap": 0
        },
        "template": {
         "data": {
          "bar": [
           {
            "error_x": {
             "color": "#2a3f5f"
            },
            "error_y": {
             "color": "#2a3f5f"
            },
            "marker": {
             "line": {
              "color": "#E5ECF6",
              "width": 0.5
             },
             "pattern": {
              "fillmode": "overlay",
              "size": 10,
              "solidity": 0.2
             }
            },
            "type": "bar"
           }
          ],
          "barpolar": [
           {
            "marker": {
             "line": {
              "color": "#E5ECF6",
              "width": 0.5
             },
             "pattern": {
              "fillmode": "overlay",
              "size": 10,
              "solidity": 0.2
             }
            },
            "type": "barpolar"
           }
          ],
          "carpet": [
           {
            "aaxis": {
             "endlinecolor": "#2a3f5f",
             "gridcolor": "white",
             "linecolor": "white",
             "minorgridcolor": "white",
             "startlinecolor": "#2a3f5f"
            },
            "baxis": {
             "endlinecolor": "#2a3f5f",
             "gridcolor": "white",
             "linecolor": "white",
             "minorgridcolor": "white",
             "startlinecolor": "#2a3f5f"
            },
            "type": "carpet"
           }
          ],
          "choropleth": [
           {
            "colorbar": {
             "outlinewidth": 0,
             "ticks": ""
            },
            "type": "choropleth"
           }
          ],
          "contour": [
           {
            "colorbar": {
             "outlinewidth": 0,
             "ticks": ""
            },
            "colorscale": [
             [
              0,
              "#0d0887"
             ],
             [
              0.1111111111111111,
              "#46039f"
             ],
             [
              0.2222222222222222,
              "#7201a8"
             ],
             [
              0.3333333333333333,
              "#9c179e"
             ],
             [
              0.4444444444444444,
              "#bd3786"
             ],
             [
              0.5555555555555556,
              "#d8576b"
             ],
             [
              0.6666666666666666,
              "#ed7953"
             ],
             [
              0.7777777777777778,
              "#fb9f3a"
             ],
             [
              0.8888888888888888,
              "#fdca26"
             ],
             [
              1,
              "#f0f921"
             ]
            ],
            "type": "contour"
           }
          ],
          "contourcarpet": [
           {
            "colorbar": {
             "outlinewidth": 0,
             "ticks": ""
            },
            "type": "contourcarpet"
           }
          ],
          "heatmap": [
           {
            "colorbar": {
             "outlinewidth": 0,
             "ticks": ""
            },
            "colorscale": [
             [
              0,
              "#0d0887"
             ],
             [
              0.1111111111111111,
              "#46039f"
             ],
             [
              0.2222222222222222,
              "#7201a8"
             ],
             [
              0.3333333333333333,
              "#9c179e"
             ],
             [
              0.4444444444444444,
              "#bd3786"
             ],
             [
              0.5555555555555556,
              "#d8576b"
             ],
             [
              0.6666666666666666,
              "#ed7953"
             ],
             [
              0.7777777777777778,
              "#fb9f3a"
             ],
             [
              0.8888888888888888,
              "#fdca26"
             ],
             [
              1,
              "#f0f921"
             ]
            ],
            "type": "heatmap"
           }
          ],
          "heatmapgl": [
           {
            "colorbar": {
             "outlinewidth": 0,
             "ticks": ""
            },
            "colorscale": [
             [
              0,
              "#0d0887"
             ],
             [
              0.1111111111111111,
              "#46039f"
             ],
             [
              0.2222222222222222,
              "#7201a8"
             ],
             [
              0.3333333333333333,
              "#9c179e"
             ],
             [
              0.4444444444444444,
              "#bd3786"
             ],
             [
              0.5555555555555556,
              "#d8576b"
             ],
             [
              0.6666666666666666,
              "#ed7953"
             ],
             [
              0.7777777777777778,
              "#fb9f3a"
             ],
             [
              0.8888888888888888,
              "#fdca26"
             ],
             [
              1,
              "#f0f921"
             ]
            ],
            "type": "heatmapgl"
           }
          ],
          "histogram": [
           {
            "marker": {
             "pattern": {
              "fillmode": "overlay",
              "size": 10,
              "solidity": 0.2
             }
            },
            "type": "histogram"
           }
          ],
          "histogram2d": [
           {
            "colorbar": {
             "outlinewidth": 0,
             "ticks": ""
            },
            "colorscale": [
             [
              0,
              "#0d0887"
             ],
             [
              0.1111111111111111,
              "#46039f"
             ],
             [
              0.2222222222222222,
              "#7201a8"
             ],
             [
              0.3333333333333333,
              "#9c179e"
             ],
             [
              0.4444444444444444,
              "#bd3786"
             ],
             [
              0.5555555555555556,
              "#d8576b"
             ],
             [
              0.6666666666666666,
              "#ed7953"
             ],
             [
              0.7777777777777778,
              "#fb9f3a"
             ],
             [
              0.8888888888888888,
              "#fdca26"
             ],
             [
              1,
              "#f0f921"
             ]
            ],
            "type": "histogram2d"
           }
          ],
          "histogram2dcontour": [
           {
            "colorbar": {
             "outlinewidth": 0,
             "ticks": ""
            },
            "colorscale": [
             [
              0,
              "#0d0887"
             ],
             [
              0.1111111111111111,
              "#46039f"
             ],
             [
              0.2222222222222222,
              "#7201a8"
             ],
             [
              0.3333333333333333,
              "#9c179e"
             ],
             [
              0.4444444444444444,
              "#bd3786"
             ],
             [
              0.5555555555555556,
              "#d8576b"
             ],
             [
              0.6666666666666666,
              "#ed7953"
             ],
             [
              0.7777777777777778,
              "#fb9f3a"
             ],
             [
              0.8888888888888888,
              "#fdca26"
             ],
             [
              1,
              "#f0f921"
             ]
            ],
            "type": "histogram2dcontour"
           }
          ],
          "mesh3d": [
           {
            "colorbar": {
             "outlinewidth": 0,
             "ticks": ""
            },
            "type": "mesh3d"
           }
          ],
          "parcoords": [
           {
            "line": {
             "colorbar": {
              "outlinewidth": 0,
              "ticks": ""
             }
            },
            "type": "parcoords"
           }
          ],
          "pie": [
           {
            "automargin": true,
            "type": "pie"
           }
          ],
          "scatter": [
           {
            "fillpattern": {
             "fillmode": "overlay",
             "size": 10,
             "solidity": 0.2
            },
            "type": "scatter"
           }
          ],
          "scatter3d": [
           {
            "line": {
             "colorbar": {
              "outlinewidth": 0,
              "ticks": ""
             }
            },
            "marker": {
             "colorbar": {
              "outlinewidth": 0,
              "ticks": ""
             }
            },
            "type": "scatter3d"
           }
          ],
          "scattercarpet": [
           {
            "marker": {
             "colorbar": {
              "outlinewidth": 0,
              "ticks": ""
             }
            },
            "type": "scattercarpet"
           }
          ],
          "scattergeo": [
           {
            "marker": {
             "colorbar": {
              "outlinewidth": 0,
              "ticks": ""
             }
            },
            "type": "scattergeo"
           }
          ],
          "scattergl": [
           {
            "marker": {
             "colorbar": {
              "outlinewidth": 0,
              "ticks": ""
             }
            },
            "type": "scattergl"
           }
          ],
          "scattermapbox": [
           {
            "marker": {
             "colorbar": {
              "outlinewidth": 0,
              "ticks": ""
             }
            },
            "type": "scattermapbox"
           }
          ],
          "scatterpolar": [
           {
            "marker": {
             "colorbar": {
              "outlinewidth": 0,
              "ticks": ""
             }
            },
            "type": "scatterpolar"
           }
          ],
          "scatterpolargl": [
           {
            "marker": {
             "colorbar": {
              "outlinewidth": 0,
              "ticks": ""
             }
            },
            "type": "scatterpolargl"
           }
          ],
          "scatterternary": [
           {
            "marker": {
             "colorbar": {
              "outlinewidth": 0,
              "ticks": ""
             }
            },
            "type": "scatterternary"
           }
          ],
          "surface": [
           {
            "colorbar": {
             "outlinewidth": 0,
             "ticks": ""
            },
            "colorscale": [
             [
              0,
              "#0d0887"
             ],
             [
              0.1111111111111111,
              "#46039f"
             ],
             [
              0.2222222222222222,
              "#7201a8"
             ],
             [
              0.3333333333333333,
              "#9c179e"
             ],
             [
              0.4444444444444444,
              "#bd3786"
             ],
             [
              0.5555555555555556,
              "#d8576b"
             ],
             [
              0.6666666666666666,
              "#ed7953"
             ],
             [
              0.7777777777777778,
              "#fb9f3a"
             ],
             [
              0.8888888888888888,
              "#fdca26"
             ],
             [
              1,
              "#f0f921"
             ]
            ],
            "type": "surface"
           }
          ],
          "table": [
           {
            "cells": {
             "fill": {
              "color": "#EBF0F8"
             },
             "line": {
              "color": "white"
             }
            },
            "header": {
             "fill": {
              "color": "#C8D4E3"
             },
             "line": {
              "color": "white"
             }
            },
            "type": "table"
           }
          ]
         },
         "layout": {
          "annotationdefaults": {
           "arrowcolor": "#2a3f5f",
           "arrowhead": 0,
           "arrowwidth": 1
          },
          "autotypenumbers": "strict",
          "coloraxis": {
           "colorbar": {
            "outlinewidth": 0,
            "ticks": ""
           }
          },
          "colorscale": {
           "diverging": [
            [
             0,
             "#8e0152"
            ],
            [
             0.1,
             "#c51b7d"
            ],
            [
             0.2,
             "#de77ae"
            ],
            [
             0.3,
             "#f1b6da"
            ],
            [
             0.4,
             "#fde0ef"
            ],
            [
             0.5,
             "#f7f7f7"
            ],
            [
             0.6,
             "#e6f5d0"
            ],
            [
             0.7,
             "#b8e186"
            ],
            [
             0.8,
             "#7fbc41"
            ],
            [
             0.9,
             "#4d9221"
            ],
            [
             1,
             "#276419"
            ]
           ],
           "sequential": [
            [
             0,
             "#0d0887"
            ],
            [
             0.1111111111111111,
             "#46039f"
            ],
            [
             0.2222222222222222,
             "#7201a8"
            ],
            [
             0.3333333333333333,
             "#9c179e"
            ],
            [
             0.4444444444444444,
             "#bd3786"
            ],
            [
             0.5555555555555556,
             "#d8576b"
            ],
            [
             0.6666666666666666,
             "#ed7953"
            ],
            [
             0.7777777777777778,
             "#fb9f3a"
            ],
            [
             0.8888888888888888,
             "#fdca26"
            ],
            [
             1,
             "#f0f921"
            ]
           ],
           "sequentialminus": [
            [
             0,
             "#0d0887"
            ],
            [
             0.1111111111111111,
             "#46039f"
            ],
            [
             0.2222222222222222,
             "#7201a8"
            ],
            [
             0.3333333333333333,
             "#9c179e"
            ],
            [
             0.4444444444444444,
             "#bd3786"
            ],
            [
             0.5555555555555556,
             "#d8576b"
            ],
            [
             0.6666666666666666,
             "#ed7953"
            ],
            [
             0.7777777777777778,
             "#fb9f3a"
            ],
            [
             0.8888888888888888,
             "#fdca26"
            ],
            [
             1,
             "#f0f921"
            ]
           ]
          },
          "colorway": [
           "#636efa",
           "#EF553B",
           "#00cc96",
           "#ab63fa",
           "#FFA15A",
           "#19d3f3",
           "#FF6692",
           "#B6E880",
           "#FF97FF",
           "#FECB52"
          ],
          "font": {
           "color": "#2a3f5f"
          },
          "geo": {
           "bgcolor": "white",
           "lakecolor": "white",
           "landcolor": "#E5ECF6",
           "showlakes": true,
           "showland": true,
           "subunitcolor": "white"
          },
          "hoverlabel": {
           "align": "left"
          },
          "hovermode": "closest",
          "mapbox": {
           "style": "light"
          },
          "paper_bgcolor": "white",
          "plot_bgcolor": "#E5ECF6",
          "polar": {
           "angularaxis": {
            "gridcolor": "white",
            "linecolor": "white",
            "ticks": ""
           },
           "bgcolor": "#E5ECF6",
           "radialaxis": {
            "gridcolor": "white",
            "linecolor": "white",
            "ticks": ""
           }
          },
          "scene": {
           "xaxis": {
            "backgroundcolor": "#E5ECF6",
            "gridcolor": "white",
            "gridwidth": 2,
            "linecolor": "white",
            "showbackground": true,
            "ticks": "",
            "zerolinecolor": "white"
           },
           "yaxis": {
            "backgroundcolor": "#E5ECF6",
            "gridcolor": "white",
            "gridwidth": 2,
            "linecolor": "white",
            "showbackground": true,
            "ticks": "",
            "zerolinecolor": "white"
           },
           "zaxis": {
            "backgroundcolor": "#E5ECF6",
            "gridcolor": "white",
            "gridwidth": 2,
            "linecolor": "white",
            "showbackground": true,
            "ticks": "",
            "zerolinecolor": "white"
           }
          },
          "shapedefaults": {
           "line": {
            "color": "#2a3f5f"
           }
          },
          "ternary": {
           "aaxis": {
            "gridcolor": "white",
            "linecolor": "white",
            "ticks": ""
           },
           "baxis": {
            "gridcolor": "white",
            "linecolor": "white",
            "ticks": ""
           },
           "bgcolor": "#E5ECF6",
           "caxis": {
            "gridcolor": "white",
            "linecolor": "white",
            "ticks": ""
           }
          },
          "title": {
           "x": 0.05
          },
          "xaxis": {
           "automargin": true,
           "gridcolor": "white",
           "linecolor": "white",
           "ticks": "",
           "title": {
            "standoff": 15
           },
           "zerolinecolor": "white",
           "zerolinewidth": 2
          },
          "yaxis": {
           "automargin": true,
           "gridcolor": "white",
           "linecolor": "white",
           "ticks": "",
           "title": {
            "standoff": 15
           },
           "zerolinecolor": "white",
           "zerolinewidth": 2
          }
         }
        },
        "title": {
         "text": "ECB Main Refinancing Rate"
        },
        "xaxis": {
         "anchor": "y",
         "domain": [
          0,
          1
         ],
         "title": {
          "text": "Meeting Date"
         }
        },
        "yaxis": {
         "anchor": "x",
         "domain": [
          0,
          1
         ],
         "title": {
          "text": "Interest Rate (%)"
         }
        }
       }
      }
     },
     "metadata": {},
     "output_type": "display_data"
    }
   ],
   "source": [
    "merged_df_new = pd.read_csv('merged_ecb_meeting_rates_new.csv')\n",
    "\n",
    "# Create a line plot using Plotly with markers for each data point\n",
    "fig = px.line(merged_df_new, x='Meeting_Date', y='Interest_Rate', title='ECB Main Refinancing Rate',\n",
    "              labels={'Meeting_Date': 'Meeting Date', 'Interest_Rate': 'Interest Rate (%)'},\n",
    "              markers=True)\n",
    "\n",
    "# Show the plot\n",
    "fig.show()\n"
   ]
  }
 ],
 "metadata": {
  "kernelspec": {
   "display_name": "base",
   "language": "python",
   "name": "python3"
  },
  "language_info": {
   "codemirror_mode": {
    "name": "ipython",
    "version": 3
   },
   "file_extension": ".py",
   "mimetype": "text/x-python",
   "name": "python",
   "nbconvert_exporter": "python",
   "pygments_lexer": "ipython3",
   "version": "3.11.7"
  }
 },
 "nbformat": 4,
 "nbformat_minor": 2
}
