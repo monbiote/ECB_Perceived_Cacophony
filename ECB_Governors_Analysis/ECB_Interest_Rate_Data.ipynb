{
 "cells": [
  {
   "cell_type": "code",
   "execution_count": null,
   "metadata": {},
   "outputs": [],
   "source": [
    "import plotly.express as px\n",
    "import pandas as pd"
   ]
  },
  {
   "cell_type": "code",
   "execution_count": null,
   "metadata": {},
   "outputs": [],
   "source": [
    "# Load the CSV files\n",
    "decisions_df = pd.read_csv(r\"C:\\Users\\monbi\\OneDrive\\Documents\\BSE\\Term 3\\Masters Thesis\\ECB_Perceived_Cacophony\\Scraped_Data\\ecb_monetary_policy_decisions.csv\")\n",
    "rates_df = pd.read_csv(r\"c:\\Users\\monbi\\Downloads\\ECB Data Portal_20240602225602.csv\")\n",
    "\n",
    "# Correct the column name for rates_df to match\n",
    "rates_df = rates_df.rename(columns={'TIME PERIOD': 'TIME_PERIOD'})\n",
    "\n",
    "# Convert the date columns to datetime for merging\n",
    "decisions_df['Date'] = pd.to_datetime(decisions_df['Date'])\n",
    "rates_df['TIME_PERIOD'] = pd.to_datetime(rates_df['TIME_PERIOD'])\n",
    "\n",
    "# Rename the columns for clarity\n",
    "rates_df = rates_df.rename(columns={'TIME_PERIOD': 'Date', 'OBS_VALUE': 'MRO Rate'})\n",
    "\n",
    "# Ensure date columns are of the same format and granularity\n",
    "decisions_df['Date'] = decisions_df['Date'].dt.date\n",
    "rates_df['Date'] = rates_df['Date'].dt.date\n",
    "\n",
    "# Merge the two DataFrames on the 'Date' column\n",
    "merged_df = pd.merge(decisions_df, rates_df, on='Date', how='left')\n",
    "\n",
    "# Save the merged DataFrame to a new CSV file\n",
    "#output_file = 'merged_ecb_meeting_rates.csv'\n",
    "#merged_df.to_csv(output_file, index=False)\n",
    "\n",
    "# Display the merged DataFrame\n",
    "merged_df\n",
    "\n"
   ]
  },
  {
   "cell_type": "code",
   "execution_count": null,
   "metadata": {},
   "outputs": [],
   "source": [
    "# Rename the columns\n",
    "merged_df.rename(columns={\n",
    "    'Date': 'Meeting_Date',\n",
    "    'Marginal lending facility - date of changes (raw data) - Level (FM.D.U2.EUR.4F.KR.MLFR.LEV)': 'Interest_Rate'\n",
    "}, inplace=True)\n",
    "\n",
    "# Create a new DataFrame with just \"Meeting_Date\" and \"Interest_Rate\"\n",
    "merged_df_new = merged_df[['Meeting_Date', 'Interest_Rate']]\n",
    "\n",
    "# Save the new DataFrame to a new CSV file\n",
    "output_file_new = 'merged_ecb_meeting_rates.csv'\n",
    "merged_df_new.to_csv(output_file_new, index=False)\n",
    "\n",
    "# Display the new DataFrame\n",
    "merged_df_new"
   ]
  },
  {
   "cell_type": "code",
   "execution_count": null,
   "metadata": {},
   "outputs": [],
   "source": [
    "merged_df_new = pd.read_csv('merged_ecb_meeting_rates_new.csv')\n",
    "\n",
    "# Create a line plot using Plotly with markers for each data point\n",
    "fig = px.line(merged_df_new, x='Meeting_Date', y='Interest_Rate', title='ECB Main Refinancing Rate',\n",
    "              labels={'Meeting_Date': 'Meeting Date', 'Interest_Rate': 'Interest Rate (%)'},\n",
    "              markers=True)\n",
    "\n",
    "# Show the plot\n",
    "fig.show()\n"
   ]
  }
 ],
 "metadata": {
  "kernelspec": {
   "display_name": "base",
   "language": "python",
   "name": "python3"
  },
  "language_info": {
   "codemirror_mode": {
    "name": "ipython",
    "version": 3
   },
   "file_extension": ".py",
   "mimetype": "text/x-python",
   "name": "python",
   "nbconvert_exporter": "python",
   "pygments_lexer": "ipython3",
   "version": "3.11.7"
  }
 },
 "nbformat": 4,
 "nbformat_minor": 2
}
