{
 "cells": [
  {
   "cell_type": "code",
   "execution_count": null,
   "metadata": {},
   "outputs": [],
   "source": [
    "import pandas as pd\n",
    "import unidecode"
   ]
  },
  {
   "cell_type": "code",
   "execution_count": null,
   "metadata": {},
   "outputs": [],
   "source": [
    "import pandas as pd\n",
    "import unidecode\n",
    "\n",
    "# Define the updated CSV content\n",
    "csv_data = \"\"\"Full Name,First Name,Surname,Country,Position,Executive Role\n",
    "Christine Lagarde,Christine,Lagarde,France,Executive Board,President\n",
    "Luis de Guindos,Luis,de Guindos,Spain,Executive Board,Vice President\n",
    "Piero Cipollone,Piero,Cipollone,Italy,Executive Board,Member of the Executive Board\n",
    "Philip Lane,Philip,Lane,Republic of Ireland,Executive Board,Member of the Executive Board & Chief Economist\n",
    "Frank Elderson,Frank,Elderson,Netherlands,Executive Board,Member of the Executive Board; Vice-chair of the Supervisory board\n",
    "Isabel Schnabel,Isabel,Schnabel,Germany,Executive Board,Member of the Executive Board\n",
    "Pablo Hernandez de Cos,Pablo,Hernandez de Cos,Spain,National Governor,\n",
    "Joachim Nagel,Joachim,Nagel,Germany,National Governor,\n",
    "Pierre Wunsch,Pierre,Wunsch,Belgium,National Governor,\n",
    "Yannis Stournaras,Yannis,Stournaras,Greece,National Governor,\n",
    "Boris Vujcic,Boris,Vujcic,Croatia,National Governor,\n",
    "Gaston Reinesch,Gaston,Reinesch,Luxembourg,National Governor,\n",
    "Francois Villeroy de Galhau,Francois,Villeroy de Galhau,France,National Governor,\n",
    "Robert Holzmann,Robert,Holzmann,Austria,National Governor,\n",
    "Peter Kazimir,Peter,Kazimir,Slovakia,National Governor,\n",
    "Gediminas Simkus,Gediminas,Simkus,Lithuania,National Governor,\n",
    "Olli Rehn,Olli,Rehn,Finland,National Governor,\n",
    "Mario Centeno,Mario,Centeno,Portugal,National Governor,\n",
    "Edward Scicluna,Edward,Scicluna,Malta,National Governor,\n",
    "Bostjan Vasle,Bostjan,Vasle,Slovenia,National Governor,\n",
    "Madis Muller,Madis,Muller,Estonia,National Governor,\n",
    "Martins Kazaks,Martins,Kazaks,Latvia,National Governor,\n",
    "Klaas Knot,Klaas,Knot,Netherlands,National Governor,\n",
    "Constantinos Herodotou,Constantinos,Herodotou,Cyprus,National Governor,\n",
    "Gabriel Makhlouf,Gabriel,Makhlouf,Republic of Ireland,National Governor,\n",
    "Fabio Panetta,Fabio,Panetta,Italy,National Governor,\n",
    "Ignazio Visco,Ignazio,Visco,Italy,National Governor,\"\"\"\n",
    "\n",
    "# Save the CSV content to a file\n",
    "with open('ecb_governing_council.csv', 'w') as file:\n",
    "    file.write(csv_data)\n",
    "\n",
    "# Read the CSV file into a DataFrame\n",
    "ECB_df = pd.read_csv('ecb_governing_council.csv')\n",
    "\n",
    "# Remove accents from the 'Full Name' column\n",
    "ECB_df['Full Name'] = ECB_df['Full Name'].apply(unidecode.unidecode)\n",
    "\n",
    "# Display the DataFrame to verify the data is correctly loaded\n",
    "ECB_df\n"
   ]
  },
  {
   "cell_type": "code",
   "execution_count": null,
   "metadata": {},
   "outputs": [],
   "source": [
    "# Save the DataFrame to a new CSV file\n",
    "ECB_df.to_csv('ecb_governing_council.csv', index=False)"
   ]
  }
 ],
 "metadata": {
  "kernelspec": {
   "display_name": "base",
   "language": "python",
   "name": "python3"
  },
  "language_info": {
   "codemirror_mode": {
    "name": "ipython",
    "version": 3
   },
   "file_extension": ".py",
   "mimetype": "text/x-python",
   "name": "python",
   "nbconvert_exporter": "python",
   "pygments_lexer": "ipython3",
   "version": "3.11.7"
  }
 },
 "nbformat": 4,
 "nbformat_minor": 2
}
