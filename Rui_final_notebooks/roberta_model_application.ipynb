{
 "cells": [
  {
   "cell_type": "code",
   "execution_count": 1,
   "metadata": {},
   "outputs": [],
   "source": [
    "import pandas as pd\n",
    "import numpy as np\n",
    "import matplotlib.pyplot as plt\n",
    "import seaborn as sns\n"
   ]
  },
  {
   "cell_type": "markdown",
   "metadata": {},
   "source": [
    "# Merge with OPEN AI SCORE and DATAFRAME"
   ]
  },
  {
   "cell_type": "code",
   "execution_count": 2,
   "metadata": {},
   "outputs": [],
   "source": [
    "df_final=pd.read_csv('/Users/ruimaciel/Desktop/Local_ECB_Cacophony_Master_Thesis/df_cleaned_final_01.csv')\n",
    "df_scores_gpt4=pd.read_excel('/Users/ruimaciel/Desktop/Local_ECB_Cacophony_Master_Thesis/Scored_Articles_3000.xlsx')\n"
   ]
  },
  {
   "cell_type": "code",
   "execution_count": 3,
   "metadata": {},
   "outputs": [
    {
     "data": {
      "text/plain": [
       "1446"
      ]
     },
     "execution_count": 3,
     "metadata": {},
     "output_type": "execute_result"
    }
   ],
   "source": [
    "#check duplicates for manual.summary in df_final\n",
    "\n",
    "df_final['Manual.summary'].duplicated().sum()"
   ]
  },
  {
   "cell_type": "code",
   "execution_count": 4,
   "metadata": {},
   "outputs": [
    {
     "name": "stdout",
     "output_type": "stream",
     "text": [
      "\n"
     ]
    }
   ],
   "source": [
    "print()"
   ]
  },
  {
   "cell_type": "code",
   "execution_count": 5,
   "metadata": {},
   "outputs": [
    {
     "data": {
      "text/plain": [
       "Index(['Date', 'Source', 'Headline', 'Translated.headline', 'Manual.summary',\n",
       "       'Original.article.url', 'Translated.text', 'Media.type', 'Speaker',\n",
       "       'Reach', 'Language', 'Country.Code', 'Sitename', 'Tags',\n",
       "       'Site_Readership', 'Article_Readership', 'translated_text_preproc',\n",
       "       'manual_summary_preproc', 'Name_of_Speaker'],\n",
       "      dtype='object')"
      ]
     },
     "execution_count": 5,
     "metadata": {},
     "output_type": "execute_result"
    }
   ],
   "source": [
    "df_final.columns"
   ]
  },
  {
   "cell_type": "code",
   "execution_count": 6,
   "metadata": {},
   "outputs": [
    {
     "name": "stdout",
     "output_type": "stream",
     "text": [
      "Index(['Manual.summary', 'OpenAI_Score'], dtype='object')\n",
      "3000\n"
     ]
    }
   ],
   "source": [
    "print(df_scores_gpt4.columns)\n",
    "print(df_scores_gpt4.shape[0])"
   ]
  },
  {
   "cell_type": "code",
   "execution_count": 7,
   "metadata": {},
   "outputs": [
    {
     "name": "stdout",
     "output_type": "stream",
     "text": [
      "Number of matching entries: 3047\n"
     ]
    }
   ],
   "source": [
    "#There are matches between the two dataframes that exceed, it is because of the duplicates that we decide to kept if they were in different plataforms\n",
    "\n",
    "# Check the number of matches\n",
    "matches = df_final['Manual.summary'].isin(df_scores_gpt4['Manual.summary'])\n",
    "number_of_matches = matches.sum()\n",
    "\n",
    "print(f\"Number of matching entries: {number_of_matches}\")"
   ]
  },
  {
   "cell_type": "code",
   "execution_count": 8,
   "metadata": {},
   "outputs": [
    {
     "name": "stdout",
     "output_type": "stream",
     "text": [
      "Number of matching entries: 2900\n"
     ]
    }
   ],
   "source": [
    "#  From what I am understanding these are things that are non matched in our dataframe, so they were dropped before the final dataframe, but they were still in the random ones. \n",
    "#  Check the number of matches\n",
    "matches = df_scores_gpt4['Manual.summary'].isin(df_final['Manual.summary'])\n",
    "number_of_matches = matches.sum()\n",
    "\n",
    "print(f\"Number of matching entries: {number_of_matches}\")"
   ]
  },
  {
   "cell_type": "code",
   "execution_count": 9,
   "metadata": {},
   "outputs": [
    {
     "name": "stdout",
     "output_type": "stream",
     "text": [
      "Number of non-matching entries: 100\n",
      "Non-matching entries in 'Manual.summary' from df_scores_gpt4:\n",
      "21                                                                                                                                                                                                                                                                                                                                                                                                                                                                                                     In an opinion article, journalist Ana Sá Lopes comments on the  ECB 's monetary policy. The author recalls that  EU  member states have defined in the  European  treaties that the  ECB  is independent and does not have to answer to anyone. She adds that there has been criticism of the course of monetary policy from the Portuguese Prime Minister, President and parties. Ms Sá Lopes stresses that while the  ECB  is pursuing a policy aimed at cutting wages, Portuguese banks have seen an opportunity to profit from rising interest rates.\n",
      "34                                                                                                                                                                                                         Just over a month ago, the  ECB  published an analysis of the budgetary impact of the measures adopted by the euro area member states to deal with the economic effects of the invasion of Ukraine. According to the authors' calculations, only 12% of these tax cuts and spending increases benefit vulnerable households; and less than 2% will directly contribute to the ecological transition. The probability that the need for compensatory measures extends to 2023 means that these measures will have to be altered. The increase in interest rates by the  ECB  may be a particularly painful and not very efficient medicine against the spiking prices since their origin is not an overheating of the  European  economy. More measures are needed: specifically, a reform of the energy price fixation mechanisms and an income pact.\n",
      "97                                                                                                                                                                                                                                                                                                                                                                                                                                                                                                                                                                                                                                                                                                                                                                                                                                                                                                                                                                                                                 Credit agency Fitch has warned high inflation\n",
      "107                                                                                                                                                                                                                                                                                                                                                                           According to economists, the  ECB  would likely start a relatively long period of easing, keeping interest rates at their current levels until September or the end of 2024. Goldman Sachs economist Sven Jari Stehn said that further interest rate hikes by the  ECB  are unlikely, although the rise in energy prices points to some risk of second-round effects. Mr Stehn also expects  ECB  officials to say that the September projections remain intact, but now with greater uncertainties due to the conflict in the Middle East. According to BPI Research, the  ECB 's meeting on Thursday would serve to confirm that interest rates reached their peak in September.\n",
      "110     An editorial argues that every month there is excitement around how long inflation will last when the German Federal Statistical Office (Destatis) announces the preliminary inflation figures, and it leaves no one untouched. The authors explain that it happened again on Friday: Destatis announced that inflation was 6.2% in July and the decline could be interpreted as all could be well and inflation will eventually calm down. However, that is not the case because core inflation, which the public does not pay much attention to, is still high. They note that soon core inflation will be higher than headline inflation, which is problematic because that is the part of inflation  central banks  can actually influence with interest rate hikes. Commerzbank Chief Economist Jörg Krämer has commented that the  central bank  will now look more and more at core inflation, which the authors say is a strategic turn. They conclude that marching into the second wave of inflation, core inflation will play a bigger role. \n",
      "                                                                                                                                                                                                                                                                                                                                                                                                                                                                                                                                  ...                                                                                                                                                                                                                                                                                                                                                                                                                                                                                                                           \n",
      "2853                                                                                                                                                                                                                                                                                                                                                                                                                                          ECB  Director General of Market Infrastructure and Payments Ulrich Bindseil and his adviser Jürgen Schaaf consider the current crypto winter the “last gasp” of bitcoin before going down the road to irrelevance. They see bitcoin as inefficient for payments, with a process that is “slow, expensive and complicated”, as well as being unsuitable for investing, as it generates no cash flows, shares, productive uses or social benefits. The economists caution against legitimising bitcoin, as it could impact customer relations negatively and cause enormous damage to the whole sector’s reputation.\n",
      "2899                                                                                                                                                                                                        Banks continue to close the financing lines as the  ECB  raises interest rates in its battle to control inflation. In May, for the fifth consecutive month, the granting of credit by financial institutions fell by 2.7% in the case of companies and 1.4% in the case of households. This is clear from the data published on Monday by Banco de España, which shows that credit to companies fell to EUR 921.537 billion while in the case of households, the total amount of credit in May stood at EUR 689.251 billion. This is the effect that the  ECB  aims for, to reduce financing and consumption and thus bring about a general decline in prices.                                                                                                                                                                                      \n",
      "2904                                                                                                                                                                                                                                                                                                                                                                                                                                                                                                            On Thursday, the  ECB  raised its key interest rates by 25 basis points, as inflation is expected to remain too high for too long. The rise in interest rates will likely push up mortgage rates. Since February, the monthly usury rate has allowed banks to increase their lending rates more regularly. Banks will be forced to pass on the rising cost of money by increasing their rates To continue to offer loans to their customers while remaining profitable to continue to offer loans to their customers while remaining profitable.\n",
      "2964                                                                                                                                                                                                                                    In an opinion piece, the author analyses the Stability Pact reform and its effect on the  European  debt crisis. The  ECB 's role in the euro area's debt-to-GDP ratio, influenced by the  ECB 's decisions, is under scrutiny in the reform of the Stability Pact. Collective decisions within the  EU  can affect member countries, particularly Italy, due to its high public debt and low economic growth. The debt-to-GDP ratio, which will be a focus of the Ecofin meeting on 8 December, points to these issues. Through interest rate decisions, the  ECB  impacted national debts with influence on price dynamics and real growth in the euro area economies through its monetary policy. The only entity that can jeopardise national debt is the  ECB  through wrong monetary policy, the author concludes.\n",
      "2977                                                                                                                                                                                                                                                                                                                                                                                                                                                                                                                                                                                                                                                                                                                                                                                                                                                                                                                                                                                   Despite the US softening, the  ECB  is in no hurry to cut interest rates.\n",
      "Name: Manual.summary, Length: 100, dtype: object\n"
     ]
    }
   ],
   "source": [
    "pd.set_option('display.width', 1000)  # Set the display width to 1000 characters wide\n",
    "pd.set_option('display.max_colwidth', None)  # Remove truncation of column content\n",
    "\n",
    "\n",
    "# Check for non-matching entries\n",
    "non_matches = ~df_scores_gpt4['Manual.summary'].isin(df_final['Manual.summary'])\n",
    "non_matching_entries = df_scores_gpt4[non_matches]\n",
    "\n",
    "# Print the number of non-matching entries\n",
    "print(f\"Number of non-matching entries: {non_matching_entries.shape[0]}\")\n",
    "\n",
    "# Display the non-matching entries\n",
    "if non_matching_entries.shape[0] > 0:\n",
    "    print(\"Non-matching entries in 'Manual.summary' from df_scores_gpt4:\")\n",
    "    print(non_matching_entries['Manual.summary'])\n",
    "else:\n",
    "    print(\"No non-matching entries found.\")"
   ]
  },
  {
   "cell_type": "code",
   "execution_count": 10,
   "metadata": {},
   "outputs": [
    {
     "name": "stdout",
     "output_type": "stream",
     "text": [
      "Number of matches before merge: 3047\n"
     ]
    },
    {
     "name": "stderr",
     "output_type": "stream",
     "text": [
      "/var/folders/n4/wdz2gxc13wl6m46by5g242kh0000gn/T/ipykernel_16375/3567359526.py:2: FutureWarning: data_manager option is deprecated and will be removed in a future version. Only the BlockManager will be available.\n",
      "  pd.reset_option('all')\n",
      "/var/folders/n4/wdz2gxc13wl6m46by5g242kh0000gn/T/ipykernel_16375/3567359526.py:2: FutureWarning: use_inf_as_na option is deprecated and will be removed in a future version. Convert inf values to NaN before operating instead.\n",
      "  pd.reset_option('all')\n"
     ]
    },
    {
     "data": {
      "text/html": [
       "<div>\n",
       "<style scoped>\n",
       "    .dataframe tbody tr th:only-of-type {\n",
       "        vertical-align: middle;\n",
       "    }\n",
       "\n",
       "    .dataframe tbody tr th {\n",
       "        vertical-align: top;\n",
       "    }\n",
       "\n",
       "    .dataframe thead th {\n",
       "        text-align: right;\n",
       "    }\n",
       "</style>\n",
       "<table border=\"1\" class=\"dataframe\">\n",
       "  <thead>\n",
       "    <tr style=\"text-align: right;\">\n",
       "      <th></th>\n",
       "      <th>Date</th>\n",
       "      <th>Source</th>\n",
       "      <th>Headline</th>\n",
       "      <th>Translated.headline</th>\n",
       "      <th>Manual.summary</th>\n",
       "      <th>Original.article.url</th>\n",
       "      <th>Translated.text</th>\n",
       "      <th>Media.type</th>\n",
       "      <th>Speaker</th>\n",
       "      <th>Reach</th>\n",
       "      <th>Language</th>\n",
       "      <th>Country.Code</th>\n",
       "      <th>Sitename</th>\n",
       "      <th>Tags</th>\n",
       "      <th>Site_Readership</th>\n",
       "      <th>Article_Readership</th>\n",
       "      <th>translated_text_preproc</th>\n",
       "      <th>manual_summary_preproc</th>\n",
       "      <th>Name_of_Speaker</th>\n",
       "      <th>OpenAI_Score</th>\n",
       "    </tr>\n",
       "  </thead>\n",
       "  <tbody>\n",
       "    <tr>\n",
       "      <th>0</th>\n",
       "      <td>2022-09-30 22:08:34</td>\n",
       "      <td>Il Messaggero - Borsa Italiana</td>\n",
       "      <td>Visco: «Troppi rialzi dei tassi, si va in rece...</td>\n",
       "      <td>Banca d'Italia's Visco: \"Too many rate hikes w...</td>\n",
       "      <td>At a conference in Florence, Banca d'Italia Go...</td>\n",
       "      <td>https://www.ilmessaggero.it/economia/news/tass...</td>\n",
       "      <td>No to an excessive rise in rates. The Governor...</td>\n",
       "      <td>WEB</td>\n",
       "      <td>Newspapers</td>\n",
       "      <td>1174293</td>\n",
       "      <td>it</td>\n",
       "      <td>IT</td>\n",
       "      <td>Il Messaggero</td>\n",
       "      <td>European Central Bank, European Monetary Union...</td>\n",
       "      <td>2296944.0</td>\n",
       "      <td>0.0</td>\n",
       "      <td>excessive rise rate governor bank italy vincen...</td>\n",
       "      <td>conference florence banca ditalia governor ign...</td>\n",
       "      <td>Mario Centeno</td>\n",
       "      <td>NaN</td>\n",
       "    </tr>\n",
       "    <tr>\n",
       "      <th>1</th>\n",
       "      <td>2022-09-30 21:30:13</td>\n",
       "      <td>Handelsblatt - Finanzen</td>\n",
       "      <td>EZB-Ratsmitglied Visco: Rezessionsrisiko bei g...</td>\n",
       "      <td>ECB 's Visco: Recession risk in the event of m...</td>\n",
       "      <td>Banca d'Italia Governor  Ignazio Visco  on Fri...</td>\n",
       "      <td>https://www.handelsblatt.com/finanzen/geldpoli...</td>\n",
       "      <td>NaN</td>\n",
       "      <td>WEB</td>\n",
       "      <td>Newspapers</td>\n",
       "      <td>525924</td>\n",
       "      <td>de</td>\n",
       "      <td>DE</td>\n",
       "      <td>Handelsblatt</td>\n",
       "      <td>European Central Bank, European Monetary Union...</td>\n",
       "      <td>314148.0</td>\n",
       "      <td>811493.0</td>\n",
       "      <td>banca ditalia governor ignazio visco friday wa...</td>\n",
       "      <td>banca ditalia governor ignazio visco friday wa...</td>\n",
       "      <td>Ignazio Visco</td>\n",
       "      <td>NaN</td>\n",
       "    </tr>\n",
       "    <tr>\n",
       "      <th>2</th>\n",
       "      <td>2022-09-30 20:56:08</td>\n",
       "      <td>Bloomberg - GNews</td>\n",
       "      <td>ECB 's Schnabel Says Weaker Demand May Not Eas...</td>\n",
       "      <td>ECB 's Schnabel says weaker demand may not eas...</td>\n",
       "      <td>ECB  Executive Board Member  Isabel Schnabel  ...</td>\n",
       "      <td>https://www.bloomberg.com/news/articles/2022-0...</td>\n",
       "      <td>European Central Bank Executive Board member I...</td>\n",
       "      <td>WEB</td>\n",
       "      <td>Net Magazine</td>\n",
       "      <td>2520979</td>\n",
       "      <td>en</td>\n",
       "      <td>US</td>\n",
       "      <td>Bloomberg</td>\n",
       "      <td>European Central Bank, Inflation, Rank 1, Core...</td>\n",
       "      <td>1309524.0</td>\n",
       "      <td>278016.0</td>\n",
       "      <td>european central bank executive board member i...</td>\n",
       "      <td>ecb executive board member isabel schnabel sai...</td>\n",
       "      <td>Isabel Schnabel</td>\n",
       "      <td>NaN</td>\n",
       "    </tr>\n",
       "    <tr>\n",
       "      <th>3</th>\n",
       "      <td>2022-09-30 18:42:47</td>\n",
       "      <td>Il Foglio - Page 3</td>\n",
       "      <td>**Conti pubblici: Visco, rientro debito ben in...</td>\n",
       "      <td>Public accounts: Visco, debt repayment well ad...</td>\n",
       "      <td>In a speech organised by the Florence School o...</td>\n",
       "      <td>https://www.ilfoglio.it/adnkronos/2022/09/30/n...</td>\n",
       "      <td>NaN</td>\n",
       "      <td>WEB</td>\n",
       "      <td>Newspapers</td>\n",
       "      <td>230279</td>\n",
       "      <td>it</td>\n",
       "      <td>IT</td>\n",
       "      <td>Il Foglio</td>\n",
       "      <td>European Central Bank, European Monetary Union...</td>\n",
       "      <td>204119.0</td>\n",
       "      <td>0.0</td>\n",
       "      <td>speech organised florence school banking finan...</td>\n",
       "      <td>speech organised florence school banking finan...</td>\n",
       "      <td>Ignazio Visco</td>\n",
       "      <td>NaN</td>\n",
       "    </tr>\n",
       "  </tbody>\n",
       "</table>\n",
       "</div>"
      ],
      "text/plain": [
       "                  Date                          Source  \\\n",
       "0  2022-09-30 22:08:34  Il Messaggero - Borsa Italiana   \n",
       "1  2022-09-30 21:30:13         Handelsblatt - Finanzen   \n",
       "2  2022-09-30 20:56:08               Bloomberg - GNews   \n",
       "3  2022-09-30 18:42:47              Il Foglio - Page 3   \n",
       "\n",
       "                                            Headline  \\\n",
       "0  Visco: «Troppi rialzi dei tassi, si va in rece...   \n",
       "1  EZB-Ratsmitglied Visco: Rezessionsrisiko bei g...   \n",
       "2  ECB 's Schnabel Says Weaker Demand May Not Eas...   \n",
       "3  **Conti pubblici: Visco, rientro debito ben in...   \n",
       "\n",
       "                                 Translated.headline  \\\n",
       "0  Banca d'Italia's Visco: \"Too many rate hikes w...   \n",
       "1  ECB 's Visco: Recession risk in the event of m...   \n",
       "2  ECB 's Schnabel says weaker demand may not eas...   \n",
       "3  Public accounts: Visco, debt repayment well ad...   \n",
       "\n",
       "                                      Manual.summary  \\\n",
       "0  At a conference in Florence, Banca d'Italia Go...   \n",
       "1  Banca d'Italia Governor  Ignazio Visco  on Fri...   \n",
       "2  ECB  Executive Board Member  Isabel Schnabel  ...   \n",
       "3  In a speech organised by the Florence School o...   \n",
       "\n",
       "                                Original.article.url  \\\n",
       "0  https://www.ilmessaggero.it/economia/news/tass...   \n",
       "1  https://www.handelsblatt.com/finanzen/geldpoli...   \n",
       "2  https://www.bloomberg.com/news/articles/2022-0...   \n",
       "3  https://www.ilfoglio.it/adnkronos/2022/09/30/n...   \n",
       "\n",
       "                                     Translated.text Media.type       Speaker  \\\n",
       "0  No to an excessive rise in rates. The Governor...        WEB    Newspapers   \n",
       "1                                                NaN        WEB    Newspapers   \n",
       "2  European Central Bank Executive Board member I...        WEB  Net Magazine   \n",
       "3                                                NaN        WEB    Newspapers   \n",
       "\n",
       "     Reach Language Country.Code       Sitename  \\\n",
       "0  1174293       it           IT  Il Messaggero   \n",
       "1   525924       de           DE   Handelsblatt   \n",
       "2  2520979       en           US      Bloomberg   \n",
       "3   230279       it           IT      Il Foglio   \n",
       "\n",
       "                                                Tags  Site_Readership  \\\n",
       "0  European Central Bank, European Monetary Union...        2296944.0   \n",
       "1  European Central Bank, European Monetary Union...         314148.0   \n",
       "2  European Central Bank, Inflation, Rank 1, Core...        1309524.0   \n",
       "3  European Central Bank, European Monetary Union...         204119.0   \n",
       "\n",
       "   Article_Readership                            translated_text_preproc  \\\n",
       "0                 0.0  excessive rise rate governor bank italy vincen...   \n",
       "1            811493.0  banca ditalia governor ignazio visco friday wa...   \n",
       "2            278016.0  european central bank executive board member i...   \n",
       "3                 0.0  speech organised florence school banking finan...   \n",
       "\n",
       "                              manual_summary_preproc  Name_of_Speaker  \\\n",
       "0  conference florence banca ditalia governor ign...    Mario Centeno   \n",
       "1  banca ditalia governor ignazio visco friday wa...    Ignazio Visco   \n",
       "2  ecb executive board member isabel schnabel sai...  Isabel Schnabel   \n",
       "3  speech organised florence school banking finan...    Ignazio Visco   \n",
       "\n",
       "  OpenAI_Score  \n",
       "0          NaN  \n",
       "1          NaN  \n",
       "2          NaN  \n",
       "3          NaN  "
      ]
     },
     "execution_count": 10,
     "metadata": {},
     "output_type": "execute_result"
    }
   ],
   "source": [
    "#Reset options every option\n",
    "pd.reset_option('all')\n",
    "\n",
    "# First, check the number of matches before merging\n",
    "matches = df_final['Manual.summary'].isin(df_scores_gpt4['Manual.summary'])\n",
    "number_of_matches_before_merge = matches.sum()\n",
    "print(f\"Number of matches before merge: {number_of_matches_before_merge}\")\n",
    "\n",
    "# Perform the merge to add the 'OpenAI_Score' from df_scores_gpt4 to df_final\n",
    "# Make sure there's no column name conflict by specifying suffixes if needed\n",
    "df_final = df_final.merge(df_scores_gpt4[['Manual.summary', 'OpenAI_Score']],\n",
    "                          on='Manual.summary', how='left', suffixes=('', '_drop'))\n",
    "\n",
    "# After merge, drop any duplicate or unnecessary columns that may have resulted from the merge\n",
    "df_final.drop([col for col in df_final.columns if 'drop' in col], axis=1, inplace=True)\n",
    "\n",
    "# Print the result of the merge to verify\n",
    "df_final.head(4)"
   ]
  },
  {
   "cell_type": "code",
   "execution_count": 11,
   "metadata": {},
   "outputs": [
    {
     "name": "stdout",
     "output_type": "stream",
     "text": [
      "Total number of values in 'OpenAI_Score': 30160\n",
      "Number of non-null values in 'OpenAI_Score': 3047\n"
     ]
    }
   ],
   "source": [
    "# Print the total number of values in the 'OpenAI_Score' column\n",
    "total_values = len(df_final['OpenAI_Score'])\n",
    "print(f\"Total number of values in 'OpenAI_Score': {total_values}\")\n",
    "\n",
    "# Print the number of non-null values in the 'OpenAI_Score' column\n",
    "non_null_values = df_final['OpenAI_Score'].count()\n",
    "print(f\"Number of non-null values in 'OpenAI_Score': {non_null_values}\")"
   ]
  },
  {
   "cell_type": "markdown",
   "metadata": {},
   "source": [
    "# Seeing the score based on the Open_AI Scores"
   ]
  },
  {
   "cell_type": "code",
   "execution_count": 12,
   "metadata": {},
   "outputs": [],
   "source": [
    "# Keep columns only that are non-null in OPENAI_SCORE\n",
    "df_open_ai_scores= df_final[df_final['OpenAI_Score'].notnull()]\n",
    "df_open_ai_scores.to_csv('/Users/ruimaciel/Desktop/Local_ECB_Cacophony_Master_Thesis/df_open_ai_scores.csv')"
   ]
  },
  {
   "cell_type": "markdown",
   "metadata": {},
   "source": [
    "# Train of the final model\n"
   ]
  },
  {
   "cell_type": "code",
   "execution_count": 13,
   "metadata": {},
   "outputs": [
    {
     "data": {
      "text/plain": [
       "Index(['Date', 'Source', 'Headline', 'Translated.headline', 'Manual.summary',\n",
       "       'Original.article.url', 'Translated.text', 'Media.type', 'Speaker',\n",
       "       'Reach', 'Language', 'Country.Code', 'Sitename', 'Tags',\n",
       "       'Site_Readership', 'Article_Readership', 'translated_text_preproc',\n",
       "       'manual_summary_preproc', 'Name_of_Speaker', 'OpenAI_Score'],\n",
       "      dtype='object')"
      ]
     },
     "execution_count": 13,
     "metadata": {},
     "output_type": "execute_result"
    }
   ],
   "source": [
    "df_final.columns"
   ]
  },
  {
   "cell_type": "code",
   "execution_count": 14,
   "metadata": {},
   "outputs": [],
   "source": [
    "from transformers import AutoModelForSequenceClassification, AutoTokenizer, pipeline"
   ]
  },
  {
   "cell_type": "code",
   "execution_count": 15,
   "metadata": {},
   "outputs": [],
   "source": [
    "# # Load the fine-tuned model and tokenizer\n",
    "model_path = \"/Users/ruimaciel/Desktop/Local_ECB_Cacophony_Master_Thesis/finetuned-FOMC-RoBERTa\"\n",
    "fine_tuned_model = AutoModelForSequenceClassification.from_pretrained(model_path)\n",
    "fine_tuned_tokenizer = AutoTokenizer.from_pretrained(model_path)\n",
    "\n",
    "# # Create a pipeline for sentiment analysis\n",
    "# classifier = pipeline(\"sentiment-analysis\", model=fine_tuned_model, tokenizer=fine_tuned_tokenizer)\n",
    "\n",
    "# # Select only the first 100 rows for processing\n",
    "# unlabeled_texts = df_final['Manual.summary'].head(1000).tolist()\n",
    "\n",
    "# # Make predictions\n",
    "# predictions = classifier(unlabeled_texts)\n",
    "\n",
    "# # Add predictions to the dataframe for the first 100 rows\n",
    "# df_final.loc[:999, 'bert_predictions_test'] = [pred['label'] for pred in predictions]  # using loc to ensure we only modify the first 100 rows\n",
    "\n",
    "# # Display the updated part of the dataframe\n",
    "# print(df_final.head(1000))\n"
   ]
  },
  {
   "cell_type": "code",
   "execution_count": 16,
   "metadata": {},
   "outputs": [
    {
     "ename": "KeyError",
     "evalue": "'bert_predictions'",
     "output_type": "error",
     "traceback": [
      "\u001b[0;31m---------------------------------------------------------------------------\u001b[0m",
      "\u001b[0;31mKeyError\u001b[0m                                  Traceback (most recent call last)",
      "File \u001b[0;32m/opt/anaconda3/lib/python3.11/site-packages/pandas/core/indexes/base.py:3805\u001b[0m, in \u001b[0;36mIndex.get_loc\u001b[0;34m(self, key)\u001b[0m\n\u001b[1;32m   3804\u001b[0m \u001b[38;5;28;01mtry\u001b[39;00m:\n\u001b[0;32m-> 3805\u001b[0m     \u001b[38;5;28;01mreturn\u001b[39;00m \u001b[38;5;28mself\u001b[39m\u001b[38;5;241m.\u001b[39m_engine\u001b[38;5;241m.\u001b[39mget_loc(casted_key)\n\u001b[1;32m   3806\u001b[0m \u001b[38;5;28;01mexcept\u001b[39;00m \u001b[38;5;167;01mKeyError\u001b[39;00m \u001b[38;5;28;01mas\u001b[39;00m err:\n",
      "File \u001b[0;32mindex.pyx:167\u001b[0m, in \u001b[0;36mpandas._libs.index.IndexEngine.get_loc\u001b[0;34m()\u001b[0m\n",
      "File \u001b[0;32mindex.pyx:196\u001b[0m, in \u001b[0;36mpandas._libs.index.IndexEngine.get_loc\u001b[0;34m()\u001b[0m\n",
      "File \u001b[0;32mpandas/_libs/hashtable_class_helper.pxi:7081\u001b[0m, in \u001b[0;36mpandas._libs.hashtable.PyObjectHashTable.get_item\u001b[0;34m()\u001b[0m\n",
      "File \u001b[0;32mpandas/_libs/hashtable_class_helper.pxi:7089\u001b[0m, in \u001b[0;36mpandas._libs.hashtable.PyObjectHashTable.get_item\u001b[0;34m()\u001b[0m\n",
      "\u001b[0;31mKeyError\u001b[0m: 'bert_predictions'",
      "\nThe above exception was the direct cause of the following exception:\n",
      "\u001b[0;31mKeyError\u001b[0m                                  Traceback (most recent call last)",
      "Cell \u001b[0;32mIn[16], line 1\u001b[0m\n\u001b[0;32m----> 1\u001b[0m unique_counts \u001b[38;5;241m=\u001b[39m df_final[\u001b[38;5;124m'\u001b[39m\u001b[38;5;124mbert_predictions\u001b[39m\u001b[38;5;124m'\u001b[39m]\u001b[38;5;241m.\u001b[39mvalue_counts(dropna\u001b[38;5;241m=\u001b[39m\u001b[38;5;28;01mTrue\u001b[39;00m)\n\u001b[1;32m      2\u001b[0m \u001b[38;5;28mprint\u001b[39m(unique_counts)\n",
      "File \u001b[0;32m/opt/anaconda3/lib/python3.11/site-packages/pandas/core/frame.py:4102\u001b[0m, in \u001b[0;36mDataFrame.__getitem__\u001b[0;34m(self, key)\u001b[0m\n\u001b[1;32m   4100\u001b[0m \u001b[38;5;28;01mif\u001b[39;00m \u001b[38;5;28mself\u001b[39m\u001b[38;5;241m.\u001b[39mcolumns\u001b[38;5;241m.\u001b[39mnlevels \u001b[38;5;241m>\u001b[39m \u001b[38;5;241m1\u001b[39m:\n\u001b[1;32m   4101\u001b[0m     \u001b[38;5;28;01mreturn\u001b[39;00m \u001b[38;5;28mself\u001b[39m\u001b[38;5;241m.\u001b[39m_getitem_multilevel(key)\n\u001b[0;32m-> 4102\u001b[0m indexer \u001b[38;5;241m=\u001b[39m \u001b[38;5;28mself\u001b[39m\u001b[38;5;241m.\u001b[39mcolumns\u001b[38;5;241m.\u001b[39mget_loc(key)\n\u001b[1;32m   4103\u001b[0m \u001b[38;5;28;01mif\u001b[39;00m is_integer(indexer):\n\u001b[1;32m   4104\u001b[0m     indexer \u001b[38;5;241m=\u001b[39m [indexer]\n",
      "File \u001b[0;32m/opt/anaconda3/lib/python3.11/site-packages/pandas/core/indexes/base.py:3812\u001b[0m, in \u001b[0;36mIndex.get_loc\u001b[0;34m(self, key)\u001b[0m\n\u001b[1;32m   3807\u001b[0m     \u001b[38;5;28;01mif\u001b[39;00m \u001b[38;5;28misinstance\u001b[39m(casted_key, \u001b[38;5;28mslice\u001b[39m) \u001b[38;5;129;01mor\u001b[39;00m (\n\u001b[1;32m   3808\u001b[0m         \u001b[38;5;28misinstance\u001b[39m(casted_key, abc\u001b[38;5;241m.\u001b[39mIterable)\n\u001b[1;32m   3809\u001b[0m         \u001b[38;5;129;01mand\u001b[39;00m \u001b[38;5;28many\u001b[39m(\u001b[38;5;28misinstance\u001b[39m(x, \u001b[38;5;28mslice\u001b[39m) \u001b[38;5;28;01mfor\u001b[39;00m x \u001b[38;5;129;01min\u001b[39;00m casted_key)\n\u001b[1;32m   3810\u001b[0m     ):\n\u001b[1;32m   3811\u001b[0m         \u001b[38;5;28;01mraise\u001b[39;00m InvalidIndexError(key)\n\u001b[0;32m-> 3812\u001b[0m     \u001b[38;5;28;01mraise\u001b[39;00m \u001b[38;5;167;01mKeyError\u001b[39;00m(key) \u001b[38;5;28;01mfrom\u001b[39;00m \u001b[38;5;21;01merr\u001b[39;00m\n\u001b[1;32m   3813\u001b[0m \u001b[38;5;28;01mexcept\u001b[39;00m \u001b[38;5;167;01mTypeError\u001b[39;00m:\n\u001b[1;32m   3814\u001b[0m     \u001b[38;5;66;03m# If we have a listlike key, _check_indexing_error will raise\u001b[39;00m\n\u001b[1;32m   3815\u001b[0m     \u001b[38;5;66;03m#  InvalidIndexError. Otherwise we fall through and re-raise\u001b[39;00m\n\u001b[1;32m   3816\u001b[0m     \u001b[38;5;66;03m#  the TypeError.\u001b[39;00m\n\u001b[1;32m   3817\u001b[0m     \u001b[38;5;28mself\u001b[39m\u001b[38;5;241m.\u001b[39m_check_indexing_error(key)\n",
      "\u001b[0;31mKeyError\u001b[0m: 'bert_predictions'"
     ]
    }
   ],
   "source": [
    "# unique_counts = df_final['bert_predictions'].value_counts(dropna=True)\n",
    "# print(unique_counts)\n"
   ]
  },
  {
   "cell_type": "code",
   "execution_count": 21,
   "metadata": {},
   "outputs": [
    {
     "name": "stderr",
     "output_type": "stream",
     "text": [
      "Token indices sequence length is longer than the specified maximum sequence length for this model (736 > 512). Running this sequence through the model will result in indexing errors\n"
     ]
    },
    {
     "name": "stdout",
     "output_type": "stream",
     "text": [
      "An error occurred while processing batch 1785: The expanded size of the tensor (736) must match the existing size (514) at non-singleton dimension 1.  Target sizes: [1, 736].  Tensor sizes: [1, 514]\n",
      "An error occurred while processing batch 7148: The expanded size of the tensor (596) must match the existing size (514) at non-singleton dimension 1.  Target sizes: [1, 596].  Tensor sizes: [1, 514]\n",
      "An error occurred while processing batch 7780: The expanded size of the tensor (536) must match the existing size (514) at non-singleton dimension 1.  Target sizes: [1, 536].  Tensor sizes: [1, 514]\n"
     ]
    },
    {
     "ename": "ValueError",
     "evalue": "Length of values (30157) does not match length of index (30160)",
     "output_type": "error",
     "traceback": [
      "\u001b[0;31m---------------------------------------------------------------------------\u001b[0m",
      "\u001b[0;31mValueError\u001b[0m                                Traceback (most recent call last)",
      "Cell \u001b[0;32mIn[21], line 31\u001b[0m\n\u001b[1;32m     27\u001b[0m         \u001b[38;5;28mprint\u001b[39m(\u001b[38;5;124mf\u001b[39m\u001b[38;5;124m\"\u001b[39m\u001b[38;5;124mAn error occurred while processing batch \u001b[39m\u001b[38;5;132;01m{\u001b[39;00mi\u001b[38;5;241m/\u001b[39m\u001b[38;5;241m/\u001b[39mbatch_size\u001b[38;5;132;01m}\u001b[39;00m\u001b[38;5;124m: \u001b[39m\u001b[38;5;132;01m{\u001b[39;00me\u001b[38;5;132;01m}\u001b[39;00m\u001b[38;5;124m\"\u001b[39m)\n\u001b[1;32m     28\u001b[0m         \u001b[38;5;66;03m# Optionally, handle the failed batch by skipping or logging\u001b[39;00m\n\u001b[1;32m     29\u001b[0m \n\u001b[1;32m     30\u001b[0m \u001b[38;5;66;03m# Add predictions to the dataframe\u001b[39;00m\n\u001b[0;32m---> 31\u001b[0m df_final[\u001b[38;5;124m'\u001b[39m\u001b[38;5;124mbert_predictions_everything\u001b[39m\u001b[38;5;124m'\u001b[39m] \u001b[38;5;241m=\u001b[39m [pred[\u001b[38;5;124m'\u001b[39m\u001b[38;5;124mlabel\u001b[39m\u001b[38;5;124m'\u001b[39m] \u001b[38;5;28;01mfor\u001b[39;00m pred \u001b[38;5;129;01min\u001b[39;00m predictions]\n\u001b[1;32m     33\u001b[0m \u001b[38;5;66;03m# Display part of the updated dataframe\u001b[39;00m\n\u001b[1;32m     34\u001b[0m \u001b[38;5;28mprint\u001b[39m(df_final\u001b[38;5;241m.\u001b[39mhead())\n",
      "File \u001b[0;32m/opt/anaconda3/lib/python3.11/site-packages/pandas/core/frame.py:4311\u001b[0m, in \u001b[0;36mDataFrame.__setitem__\u001b[0;34m(self, key, value)\u001b[0m\n\u001b[1;32m   4308\u001b[0m     \u001b[38;5;28mself\u001b[39m\u001b[38;5;241m.\u001b[39m_setitem_array([key], value)\n\u001b[1;32m   4309\u001b[0m \u001b[38;5;28;01melse\u001b[39;00m:\n\u001b[1;32m   4310\u001b[0m     \u001b[38;5;66;03m# set column\u001b[39;00m\n\u001b[0;32m-> 4311\u001b[0m     \u001b[38;5;28mself\u001b[39m\u001b[38;5;241m.\u001b[39m_set_item(key, value)\n",
      "File \u001b[0;32m/opt/anaconda3/lib/python3.11/site-packages/pandas/core/frame.py:4524\u001b[0m, in \u001b[0;36mDataFrame._set_item\u001b[0;34m(self, key, value)\u001b[0m\n\u001b[1;32m   4514\u001b[0m \u001b[38;5;28;01mdef\u001b[39;00m \u001b[38;5;21m_set_item\u001b[39m(\u001b[38;5;28mself\u001b[39m, key, value) \u001b[38;5;241m-\u001b[39m\u001b[38;5;241m>\u001b[39m \u001b[38;5;28;01mNone\u001b[39;00m:\n\u001b[1;32m   4515\u001b[0m \u001b[38;5;250m    \u001b[39m\u001b[38;5;124;03m\"\"\"\u001b[39;00m\n\u001b[1;32m   4516\u001b[0m \u001b[38;5;124;03m    Add series to DataFrame in specified column.\u001b[39;00m\n\u001b[1;32m   4517\u001b[0m \n\u001b[0;32m   (...)\u001b[0m\n\u001b[1;32m   4522\u001b[0m \u001b[38;5;124;03m    ensure homogeneity.\u001b[39;00m\n\u001b[1;32m   4523\u001b[0m \u001b[38;5;124;03m    \"\"\"\u001b[39;00m\n\u001b[0;32m-> 4524\u001b[0m     value, refs \u001b[38;5;241m=\u001b[39m \u001b[38;5;28mself\u001b[39m\u001b[38;5;241m.\u001b[39m_sanitize_column(value)\n\u001b[1;32m   4526\u001b[0m     \u001b[38;5;28;01mif\u001b[39;00m (\n\u001b[1;32m   4527\u001b[0m         key \u001b[38;5;129;01min\u001b[39;00m \u001b[38;5;28mself\u001b[39m\u001b[38;5;241m.\u001b[39mcolumns\n\u001b[1;32m   4528\u001b[0m         \u001b[38;5;129;01mand\u001b[39;00m value\u001b[38;5;241m.\u001b[39mndim \u001b[38;5;241m==\u001b[39m \u001b[38;5;241m1\u001b[39m\n\u001b[1;32m   4529\u001b[0m         \u001b[38;5;129;01mand\u001b[39;00m \u001b[38;5;129;01mnot\u001b[39;00m \u001b[38;5;28misinstance\u001b[39m(value\u001b[38;5;241m.\u001b[39mdtype, ExtensionDtype)\n\u001b[1;32m   4530\u001b[0m     ):\n\u001b[1;32m   4531\u001b[0m         \u001b[38;5;66;03m# broadcast across multiple columns if necessary\u001b[39;00m\n\u001b[1;32m   4532\u001b[0m         \u001b[38;5;28;01mif\u001b[39;00m \u001b[38;5;129;01mnot\u001b[39;00m \u001b[38;5;28mself\u001b[39m\u001b[38;5;241m.\u001b[39mcolumns\u001b[38;5;241m.\u001b[39mis_unique \u001b[38;5;129;01mor\u001b[39;00m \u001b[38;5;28misinstance\u001b[39m(\u001b[38;5;28mself\u001b[39m\u001b[38;5;241m.\u001b[39mcolumns, MultiIndex):\n",
      "File \u001b[0;32m/opt/anaconda3/lib/python3.11/site-packages/pandas/core/frame.py:5266\u001b[0m, in \u001b[0;36mDataFrame._sanitize_column\u001b[0;34m(self, value)\u001b[0m\n\u001b[1;32m   5263\u001b[0m     \u001b[38;5;28;01mreturn\u001b[39;00m _reindex_for_setitem(value, \u001b[38;5;28mself\u001b[39m\u001b[38;5;241m.\u001b[39mindex)\n\u001b[1;32m   5265\u001b[0m \u001b[38;5;28;01mif\u001b[39;00m is_list_like(value):\n\u001b[0;32m-> 5266\u001b[0m     com\u001b[38;5;241m.\u001b[39mrequire_length_match(value, \u001b[38;5;28mself\u001b[39m\u001b[38;5;241m.\u001b[39mindex)\n\u001b[1;32m   5267\u001b[0m arr \u001b[38;5;241m=\u001b[39m sanitize_array(value, \u001b[38;5;28mself\u001b[39m\u001b[38;5;241m.\u001b[39mindex, copy\u001b[38;5;241m=\u001b[39m\u001b[38;5;28;01mTrue\u001b[39;00m, allow_2d\u001b[38;5;241m=\u001b[39m\u001b[38;5;28;01mTrue\u001b[39;00m)\n\u001b[1;32m   5268\u001b[0m \u001b[38;5;28;01mif\u001b[39;00m (\n\u001b[1;32m   5269\u001b[0m     \u001b[38;5;28misinstance\u001b[39m(value, Index)\n\u001b[1;32m   5270\u001b[0m     \u001b[38;5;129;01mand\u001b[39;00m value\u001b[38;5;241m.\u001b[39mdtype \u001b[38;5;241m==\u001b[39m \u001b[38;5;124m\"\u001b[39m\u001b[38;5;124mobject\u001b[39m\u001b[38;5;124m\"\u001b[39m\n\u001b[0;32m   (...)\u001b[0m\n\u001b[1;32m   5273\u001b[0m     \u001b[38;5;66;03m# TODO: Remove kludge in sanitize_array for string mode when enforcing\u001b[39;00m\n\u001b[1;32m   5274\u001b[0m     \u001b[38;5;66;03m# this deprecation\u001b[39;00m\n",
      "File \u001b[0;32m/opt/anaconda3/lib/python3.11/site-packages/pandas/core/common.py:573\u001b[0m, in \u001b[0;36mrequire_length_match\u001b[0;34m(data, index)\u001b[0m\n\u001b[1;32m    569\u001b[0m \u001b[38;5;250m\u001b[39m\u001b[38;5;124;03m\"\"\"\u001b[39;00m\n\u001b[1;32m    570\u001b[0m \u001b[38;5;124;03mCheck the length of data matches the length of the index.\u001b[39;00m\n\u001b[1;32m    571\u001b[0m \u001b[38;5;124;03m\"\"\"\u001b[39;00m\n\u001b[1;32m    572\u001b[0m \u001b[38;5;28;01mif\u001b[39;00m \u001b[38;5;28mlen\u001b[39m(data) \u001b[38;5;241m!=\u001b[39m \u001b[38;5;28mlen\u001b[39m(index):\n\u001b[0;32m--> 573\u001b[0m     \u001b[38;5;28;01mraise\u001b[39;00m \u001b[38;5;167;01mValueError\u001b[39;00m(\n\u001b[1;32m    574\u001b[0m         \u001b[38;5;124m\"\u001b[39m\u001b[38;5;124mLength of values \u001b[39m\u001b[38;5;124m\"\u001b[39m\n\u001b[1;32m    575\u001b[0m         \u001b[38;5;124mf\u001b[39m\u001b[38;5;124m\"\u001b[39m\u001b[38;5;124m(\u001b[39m\u001b[38;5;132;01m{\u001b[39;00m\u001b[38;5;28mlen\u001b[39m(data)\u001b[38;5;132;01m}\u001b[39;00m\u001b[38;5;124m) \u001b[39m\u001b[38;5;124m\"\u001b[39m\n\u001b[1;32m    576\u001b[0m         \u001b[38;5;124m\"\u001b[39m\u001b[38;5;124mdoes not match length of index \u001b[39m\u001b[38;5;124m\"\u001b[39m\n\u001b[1;32m    577\u001b[0m         \u001b[38;5;124mf\u001b[39m\u001b[38;5;124m\"\u001b[39m\u001b[38;5;124m(\u001b[39m\u001b[38;5;132;01m{\u001b[39;00m\u001b[38;5;28mlen\u001b[39m(index)\u001b[38;5;132;01m}\u001b[39;00m\u001b[38;5;124m)\u001b[39m\u001b[38;5;124m\"\u001b[39m\n\u001b[1;32m    578\u001b[0m     )\n",
      "\u001b[0;31mValueError\u001b[0m: Length of values (30157) does not match length of index (30160)"
     ]
    }
   ],
   "source": [
    "import torch\n",
    "from transformers import AutoModelForSequenceClassification, AutoTokenizer, pipeline\n",
    "\n",
    "# Load the fine-tuned model and tokenizer\n",
    "model_path = \"/Users/ruimaciel/Desktop/Local_ECB_Cacophony_Master_Thesis/finetuned-FOMC-RoBERTa\"\n",
    "model = AutoModelForSequenceClassification.from_pretrained(model_path)\n",
    "tokenizer = AutoTokenizer.from_pretrained(model_path)\n",
    "\n",
    "# Setup the pipeline for sentiment analysis using the loaded model and tokenizer\n",
    "classifier = pipeline(\"sentiment-analysis\", model=model, tokenizer=tokenizer)\n",
    "\n",
    "# DataFrame column to list\n",
    "summaries = df_final['Manual.summary'].tolist()\n",
    "\n",
    "# Define batch size\n",
    "batch_size = 1 # Adjust batch size according to your machine's capability\n",
    "\n",
    "# Process the data in batches\n",
    "predictions = []\n",
    "for i in range(0, len(summaries), batch_size):\n",
    "    batch = summaries[i:i+batch_size]\n",
    "    try:\n",
    "        # Make predictions for the current batch\n",
    "        batch_predictions = classifier(batch)\n",
    "        predictions.extend(batch_predictions)\n",
    "    except Exception as e:\n",
    "        print(f\"An error occurred while processing batch {i//batch_size}: {e}\")\n",
    "        # Optionally, handle the failed batch by skipping or logging\n",
    "\n",
    "# Add predictions to the dataframe\n",
    "df_final['bert_predictions_everything'] = [pred['label'] for pred in predictions]\n",
    "\n",
    "# Display part of the updated dataframe\n",
    "print(df_final.head())\n"
   ]
  },
  {
   "cell_type": "code",
   "execution_count": null,
   "metadata": {},
   "outputs": [],
   "source": [
    "unique_counts = df_final['bert_predictions'].value_counts(dropna=True)\n",
    "print(unique_counts)\n"
   ]
  },
  {
   "cell_type": "code",
   "execution_count": null,
   "metadata": {},
   "outputs": [
    {
     "name": "stdout",
     "output_type": "stream",
     "text": [
      "27                                                                                                                                                                                                                                        Suomen Pankki evaluates that the consequences of  Europe 's energy crisis may be long-lasting. The  central bank  thinks that it is very uncertain how well the euro area will manage to adapt to possible energy shortages and rising energy prices. Suomen Pankki Governor  Olli Rehn  stated on Thursday that the  EU  must get its act back together to solve the energy crisis. He considers reducing energy consumption the most important tool. The impact of the energy crisis on economic growth is still ahead for the most part, according to Suomen Pankki.\n",
      "77                                                                                                                              During a conference titled \"Moving beyond climate: integrating biodiversity into financial markets\",  ECB  Executive Board member  Frank Elderson  said that nature-related risks, including those associated with biodiversity loss, could have significant macroeconomic implications. \"What’s more, we are putting at risk more than half of global GDP. Around €40 trillion of global income relies on nature,\" Mr Elderson explained. With regard to the  ECB 's monetary policy, he said that the  central bank  is currently on track to implement the climate action plan it committed to when it introduced the new monetary policy strategy in the summer of last year.\n",
      "79                                                                                                                                                                                                                                                                                                                                                                                                                                                                                                                                                                                                                                                                                                       At a conference on 29 September, Suomen Pankki Governor  Olli Rehn  said that a forward-looking approach\n",
      "106                                                                                                                                                                                                                                                                                                                                                                                                                                                                                                                                                                                                                                        Suomen Pankki Governor  Olli Rehn  noted in a press statement that the  European  Union must get its ranks back in order to solve the energy crisis.Mr Rehn added that\n",
      "123                               On Tuesday, at the Louvre Museum, Banque de France organised a roundtable to present the issues around the tokenisation of finance, bringing together US Federal Reserve Chair Jerome Powell,  ECB  President  Christine Lagarde  and Monetary Authority of Singapore Director Ravi Menon. The discussion was moderated by Banque de France Governor  François Villeroy de Galhau . The  ECB  and the US Federal Reserve stressed the need not to be left behind by the development of the crypto ecosystem. According to Mr de Galhau, the  ECB  is currently in the research phase of its project but has high ambitions to create a decentralised financial infrastructure. Ms Lagarde said its launch is scheduled for 2026-2027, but the technical contours remain vague. \n",
      "126                                                                    The  ECB  has started to conduct an analysis of the Spanish government's proposed bank tax. The  ECB  was commissioned by Banco de España and has one month, extendable by a further four weeks, to respond to the request from the Congress of Deputies. Once this department finishes its work, the report will go through two filters. The first is its discussion with a panel of internal and external experts. And the second will be its approval by the  ECB 's Governing Council, which includes two Spaniards: Vice-President  Luis de Guindos  and Banco de España Governor  Pablo Hernández de Cos . No one doubts that the  ECB  will issue an unfavourable opinion on the matter, just as it did in the past with Lithuania.\n",
      "127                                                                         Following their meeting at Montecitorio, Lega Nord leader Matteo Salvini and Brothers of Italy (FdI) leader Giorgia Meloni spoke about great collaboration and unity of purpose, putting aside the friction that preceded the meeting. Despite Mr Salvini's request to serve as Minister of the Interior, Ms Meloni proposed a lower position due to his ongoing process related to the Open Arms case, which brought tensions between the two leaders until the meeting. Meanwhile, Antonio Tajani, Forza Italia's (FI) sole national coordinator, demanded equal representation with the LN, aiming at leading ministries.  ECB  Executive Board member  Fabio Panetta  is considered a possible candidate for Minister of Finance.\n",
      "129                            The  ECB 's climate stress tests carried out in July exposed the weaknesses of  European  banks. According to the report, almost two-thirds of  European  banks' business sector revenues come from sectors that emit a lot of greenhouse gases. Furthermore, banks still do not sufficiently incorporate climate risk into their stress testing frameworks and internal models. For  ECB  Supervisory Board Chairman Andrea Enria, euro area credit institutions urgently need to step up efforts to measure and manage climate risk, close existing data gaps and adopt best practices already applied in the industry.  ECB  Executive Board Member  Frank Elderson  said that conducting these tests is crucial in making the financial system more resilient to climate risk.\n",
      "154                                                                                                                     An editorial examines probable nominations for ministers within Italy's new government. According to the author, Fratelli d'Italia leader Giorgia Meloni is currently concentrating on the energy crisis and urgent measures for helping households and companies. Speaking of the government, Ms Letizia Moratti is expected to become Minister of Health, while Mr Domenico Siniscalco is rumoured to be nominated as Minister of Economics and Finance. Ms Meloni prefers  ECB  Executive Board Member  Fabio Panetta  for the Ministry of Economics and Finance, but Mr Panetta has refused, and President Sergio Mattarella is the only one able to convince him to change his mind.\n",
      "158    The  ECB  has recently launched a public consultation on its draft Guide to qualifying holdings procedures. The Guide aims to clarify how the  ECB  assesses applications to acquire qualifying holdings in banks. By convention, a \"qualifying participation\" is defined as a shareholding in a bank of at least 10% held by an individual shareholder, thus allowing the latter to exercise significant influence over the bank. Obtaining prior authorisation from the  ECB  is indispensable to acquire a qualifying holding and meet certain thresholds in  European  credit institutions. The  ECB  intends for the Guide to qualifying holding procedures to function as a user-friendly handbook. The consultation on the Guide started on 28 September today and will continue until 9 November. \n",
      "Name: Manual.summary, dtype: object\n"
     ]
    }
   ],
   "source": [
    "pd.set_option('display.width', 1000)  # Set the display width to 1000 characters wide\n",
    "pd.set_option('display.max_colwidth', None)  # Remove truncation of column content\n",
    "\n",
    "#Print examples of Manual.Summary Label_1 predictions\n",
    "print(df_final['Manual.summary'][df_final['bert_predictions'] == 'LABEL_2'].head(10))"
   ]
  },
  {
   "cell_type": "code",
   "execution_count": null,
   "metadata": {},
   "outputs": [
    {
     "name": "stdout",
     "output_type": "stream",
     "text": [
      "0                                                                                                                                                                                                                                                                                                  At a conference in Florence, Banca d'Italia Governor  Ignazio Visco  warned of the risks of triggering recession if the  ECB  blindly follows the US Federal Reserve and proceeds with excessively rapid and pronounced rate rises. Mr Visco, however, defended the  ECB  from the attacks of those who criticised it as slow in recognising the arrival of high inflation in recent months and stressed that he does not see any apparent reason to assume that the upcoming increases will be extraordinarily high. The governor claimed that the  ECB  had started its journey last December and emphasised that the institution's neutral policy rate would be between 0.7% and 1.8%. Therefore, the  ECB  could have already reached this rate with its last interest rate increase or is close to reaching it soon.\n",
      "1                                                                                                                                                                                                                                                                                                                                                                                                                                                                                                                                                                                                           Banca d'Italia Governor  Ignazio Visco  on Friday warned against raising the  ECB ’s key interest rates in steps that are too steep. “Rising inflation is now being accompanied by a sudden deterioration in the economic growth outlook,” he warned, adding: “In this context, excessively rapid and pronounced rate hikes would end up increasing the risk of a recession.” Mr Visco also said that “assuming that the  ECB  will follow the Fed blindly in the coming months could be a serious misjudgment.”\n",
      "5                                                                                                                                                                                                                                                                                                                              It is appropriate for the  ECB  to move gradually on the next interest rate hikes, Banca d’Italia Governor  Ignazio Visco  said in a speech organised by the Florence School of Banking and Finance. Mr Visco added that he did not think it is appropriate to tie the  ECB ’s hands with extraordinary or extraordinarily high increases, referring to experiences of different countries by type of economy. The trend and target of these hikes is a complicated issue also because, given the delay in the repercussion of monetary policy moves, the  ECB  faces a risk that, by raising interest rates, it could affect output and not inflation, Mr Visco explained. Thus, the Governing Council decided to have a meeting-by-meeting and data-dependent approach, Mr Visco concluded.\n",
      "7                              The monetary policy normalisation will have to continue with the aim of gradually reabsorbing the large accommodation created since 2014 when inflation was very low, Banca d’Italia Governor  Ignazio Visco  said in a speech organised by the Florence School of Banking and Finance. The  ECB  Governing Council faces a dilemma given that the increase in inflation is now accompanied by a sharp deterioration in the economic growth outlook, Mr Visco added, stressing that in this context, excessively rapid and pronounced interest rate hikes would end up increasing the risks of a recession. According to him, if the deterioration in the economic outlook turns out to be worse than expected, excessive anticipation in the normalisation of official interest rates could be disproportionate, undermining public confidence in the  ECB ’s actions and making it more difficult to maintain price stability over the medium term. It is a risk that deserves careful consideration along with letting inflation remain excessively high for too long, Mr Visco concluded.\n",
      "10                                        The differences between the United States and the euro area in the relative weight of supply and demand factors and the dynamics of prices net of the most volatile components explain why the monetary policy normalisation takes place at different speeds and at different times, Banca d’Italia Governor  Ignazio Visco  said in a speech organised by the Florence School of Banking and Finance. These differences suggest that assuming that the  ECB  will blindly follow the US Federal Reserve in the coming months could be a serious mistake, Mr Visco added. The forecast errors on the growth of consumer prices made by the  ECB ’s staff and the Eurosystem, but also other institutions, were high and higher than those observed in the past, perhaps in the opposite direction, Mr Visco stressed. Some have argued that these errors may have called into question the  ECB ’s credibility, but in reality, these errors could indicate that the models used for the projections may need less formal and more judgment-based assessments, Mr Visco concluded.\n",
      "11                                                                                                                                                                                   Banca d'Italia Governor  Ignazio Visco  on Friday warned against his colleagues' commitments to large interest rate hikes. “Rising inflation is now being accompanied by a sudden deterioration in the economic growth outlook,” he said, adding: “In this context, excessively rapid and pronounced rate hikes would end up increasing the risk of a recession.” Mr Visco also said that he sees no reason why the  ECB  should tie its hands with hypotheses of extraordinarily high increases. “Assuming that the  ECB  will follow the Fed blindly in the coming months could be a serious misjudgment,” he warned. Mr Visco also cautioned that while it is fair to deploy fiscal means to support households and firms in the current situation, governments must ensure this does not hurt future generations. “For Italy, this would also entail the risk of derailing public debt from its current descending path,” he added.\n",
      "44                                                                                                                                                                                                                                                                                                                                                                                                                                                                                                                                        Suomen Pankki Governor  Olli Rehn  is concerned about debt sustainability in many euro area countries. The energy crisis has created new challenges for public finances in the euro area, the Finnish  central bank  said in Helsinki on Thursday. Countries' efforts to find ways to limit the burden on households from high energy bills are understandable. However, indiscriminate spending increases would not help in the fight against inflation, Mr Rehn pointed out. Instead, tailored, temporary measures to help those most in need were the right approach, he noted.\n",
      "56    On Thursday, several  ECB 's Governing Council members discussed the themes of public debt, increasing financial vulnerabilities, inflation, and interest rates. Suomen Pankki Governor  Olli Rehn  pointed out that the long-term debt of more than a third of the euro area countries is seriously threatened. The  EU  countries' efforts to identify ways to limit households' energy bills are understandable, he added, but indiscriminately increasing spending would not and will not help in the fight against inflation. His speech took place against the scenario in which the UK government has been widely criticised for its maxi rate cut manoeuvre, which has led to a destabilisation of UK government bonds and the British pound. In this context,  ECB  Vice-President  Luis de Guindos  said during a conference speech that fiscal policies should not fuel inflation. Mr de Guindos argued that governments' choices, also in the aftermath of high energy prices, must be temporary and targeted at the most vulnerable households and businesses, which are hardest hit by high inflation.  \n",
      "57                                                                                                              The latest formal publication from the  European Systemic Risk Board  ( ESRB ) begins with an important warning. The institution, for the first time since its creation, writes about \"severe risks\" for the stability of the financial sector as a whole. A strong correction of key assets such as public debt can put numerous pension and investment funds in check, as the situation in the United Kingdom showed this week after massive losses in its sovereign bond that forced the intervention of the Bank of England. The spiral of losses and reimbursements could also cause significant liquidity problems in the system with the capacity to reach banks. These risks could materialise simultaneously, interacting with each other and amplifying their impact, warns the  ESRB , led by  ECB  President  Christine Lagarde . The institution urges financial entities to design contingency plans to deal with the potential risks described, as well as monitor their liquidity situation.\n",
      "71                                                                                                                                                                                                                                                                                                                                                                                                                                                 Banco de Portugal Governor  Mário Centeno  told Bloomberg on Thursday that the  ECB  should be cautious in its monetary policy decisions and should not raise interest rates too much, so as not to run the risk of walking back and forth and giving mixed signals to the markets and citizens. Mr Centeno's comments suggest that he is not in line with other Governing Council members who advocate a further 75 basis point hike to contain inflation. According to the Governor, the  ECB  must be a \"source of stability\" and, therefore, it must take \"as small steps as possible\", both in the rise in interest rates and in the reduction of its balance sheet.\n",
      "Name: Manual.summary, dtype: object\n"
     ]
    }
   ],
   "source": [
    "print(df_final['Manual.summary'][df_final['bert_predictions'] == 'LABEL_1'].head(10))"
   ]
  },
  {
   "cell_type": "code",
   "execution_count": null,
   "metadata": {},
   "outputs": [
    {
     "name": "stdout",
     "output_type": "stream",
     "text": [
      "2                                                                                                                     ECB  Executive Board Member  Isabel Schnabel  said Friday that even an economic slowdown in  Europe  may not be enough to tame inflation, urging more increases in borrowing costs. Uncertainty about the persistence of price pressures continues to call for a “robust control” approach to monetary policy, Ms Schnabel said in a speech in Spain. Such a stance reduces the danger that medium- and long-term inflation expectations move further away from the 2% target, she said. “A decline in real wages and a slowdown in aggregate demand may not materially ease current inflationary pressures,” Ms Schnabel warned, adding that further increases in the  ECB 's key policy rates will be needed. However, she noted that for now, “the risks of a wage-price spiral are contained, provided inflation expectations remain anchored.”\n",
      "3                                                                                                                                                                                                                                                                                                                                                                                                                                                                                                                                                      In a speech organised by the Florence School of Banking and Finance, Banca d'Italia Governor  Ignazio Visco  pointed out that the debt repayment process that started two years ago is well targeted and also benefits from the growth of nominal output but remains absolutely necessary to return to strong lasting growth. In addition, he expressed concern about the sharp deterioration in growth forecasts.\n",
      "4                                                                                                                                                                                                                                                                                 According to first estimates, euro area inflation jumped to 10% in September, which is a new record for the region. In August, euro area inflation, as measured by the harmonised consumer price index, was 9.1%, and last September it was 3.4%. Record price growth and the fact that inflation is now expressed in double digits in Germany mean additional pressure on the  ECB  to take measures to control it.  ECB  Governing Council members will meet on 27 October and many experts consider that the  central bank  should continue to be aggressive in the future.  ECB  President  Christine Lagarde  has explicitly confirmed that interest rate hikes are far from over.\n",
      "6                                                                                                                                                                                                                                                                                                                   On Friday,  ECB  Executive Board Member  Isabel Schnabel  said the  central bank  must act vigorously to fight inflation in the euro area to prevent long-term inflation expectations moving even further away from the  central bank 's target of 2%. Inflation in the euro area reached double digits for the first time in September, driven by a massive surge in energy prices. According to Ms Schnabel, the  ECB  cannot rely solely on model-based forecasts in an environment characterised by abrupt changes, so the data currently coming in is now of particular importance. She added that further policy rate increases are necessary. \n",
      "8     Claims that the  ECB  Governing Council erroneously delayed the monetary policy rebalancing appear unjustified, Banca d’Italia Governor  Ignazio Visco  said in a speech organised by the Florence School of Banking and Finance. The normalisation of the monetary stance has been underway since December when the Governing Council announced the start of a reduction in net purchases of securities as part of its  QE   programmes , Mr Visco added. In the first part of 2022, the process accelerated, avoiding the potentially dangerous effects of a too strong decline; purchases were concluded on 1 July, and a few weeks later, the  ECB  started to significantly increase the official interest rates abandoning the levels that have been negative for a long time, Mr Visco explained. It is a radical change in monetary policy, Mr Visco stressed, concluding that the  ECB  has come out of the  QE  phase but is not in a monetary dominance.\n",
      "9                                                                                                                                                                                                                                                               In a speech organised by the Florence School of Banking and Finance, Banca d'Italia Governor  Ignazio Visco  talked about the  ECB 's preparatory work to decide on the introduction of a digital euro, the aim of which is to allow households and businesses to make payments using  central bank  money directly, using it in a safe, simple and inexpensive way, like cash, and without risks for financial intermediation activities. He highlighted that following the work closely, it seems that both the work coordinated by the high-level task force in which the  ECB  and the national  central banks  of the euro area are jointly engaged, and the results are satisfactory and promising.\n",
      "12                                                                                                                                                                            After the outbreak of the global financial crisis, the  ECB  had to launch a new policy aimed at raising inflation, Banca d’Italia Governor  Ignazio Visco  said in a speech organised by the Florence School of Banking and Finance. All  central banks  countered the said crisis by lowering official interest rates to zero, or even negative levels by lowering them close to their effective lower bound, Mr Visco added. The  ECB ’s measures have had an exceptional success, Mr Visco stressed, recalling how the  central bank  found a way out of a situation of deflation and debt that could have brought extraordinary risks. Moreover, the  ECB  and  central banks  do not take decisions without an agreement, even though it is not always unanimous, Mr Visco concluded.\n",
      "13                                                                                                                                                                                                                                                                                                                                                                                                                                                                                                              Banca d'Italia Governor  Ignazio Visco  has warned against the risk of derailing the public debt from the path that began last year, pointing to the need to preserve the possibility of a return to strong and lasting economic growth. Mr Visco explained how in the face of the energy shock, the attempt to completely nullify its impact on labour and capital income would be futile and would inevitably end up having repercussions on inflation.\n",
      "14                                                                                                                                                                                                                                                              In a speech organised by the Florence School of Banking and Finance, Banca d'Italia Governor  Ignazio Visco  talked about the  ECB 's preparatory work to decide on the introduction of a digital euro, the aim of which is to allow households and businesses to make payments using  central bank  money directly, using it in a safe, simple and inexpensive way, like cash, and without risks for financial intermediation activities. He highlighted that following the work closely, it seems that both the work coordinated by the high-level task force in which the  ECB  and the national  central banks  of the euro area are jointly engaged, and the results are satisfactory and promising.\n",
      "15                                                                                                                                                                                                                                                                                                                                                                                                                                                              At an event organised by the CESIFIN Foundation and the  European  University Institute (EUI) in Florence, Banca d'Italia Governor  Ignazio Visco  said that assuming that the  ECB  will blindly follow the US Federal Reserve in the coming months could be a serious mistake. Mr Visco pointed out the differences between the United States and  Europe  in the phenomenon of inflation, explaining why the normalisation of monetary policy takes place at different speeds and at different timing.\n",
      "Name: Manual.summary, dtype: object\n"
     ]
    }
   ],
   "source": [
    "print(df_final['Manual.summary'][df_final['bert_predictions'] == 'LABEL_0'].head(10))"
   ]
  }
 ],
 "metadata": {
  "kernelspec": {
   "display_name": "base",
   "language": "python",
   "name": "python3"
  },
  "language_info": {
   "codemirror_mode": {
    "name": "ipython",
    "version": 3
   },
   "file_extension": ".py",
   "mimetype": "text/x-python",
   "name": "python",
   "nbconvert_exporter": "python",
   "pygments_lexer": "ipython3",
   "version": "3.11.7"
  }
 },
 "nbformat": 4,
 "nbformat_minor": 2
}
