{
 "cells": [
  {
   "cell_type": "code",
   "execution_count": 9,
   "metadata": {},
   "outputs": [],
   "source": [
    "import pandas as pd\n",
    "import openai\n",
    "import time\n",
    "import os\n",
    "from tqdm import tqdm\n"
   ]
  },
  {
   "cell_type": "code",
   "execution_count": 10,
   "metadata": {},
   "outputs": [
    {
     "name": "stdout",
     "output_type": "stream",
     "text": [
      "OpenAI library version: 0.28.0\n"
     ]
    }
   ],
   "source": [
    "# Verify OpenAI library version\n",
    "print(f\"OpenAI library version: {openai.__version__}\")  # Should print 0.28.0"
   ]
  },
  {
   "cell_type": "code",
   "execution_count": 11,
   "metadata": {},
   "outputs": [],
   "source": [
    "# Set OpenAI API key\n",
    "openai.api_key = 'sk-proj-dvUlhrqVeqGmdn2a7b3pT3BlbkFJbWEX2j67TZIrKSZvCfzm'"
   ]
  },
  {
   "cell_type": "code",
   "execution_count": 12,
   "metadata": {},
   "outputs": [
    {
     "name": "stdout",
     "output_type": "stream",
     "text": [
      "Loading the Excel file...\n",
      "Excel file loaded successfully.\n",
      "Head of the loaded DataFrame:\n"
     ]
    },
    {
     "data": {
      "text/html": [
       "<div>\n",
       "<style scoped>\n",
       "    .dataframe tbody tr th:only-of-type {\n",
       "        vertical-align: middle;\n",
       "    }\n",
       "\n",
       "    .dataframe tbody tr th {\n",
       "        vertical-align: top;\n",
       "    }\n",
       "\n",
       "    .dataframe thead th {\n",
       "        text-align: right;\n",
       "    }\n",
       "</style>\n",
       "<table border=\"1\" class=\"dataframe\">\n",
       "  <thead>\n",
       "    <tr style=\"text-align: right;\">\n",
       "      <th></th>\n",
       "      <th>Unnamed: 0</th>\n",
       "      <th>Manual.summary</th>\n",
       "      <th>Score</th>\n",
       "    </tr>\n",
       "  </thead>\n",
       "  <tbody>\n",
       "    <tr>\n",
       "      <th>0</th>\n",
       "      <td>0</td>\n",
       "      <td>Speaking at the IMF in Washington,  ECB  Presi...</td>\n",
       "      <td>NaN</td>\n",
       "    </tr>\n",
       "    <tr>\n",
       "      <th>1</th>\n",
       "      <td>1</td>\n",
       "      <td>Starting in October, the  ECB  wants to use a ...</td>\n",
       "      <td>NaN</td>\n",
       "    </tr>\n",
       "    <tr>\n",
       "      <th>2</th>\n",
       "      <td>2</td>\n",
       "      <td>ECB  Chief Economist Philip Lane has proposed ...</td>\n",
       "      <td>NaN</td>\n",
       "    </tr>\n",
       "    <tr>\n",
       "      <th>3</th>\n",
       "      <td>3</td>\n",
       "      <td>Former German Chancellor Angela Merkel has rec...</td>\n",
       "      <td>NaN</td>\n",
       "    </tr>\n",
       "    <tr>\n",
       "      <th>4</th>\n",
       "      <td>4</td>\n",
       "      <td>The  ECB  has raised its interest rates again ...</td>\n",
       "      <td>NaN</td>\n",
       "    </tr>\n",
       "  </tbody>\n",
       "</table>\n",
       "</div>"
      ],
      "text/plain": [
       "   Unnamed: 0                                     Manual.summary  Score\n",
       "0           0  Speaking at the IMF in Washington,  ECB  Presi...    NaN\n",
       "1           1  Starting in October, the  ECB  wants to use a ...    NaN\n",
       "2           2  ECB  Chief Economist Philip Lane has proposed ...    NaN\n",
       "3           3  Former German Chancellor Angela Merkel has rec...    NaN\n",
       "4           4  The  ECB  has raised its interest rates again ...    NaN"
      ]
     },
     "execution_count": 12,
     "metadata": {},
     "output_type": "execute_result"
    }
   ],
   "source": [
    "# Construct the file path\n",
    "base_dir = r'C:\\Users\\monbi\\OneDrive\\Documents\\BSE\\Term 3\\Masters Thesis\\ECB_Perceived_Cacophony'\n",
    "file_name = 'Articles_to_Score_3000.xlsx'\n",
    "file_path = os.path.join(base_dir, file_name)\n",
    "print(\"Loading the Excel file...\")\n",
    "articles_df = pd.read_excel(file_path)\n",
    "print(\"Excel file loaded successfully.\")\n",
    "\n",
    "# Display the head of the DataFrame to check the data\n",
    "print(\"Head of the loaded DataFrame:\")\n",
    "articles_df.head()\n",
    "\n"
   ]
  },
  {
   "cell_type": "code",
   "execution_count": 13,
   "metadata": {},
   "outputs": [
    {
     "name": "stdout",
     "output_type": "stream",
     "text": [
      "Shape of the DataFrame: (3000, 3)\n"
     ]
    }
   ],
   "source": [
    "print(\"Shape of the DataFrame:\", articles_df.shape)"
   ]
  },
  {
   "cell_type": "code",
   "execution_count": 14,
   "metadata": {},
   "outputs": [],
   "source": [
    "# Define the classify and score function\n",
    "def classify_and_score_article(article, prompt):\n",
    "    while True:\n",
    "        try:\n",
    "            response = openai.ChatCompletion.create(\n",
    "                model=\"gpt-4\",\n",
    "                messages=[\n",
    "                    {\"role\": \"system\", \"content\": \"You are a financial expert.\"},\n",
    "                    {\"role\": \"user\", \"content\": prompt + article}\n",
    "                ],\n",
    "                max_tokens=150  # Adjust max_tokens if needed\n",
    "            )\n",
    "            result = response['choices'][0]['message']['content'].strip()\n",
    "\n",
    "            # Assign scores based on textual labels\n",
    "            if \"HAWKISH\" in result.upper():\n",
    "                score = 1\n",
    "            elif \"DOVISH\" in result.upper():\n",
    "                score = -1\n",
    "            elif \"NEUTRAL\" in result.upper():\n",
    "                score = 0\n",
    "            else:\n",
    "                raise ValueError(\"Incomplete response from API\")\n",
    "                \n",
    "            return score\n",
    "\n",
    "        except openai.error.RateLimitError:\n",
    "            print(\"Rate limit exceeded. Retrying in 10 seconds...\")\n",
    "            time.sleep(10)\n",
    "        except openai.error.APIError as e:\n",
    "            print(f\"API error: {e}. Retrying in 10 seconds...\")\n",
    "            time.sleep(10)\n",
    "        except Exception as e:\n",
    "            print(f\"Unexpected error: {e}. Skipping this article.\")\n",
    "            return \"Error\"\n"
   ]
  },
  {
   "cell_type": "code",
   "execution_count": 15,
   "metadata": {},
   "outputs": [
    {
     "name": "stdout",
     "output_type": "stream",
     "text": [
      "Classifying and scoring articles using OpenAI_Prompt_4 for the complete dataset...\n"
     ]
    },
    {
     "name": "stderr",
     "output_type": "stream",
     "text": [
      "Scoring Articles:  31%|███▏      | 943/3000 [2:12:45<4:56:21,  8.64s/it]"
     ]
    },
    {
     "name": "stdout",
     "output_type": "stream",
     "text": [
      "Unexpected error: Incomplete response from API. Skipping this article.\n"
     ]
    },
    {
     "name": "stderr",
     "output_type": "stream",
     "text": [
      "Scoring Articles:  58%|█████▊    | 1752/3000 [4:04:07<2:09:19,  6.22s/it]"
     ]
    },
    {
     "name": "stdout",
     "output_type": "stream",
     "text": [
      "Unexpected error: Incomplete response from API. Skipping this article.\n"
     ]
    },
    {
     "name": "stderr",
     "output_type": "stream",
     "text": [
      "Scoring Articles:  91%|█████████ | 2721/3000 [9:41:40<19:42,  4.24s/it]       "
     ]
    },
    {
     "name": "stdout",
     "output_type": "stream",
     "text": [
      "Unexpected error: Incomplete response from API. Skipping this article.\n"
     ]
    },
    {
     "name": "stderr",
     "output_type": "stream",
     "text": [
      "Scoring Articles: 100%|██████████| 3000/3000 [10:08:51<00:00, 12.18s/it]"
     ]
    },
    {
     "name": "stdout",
     "output_type": "stream",
     "text": [
      "Classification and scoring completed. Here are the first few results:\n",
      "                                      Manual.summary OpenAI_Score\n",
      "0  Speaking at the IMF in Washington,  ECB  Presi...            1\n",
      "1  Starting in October, the  ECB  wants to use a ...            0\n",
      "2  ECB  Chief Economist Philip Lane has proposed ...           -1\n",
      "3  Former German Chancellor Angela Merkel has rec...            0\n",
      "4  The  ECB  has raised its interest rates again ...            1\n"
     ]
    },
    {
     "name": "stderr",
     "output_type": "stream",
     "text": [
      "\n"
     ]
    }
   ],
   "source": [
    "# Define the best prompt\n",
    "best_prompt = \"Discard all the previous instructions. Behave like you are an expert economist. Evaluate the following statement from an ECB member from the perspective of how the media reader might interpret it. Would it likely be perceived as HAWKISH (signaling higher rates), DOVISH (signaling lower rates), or NEUTRAL (ambiguous): \"\n",
    "\n",
    "# Score each article using the best model prompt\n",
    "print(\"Classifying and scoring articles using OpenAI_Prompt_4 for the complete dataset...\")\n",
    "\n",
    "# Use tqdm to add a progress bar to the apply function\n",
    "tqdm.pandas(desc=\"Scoring Articles\")\n",
    "articles_df['OpenAI_Score'] = articles_df['Manual.summary'].progress_apply(lambda article: classify_and_score_article(article, best_prompt))\n",
    "\n",
    "# Keep only the necessary columns\n",
    "output_df = articles_df[['Manual.summary', 'OpenAI_Score']]\n",
    "\n",
    "# Display the first few rows of the updated DataFrame\n",
    "print(\"Classification and scoring completed. Here are the first few results:\")\n",
    "print(output_df.head())\n"
   ]
  },
  {
   "cell_type": "code",
   "execution_count": 16,
   "metadata": {},
   "outputs": [
    {
     "name": "stdout",
     "output_type": "stream",
     "text": [
      "Saving the results to C:\\Users\\monbi\\OneDrive\\Documents\\BSE\\Term 3\\Masters Thesis\\ECB_Perceived_Cacophony\\Scored_Articles_3000.xlsx...\n",
      "Results saved to C:\\Users\\monbi\\OneDrive\\Documents\\BSE\\Term 3\\Masters Thesis\\ECB_Perceived_Cacophony\\Scored_Articles_3000.xlsx\n",
      "Reloading the saved Excel file to verify its contents...\n",
      "Head of the reloaded DataFrame:\n",
      "                                      Manual.summary OpenAI_Score\n",
      "0  Speaking at the IMF in Washington,  ECB  Presi...            1\n",
      "1  Starting in October, the  ECB  wants to use a ...            0\n",
      "2  ECB  Chief Economist Philip Lane has proposed ...           -1\n",
      "3  Former German Chancellor Angela Merkel has rec...            0\n",
      "4  The  ECB  has raised its interest rates again ...            1\n"
     ]
    },
    {
     "ename": "",
     "evalue": "",
     "output_type": "error",
     "traceback": [
      "\u001b[1;31mThe Kernel crashed while executing code in the current cell or a previous cell. \n",
      "\u001b[1;31mPlease review the code in the cell(s) to identify a possible cause of the failure. \n",
      "\u001b[1;31mClick <a href='https://aka.ms/vscodeJupyterKernelCrash'>here</a> for more info. \n",
      "\u001b[1;31mView Jupyter <a href='command:jupyter.viewOutput'>log</a> for further details."
     ]
    }
   ],
   "source": [
    "# Save the results to a new Excel file\n",
    "output_file_name = 'Scored_Articles_3000.xlsx'\n",
    "output_file = os.path.join(base_dir, output_file_name)\n",
    "print(f\"Saving the results to {output_file}...\")\n",
    "output_df.to_excel(output_file, index=False)\n",
    "print(f\"Results saved to {output_file}\")\n",
    "\n",
    "# Reload the saved file to verify its contents\n",
    "print(\"Reloading the saved Excel file to verify its contents...\")\n",
    "verified_df = pd.read_excel(output_file)\n",
    "print(\"Head of the reloaded DataFrame:\")\n",
    "print(verified_df.head())\n"
   ]
  }
 ],
 "metadata": {
  "kernelspec": {
   "display_name": "openai_env",
   "language": "python",
   "name": "python3"
  },
  "language_info": {
   "codemirror_mode": {
    "name": "ipython",
    "version": 3
   },
   "file_extension": ".py",
   "mimetype": "text/x-python",
   "name": "python",
   "nbconvert_exporter": "python",
   "pygments_lexer": "ipython3",
   "version": "3.8.19"
  }
 },
 "nbformat": 4,
 "nbformat_minor": 2
}
